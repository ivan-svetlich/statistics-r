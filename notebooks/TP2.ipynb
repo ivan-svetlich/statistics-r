{
 "cells": [
  {
   "cell_type": "markdown",
   "id": "7bad8e7b-05c5-4e44-bed7-2738350fa4c3",
   "metadata": {},
   "source": [
    "# <div style=\"text-align: center; margin-top:2em; margin-bottom:1em\">ESTADÍSTICA PARA INGENIERÍA Y CIENCIAS</div>\n",
    "## <div style=\"text-align: center; margin-bottom:1em\">PRÁCTICA 2 : Prueba Ji-cuadrado, Tablas de contingencia, bondad de ajuste</div>\n",
    "## <div style=\"text-align: center; margin-bottom:1em\">Ivan Svetlich</div>"
   ]
  },
  {
   "cell_type": "markdown",
   "id": "e5ed8c1e-4c63-495d-a554-3b2b19abca1d",
   "metadata": {},
   "source": [
    "***\n",
    "<br></br>"
   ]
  },
  {
   "cell_type": "code",
   "execution_count": 20,
   "id": "c0eed0df-008c-4f17-acdc-04985c937787",
   "metadata": {},
   "outputs": [],
   "source": [
    "#Librerias\n",
    "library(IRdisplay)\n",
    "library(ggplot2)"
   ]
  },
  {
   "cell_type": "markdown",
   "id": "c8cfca76-4cbb-48ee-b15d-e3e16db99b7a",
   "metadata": {},
   "source": [
    "### **Ejercicio 1**"
   ]
  },
  {
   "cell_type": "markdown",
   "id": "6c04ac0f-cd2d-4b28-be47-b12f82e37e36",
   "metadata": {},
   "source": [
    "#### <div style=\"text-align: justify\">Se realizan pruebas acerca de la proporción de vaciados defectuosos producidos por 5 moldes diferentes. Si hubiera 14 defectuosos entre 100 vaciados hechos con el molde 1, 33 defectuosos entre 200 vaciados hechos con el molde 2, 21 defectuosos entre 180 vaciados hechos con el molde 3, 17 defectuosos entre 120 vaciados hechos con el molde 4 y 25 defectuosos entre 150 vaciados hechos con el molde 5, use el nivel de significancia 0.01 para probar si la verdadera proporción de defectuosos es la misma para cada molde.</div>"
   ]
  },
  {
   "cell_type": "markdown",
   "id": "501231ed-eb44-45e3-9c79-4feb124a9bd3",
   "metadata": {},
   "source": [
    "| Categoría | Vaciados correctos | Vaciados defectuosos | **Total** |\n",
    "|---|:---:|:---:|:---:|\n",
    "| Molde 1 | 86 | 14 | **100** |\n",
    "| Molde 2 | 167 | 33 | **200** |\n",
    "| Molde 3 | 159 | 21 | **180** |\n",
    "| Molde 4 | 103 | 17 | **120** |\n",
    "| Molde 5 | 125 | 25 | **150** |\n",
    "<div style=\"text-align: center\"><i>Valores observados</i></div>"
   ]
  },
  {
   "cell_type": "markdown",
   "id": "fd532d78-d916-404b-8c7a-bc2eb9bcfd26",
   "metadata": {},
   "source": [
    "Sean $r = 5$ el número de filas y $c = 2$ el número de columnas:"
   ]
  },
  {
   "cell_type": "markdown",
   "id": "f0313724-45fb-4c44-b7ac-d316eca39855",
   "metadata": {},
   "source": [
    "<div style=\"text-align: center\">$H_0: p_{1,j} = p_{2,j} = ... = p_{r,j},$ &emsp; $j = 1, ..., c$ &emsp;&emsp;$H_1: \\text{El molde utilizado y el número de vaciados defectuosos son dependientes.}$</div>"
   ]
  },
  {
   "cell_type": "code",
   "execution_count": 42,
   "id": "508c5cc4-9db4-4bb1-a005-0fac2f377ca2",
   "metadata": {},
   "outputs": [
    {
     "data": {
      "text/plain": [
       "\n",
       "\tPearson's Chi-squared test\n",
       "\n",
       "data:  data\n",
       "X-squared = 2.3704, df = 4, p-value = 0.668\n"
      ]
     },
     "metadata": {},
     "output_type": "display_data"
    },
    {
     "data": {
      "text/markdown": [
       "$\\chi^2_{\\nu={{4}},\\alpha={{0.01}}}=$ 13.2767"
      ]
     },
     "metadata": {},
     "output_type": "display_data"
    }
   ],
   "source": [
    "x <- c(14, 33, 21, 17, 25)\n",
    "y <- c(86, 167, 159, 103, 125)\n",
    "data <- data.frame(x, y)\n",
    "rownames(data) <- c(\"molde 1\", \"molde 2\", \"molde 3\", \"molde 4\", \"molde 5\")\n",
    "colnames(data) <- c(\"correctos\", \"defectuosos\")\n",
    "result <- chisq.test(data)\n",
    "result\n",
    "alpha <- 0.01\n",
    "k <- (nrow(data)-1)*(ncol(data)-1)\n",
    "chisq_value <- qchisq(1-alpha, k)\n",
    "display_markdown(paste(\"$\\\\chi^2_{\\\\nu={{4}},\\\\alpha={{0.01}}}=$\", round(chisq_value, digits=4)))"
   ]
  },
  {
   "cell_type": "markdown",
   "id": "a2d8128d-e13b-4a9d-a8a4-a8b68b90d6c4",
   "metadata": {},
   "source": [
    "<div style=\"text-align: justify\">Como $\\chi^2 = 2.3704 < 13.2767$, no hay evidencia suficiente para rechazar $H_0$. Se sostiene la hipótesis de que el número de vaciados defecuosos es independiente del molde utilizado.</div>"
   ]
  },
  {
   "cell_type": "markdown",
   "id": "983b561b-5c8b-4d6b-a3ee-7e0ea01ffcc4",
   "metadata": {},
   "source": [
    "***\n",
    "<br></br>"
   ]
  },
  {
   "cell_type": "markdown",
   "id": "f0013a35-49ec-4483-86d1-31b942d0cbf4",
   "metadata": {},
   "source": [
    "### **Ejercicio 2**"
   ]
  },
  {
   "cell_type": "markdown",
   "id": "ab4dc392-33a8-40c5-9e93-7625e676e748",
   "metadata": {},
   "source": [
    "#### <div style=\"text-align: justify\">El propietario de un comercio debe decidir cuál de dos máquinas expendedoras de bocadillos instalar en su comercio. Si cada máquina se pone a prueba 250 veces y la primera máquina falla en su operación (no entrega el bocadillo y no devuelve el dinero) 13 veces y la segunda máquina falla 7 veces, pruebe, con el nivel de significancia de 0.05, si la diferencia entre la correspondientes proporciones muestrales es significativa.</div>"
   ]
  },
  {
   "cell_type": "markdown",
   "id": "54d3fd71-88d5-4674-81c9-c3cc48e29543",
   "metadata": {},
   "source": [
    "| Categoría | Operación correcta | Falla | **Total** |\n",
    "|---|:---:|:---:|:---:|\n",
    "| Máquina 1 | 237 | 13 | **250** |\n",
    "| Máquina 2 | 243 | 7 | **250** |\n",
    "<div style=\"text-align: center\"><i>Valores observados</i></div>"
   ]
  },
  {
   "cell_type": "markdown",
   "id": "c6c3922c-ab7a-4468-a61c-5fa3fe6cee0a",
   "metadata": {},
   "source": [
    "<div style=\"text-align: center\">$H_0: p_1 - p_2 = 0$&emsp;&emsp;$H_1: p_1 - p_2 \\neq 0$</div>"
   ]
  },
  {
   "cell_type": "markdown",
   "id": "1d87c9fb-4e33-4f1e-9f1d-22761d87ff2a",
   "metadata": {},
   "source": [
    "#### <div style=\"text-align: justify\">Para ello utilice:</div>"
   ]
  },
  {
   "cell_type": "markdown",
   "id": "730d897f-1b60-4834-af1f-d24edca3989f",
   "metadata": {},
   "source": [
    "#### <div style=\"text-align: justify\">a) el estadístico $\\chi^2$</div>"
   ]
  },
  {
   "cell_type": "code",
   "execution_count": 13,
   "id": "0deae7b8-8b56-4ad1-b9da-c84dd865fcbe",
   "metadata": {},
   "outputs": [
    {
     "data": {
      "text/plain": [
       "\n",
       "\tPearson's Chi-squared test\n",
       "\n",
       "data:  data\n",
       "X-squared = 1.875, df = 1, p-value = 0.1709\n"
      ]
     },
     "metadata": {},
     "output_type": "display_data"
    },
    {
     "data": {
      "text/markdown": [
       "$\\chi^2_{\\nu={{1}},\\alpha={{0.05}}}=$ 3.8415"
      ]
     },
     "metadata": {},
     "output_type": "display_data"
    }
   ],
   "source": [
    "x <- c(13, 7)\n",
    "y <- c(237, 243)\n",
    "data <- data.frame(x, y)\n",
    "rownames(data) <- c(\"maquina 1\", \"maquina 2\")\n",
    "colnames(data) <- c(\"correcta\", \"falla\")\n",
    "result <- chisq.test(data, correct = F) # Sin corrección de Yates, para que de igual que haciendo el cálculo a mano\n",
    "result\n",
    "alpha <- 0.05\n",
    "k <- (nrow(data)-1)*(ncol(data)-1)\n",
    "chisq_value <- qchisq(1-alpha, k)\n",
    "display_markdown(paste(\"$\\\\chi^2_{\\\\nu={{1}},\\\\alpha={{0.05}}}=$\", round(chisq_value, digits=4)))"
   ]
  },
  {
   "cell_type": "markdown",
   "id": "7a92307c-bde8-4a49-a31e-1cbc63ed30a7",
   "metadata": {},
   "source": [
    "<div style=\"text-align: justify\">Como $\\chi^2 = 1.3021 < 3.8415$, no hay evidencia suficiente para rechazar $H_0$. Se sostiene la hipótesis de que el número de fallas es independiente de la máquina utilizada.</div>"
   ]
  },
  {
   "cell_type": "markdown",
   "id": "3dc0b46b-99bd-46ab-b06b-d8213e49f46b",
   "metadata": {},
   "source": [
    "#### <div style=\"text-align: justify\">b) el estadístico $$Z = \\frac{\\hat{P}_1 - \\hat{P}_2}{\\sqrt{\\hat{P}\\left(1 - \\hat{P}\\right)\\left(\\frac{1}{n_1} + \\frac{1}{n_1}\\right)}}$$</div>"
   ]
  },
  {
   "cell_type": "code",
   "execution_count": 19,
   "id": "219427da-7a91-4e0a-bff7-a6135070431c",
   "metadata": {},
   "outputs": [
    {
     "data": {
      "text/markdown": [
       "$Z=$ 1.3693"
      ]
     },
     "metadata": {},
     "output_type": "display_data"
    },
    {
     "data": {
      "text/markdown": [
       "$p$-$value =$ 0.9145"
      ]
     },
     "metadata": {},
     "output_type": "display_data"
    }
   ],
   "source": [
    "n <- 250\n",
    "p1_hat <- 13 / n\n",
    "p2_hat <- 7 / n\n",
    "p_hat <- (13 + 7) / (n + n)\n",
    "z <- (p1_hat - p2_hat) / sqrt(p_hat*(1 - p_hat)*(1/n + 1/n))\n",
    "p_value <- pnorm(z, mean = 0, sd = 1)\n",
    "display_markdown(paste(\"$Z=$\", round(z, digits=4)))\n",
    "display_markdown(paste(\"$p$-$value =$\", round(p_value, digits=4)))"
   ]
  },
  {
   "cell_type": "markdown",
   "id": "d68ce40c-e053-4821-8b21-1a385f7be956",
   "metadata": {},
   "source": [
    "<div style=\"text-align: justify\">Como el $p$-$valor =0.9145 > 0.05$, no hay evidencia suficiente para rechazar $H_0$. Nuevamente, se sostiene la hipótesis de que el número de fallas es independiente de la máquina utilizada.</div>"
   ]
  },
  {
   "cell_type": "markdown",
   "id": "8cb8adca-ce3a-4afa-8e62-ab2d7b50cbe9",
   "metadata": {},
   "source": [
    "#### <div style=\"text-align: justify\">c) Verifique que el cuadrado del valor obtenido para $Z$ en el inciso $b$ es igual al valor obtenido para $\\chi^2$ en el inciso $a$.</div>"
   ]
  },
  {
   "cell_type": "code",
   "execution_count": 18,
   "id": "ed46dfe7-05c2-40a4-a4ca-2658752bac26",
   "metadata": {},
   "outputs": [
    {
     "data": {
      "text/markdown": [
       "$\\chi^2_{\\nu={{1}},\\alpha={{0.05}}}=$ 1.875"
      ]
     },
     "metadata": {},
     "output_type": "display_data"
    },
    {
     "data": {
      "text/markdown": [
       "$Z^2=$ 1.875"
      ]
     },
     "metadata": {},
     "output_type": "display_data"
    }
   ],
   "source": [
    "display_markdown(paste(\"$\\\\chi^2_{\\\\nu={{1}},\\\\alpha={{0.05}}}=$\", round(result$statistic, digits=4)))\n",
    "display_markdown(paste(\"$Z^2=$\", round(z^2, digits=4)))"
   ]
  },
  {
   "cell_type": "markdown",
   "id": "0dfaabbf-f961-4933-a2de-706e1568e902",
   "metadata": {},
   "source": [
    "***\n",
    "<br></br>"
   ]
  },
  {
   "cell_type": "markdown",
   "id": "0f44b46f-9bd4-4ac7-8584-7401bfc65792",
   "metadata": {},
   "source": [
    "### **Ejercicio 3**"
   ]
  },
  {
   "cell_type": "markdown",
   "id": "c968f934-e846-4fea-ac74-c3fbc78184f7",
   "metadata": {},
   "source": [
    "#### <div style=\"text-align: justify\">Las tuberías de enfriamiento en tres plantas de energía nuclear se investigan por depósitos que inhibirán el flujo de agua. A partir de 30 lugares seleccionados al azar en cada planta, 13 de la primera planta, 8 de la segunda planta y 19 de la tercera estaban obstruidos.</div>"
   ]
  },
  {
   "cell_type": "markdown",
   "id": "346f3478-50e0-4943-b64d-53d2f36e6c29",
   "metadata": {},
   "source": [
    "| Planta | Sin obstrucción | Obstruídos | **Total** |\n",
    "|---|:---:|:---:|:---:|\n",
    "| Planta 1 | 17 | 13 | **30** |\n",
    "| Planta 2 | 22 | 8 | **30** |\n",
    "| Planta 3 | 11 | 19 | **30** |\n",
    "<div style=\"text-align: center\"><i>Valores observados</i></div>"
   ]
  },
  {
   "cell_type": "markdown",
   "id": "fd2f387a-03f6-4ad0-96b8-196fbac827af",
   "metadata": {},
   "source": [
    "#### <div style=\"text-align: justify\">a) Use el nivel de 0.05 para probar la hipótesis nula de igualdad.</div>"
   ]
  },
  {
   "cell_type": "markdown",
   "id": "bad7f69f-6ee8-4a87-bae4-1fff39c082ea",
   "metadata": {},
   "source": [
    "<div style=\"text-align: center\">$H_0: p_1 = p_2 = p_3$&emsp;&emsp;$H_1: \\text{La proporción de obstrucciones depende de la planta}$</div>"
   ]
  },
  {
   "cell_type": "code",
   "execution_count": 42,
   "id": "84da47e2-1afd-4e8b-9ae6-7137ddd78fbf",
   "metadata": {},
   "outputs": [
    {
     "data": {
      "text/plain": [
       "\n",
       "\tPearson's Chi-squared test\n",
       "\n",
       "data:  data\n",
       "X-squared = 8.19, df = 2, p-value = 0.01666\n"
      ]
     },
     "metadata": {},
     "output_type": "display_data"
    }
   ],
   "source": [
    "x <- c(13, 8, 19)\n",
    "y <- c(30-13, 30-8, 30-19)\n",
    "data <- data.frame(x, y)\n",
    "rownames(data) <- c(\"planta 1\", \"planta 2\", \"planta 3\")\n",
    "colnames(data) <- c(\"sin obstruccion\", \"obstruidos\")\n",
    "result <- chisq.test(data)\n",
    "result"
   ]
  },
  {
   "cell_type": "code",
   "execution_count": 45,
   "id": "191c4df6-421b-444d-ac5d-0308d473e5ee",
   "metadata": {},
   "outputs": [
    {
     "data": {
      "text/markdown": [
       "$\\chi^2_{\\nu={{2}},\\alpha={{0.05}}} = 5.99$"
      ]
     },
     "metadata": {},
     "output_type": "display_data"
    }
   ],
   "source": [
    "alpha <- 0.05\n",
    "k <- (nrow(data)-1)*(ncol(data)-1)\n",
    "chisq_value <- qchisq(1-alpha, k)\n",
    "display_markdown(sprintf(\"$\\\\chi^2_{\\\\nu={{%d}},\\\\alpha={{%.2f}}} = %.2f$\", k, alpha, chisq_value))"
   ]
  },
  {
   "cell_type": "markdown",
   "id": "bc2967c2-2ef2-44bc-9a71-c8066bc19410",
   "metadata": {},
   "source": [
    "<div style=\"text-align: justify\">Como $\\chi^2 = 8.19 > 5.99$, se rechaza $H_0$ en favor de la hipótesis alternativa de que la proporión de obstrucciones depende de la plata.</div>"
   ]
  },
  {
   "cell_type": "markdown",
   "id": "12bd427a-f821-4ee9-978a-18268d0ffc48",
   "metadata": {},
   "source": [
    "#### <div style=\"text-align: justify\">b) Grafique los intervalos de confianza para las tres probabilidades de quedar obstruido.</div>"
   ]
  },
  {
   "cell_type": "code",
   "execution_count": 55,
   "id": "d3b8f0a7-71b0-46ce-be82-10c96a37ea83",
   "metadata": {},
   "outputs": [
    {
     "data": {
      "text/markdown": [
       "Intervalo de confianza de 95% para la proporción de obstrucciones:"
      ]
     },
     "metadata": {},
     "output_type": "display_data"
    },
    {
     "data": {
      "text/markdown": [
       "$\\quad \\bullet$ Planta 1: (0.26, 0.623$)$"
      ]
     },
     "metadata": {},
     "output_type": "display_data"
    },
    {
     "data": {
      "text/markdown": [
       "$\\quad \\bullet$ Planta 2: (0.13, 0.462)"
      ]
     },
     "metadata": {},
     "output_type": "display_data"
    },
    {
     "data": {
      "text/markdown": [
       "$\\quad \\bullet$ Planta 3: (0.439, 0.795)"
      ]
     },
     "metadata": {},
     "output_type": "display_data"
    }
   ],
   "source": [
    "test1 <- prop.test(13,30,conf.level=0.95)\n",
    "test2 <- prop.test(8,30,conf.level=0.95)\n",
    "test3 <- prop.test(19,30,conf.level=0.95)\n",
    "display_markdown(\"Intervalo de confianza de 95% para la proporción de obstrucciones:\")\n",
    "display_markdown(paste(\"$\\\\quad \\\\bullet$ Planta 1: (\",\n",
    "                       round(test1$conf.int[1], digits = 3), \", \",\n",
    "                       round(test1$conf.int[2], digits = 3), \"$)$\", sep=\"\"))\n",
    "display_markdown(paste(\"$\\\\quad \\\\bullet$ Planta 2: (\",\n",
    "                       round(test2$conf.int[1], digits = 3), \", \",\n",
    "                       round(test2$conf.int[2], digits = 3), \")\", sep=\"\"))\n",
    "display_markdown(paste(\"$\\\\quad \\\\bullet$ Planta 3: (\",\n",
    "                       round(test3$conf.int[1], digits = 3), \", \",\n",
    "                       round(test3$conf.int[2], digits = 3), \")\", sep=\"\"))"
   ]
  },
  {
   "cell_type": "markdown",
   "id": "70a221bc-21fe-4fc6-8cc3-9bfe5c69df75",
   "metadata": {},
   "source": [
    "***\n",
    "<br></br>"
   ]
  },
  {
   "cell_type": "markdown",
   "id": "342ac3b7-a1ab-4a59-a9e0-20ebdf8e0cce",
   "metadata": {},
   "source": [
    "### **Ejercicio 4**"
   ]
  },
  {
   "cell_type": "markdown",
   "id": "0c5c1e50-4dd8-4685-a246-7ed909995e67",
   "metadata": {},
   "source": [
    "#### <div style=\"text-align: justify\">Se efectúa un estudio sobre las fallas de un componente electrónico. Existen cuatro tipos de fallas posibles y dos posiciones de montaje para el dispositivo. Se toman los datos siguientes</div>"
   ]
  },
  {
   "cell_type": "markdown",
   "id": "89dbd4a4-52e1-4e74-9ba7-654df7c2bb3d",
   "metadata": {},
   "source": [
    "<table>\n",
    "    <thead>\n",
    "        <tr>\n",
    "            <th style=\"border-bottom: 2px solid #bcbcbc;\"></th>\n",
    "            <th colspan=4 style=\"text-align: center; vertical-align: middle; border-bottom: 2px solid #bcbcbc; border-left: 2px solid #bcbcbc;\">Tipo de falla</th>\n",
    "        </tr>\n",
    "    </thead>\n",
    "    <tbody>\n",
    "        <tr>\n",
    "            <td style=\"text-align: center; vertical-align: middle; border-right: 2px solid #bcbcbc; border-bottom: 1px solid #bcbcbc;\"><b>Posición de montaje</b></td>\n",
    "            <td style=\"text-align: center; vertical-align: middle; border-bottom: 1px solid #bcbcbc;\">A</td>\n",
    "            <td style=\"text-align: center; vertical-align: middle; border-bottom: 1px solid #bcbcbc;\">B</td>\n",
    "            <td style=\"text-align: center; vertical-align: middle; border-bottom: 1px solid #bcbcbc;\">C</td>\n",
    "            <td style=\"text-align: center; vertical-align: middle; border-bottom: 1px solid #bcbcbc;\">D</td>\n",
    "        </tr>\n",
    "        <tr>\n",
    "            <td style=\"text-align: center; vertical-align: middle; border-right: 2px solid #bcbcbc;\">1</td>\n",
    "            <td style=\"text-align: center; vertical-align: middle;\">22</td>\n",
    "            <td style=\"text-align: center; vertical-align: middle;\">46</td>\n",
    "            <td style=\"text-align: center; vertical-align: middle;\">18</td>\n",
    "            <td style=\"text-align: center; vertical-align: middle;\">9</td>\n",
    "        </tr>\n",
    "        <tr>\n",
    "            <td style=\"text-align: center; vertical-align: middle; border-right: 2px solid #bcbcbc;\">2</td>\n",
    "            <td style=\"text-align: center; vertical-align: middle;\">4</td>\n",
    "            <td style=\"text-align: center; vertical-align: middle;\">17</td>\n",
    "            <td style=\"text-align: center; vertical-align: middle;\">6</td>\n",
    "            <td style=\"text-align: center; vertical-align: middle;\">12</td>\n",
    "        </tr>\n",
    "    </tbody>\n",
    "</table>\n",
    "<div style=\"text-align: center\"><i>Valores observados</i></div>"
   ]
  },
  {
   "cell_type": "markdown",
   "id": "120e666a-0d30-48c9-80f9-a439f1af346f",
   "metadata": {},
   "source": [
    "#### <div style=\"text-align: justify\">¿Puede concluir que el tipo de falla es independiente de la posición de montaje? Utilice $\\alpha = 0.01$. Hallar el p-valor de la prueba.</div>"
   ]
  },
  {
   "cell_type": "code",
   "execution_count": 76,
   "id": "9f087078-28f4-4215-a9d7-0722d368aba8",
   "metadata": {},
   "outputs": [
    {
     "data": {
      "text/html": [
       "<table>\n",
       "<thead><tr><th></th><th scope=col>Falla A</th><th scope=col>Falla B</th><th scope=col>Falla C</th><th scope=col>Falla D</th></tr></thead>\n",
       "<tbody>\n",
       "\t<tr><th scope=row>Posición 1</th><td>22</td><td>46</td><td>18</td><td> 9</td></tr>\n",
       "\t<tr><th scope=row>Posición 2</th><td> 4</td><td>17</td><td> 6</td><td>12</td></tr>\n",
       "</tbody>\n",
       "</table>\n"
      ],
      "text/latex": [
       "\\begin{tabular}{r|llll}\n",
       "  & Falla A & Falla B & Falla C & Falla D\\\\\n",
       "\\hline\n",
       "\tPosición 1 & 22 & 46 & 18 &  9\\\\\n",
       "\tPosición 2 &  4 & 17 &  6 & 12\\\\\n",
       "\\end{tabular}\n"
      ],
      "text/markdown": [
       "\n",
       "| <!--/--> | Falla A | Falla B | Falla C | Falla D |\n",
       "|---|---|---|---|---|\n",
       "| Posición 1 | 22 | 46 | 18 |  9 |\n",
       "| Posición 2 |  4 | 17 |  6 | 12 |\n",
       "\n"
      ],
      "text/plain": [
       "           Falla A Falla B Falla C Falla D\n",
       "Posición 1 22      46      18       9     \n",
       "Posición 2  4      17       6      12     "
      ]
     },
     "metadata": {},
     "output_type": "display_data"
    }
   ],
   "source": [
    "x1 <- c(22, 46, 18, 9)\n",
    "x2 <- c(4, 17, 6 ,12)\n",
    "data <- t(data.frame(x1, x2))\n",
    "colnames(data) <- c(\"Falla A\", \"Falla B\", \"Falla C\", \"Falla D\")\n",
    "rownames(data) <- c(\"Posición 1\", \"Posición 2\")\n",
    "data"
   ]
  },
  {
   "cell_type": "code",
   "execution_count": 77,
   "id": "57c94461-51cc-4e65-8519-c940460ef3e2",
   "metadata": {},
   "outputs": [
    {
     "data": {
      "text/plain": [
       "\n",
       "\tPearson's Chi-squared test\n",
       "\n",
       "data:  data\n",
       "X-squared = 10.706, df = 3, p-value = 0.01343\n"
      ]
     },
     "metadata": {},
     "output_type": "display_data"
    }
   ],
   "source": [
    "result <- chisq.test(data)\n",
    "result"
   ]
  },
  {
   "cell_type": "code",
   "execution_count": 78,
   "id": "c129265a-69c2-4dd3-97e2-33e8e381ce18",
   "metadata": {},
   "outputs": [
    {
     "data": {
      "text/markdown": [
       "$\\chi^2_{\\nu={{3}},\\alpha={{0.01}}} = 11.345$"
      ]
     },
     "metadata": {},
     "output_type": "display_data"
    }
   ],
   "source": [
    "alpha <- 0.01\n",
    "k <- (nrow(data)-1)*(ncol(data)-1)\n",
    "chisq_value <- qchisq(1-alpha, k)\n",
    "display_markdown(sprintf(\"$\\\\chi^2_{\\\\nu={{%d}},\\\\alpha={{%.2f}}} = %.3f$\", k, alpha, chisq_value))"
   ]
  },
  {
   "cell_type": "markdown",
   "id": "bf49f6ef-1b27-4459-8ed1-edb874c59ee1",
   "metadata": {},
   "source": [
    "<div style=\"text-align: justify\">Como $\\chi^2 = 10.706 < 11.345$, no hay evidencia sufieciente para rechazar $H_0$ y se concluye que el tipo de falla es independiente de la posición de montaje.</div>"
   ]
  },
  {
   "cell_type": "code",
   "execution_count": 79,
   "id": "573c4543-7321-4342-8e04-ccec5a048273",
   "metadata": {},
   "outputs": [
    {
     "data": {
      "text/markdown": [
       "$p$-$valor = 0.01343 > 0.01$"
      ]
     },
     "metadata": {},
     "output_type": "display_data"
    }
   ],
   "source": [
    "display_markdown(sprintf(\"$p$-$valor = %.5f > %.2f$\", result$p.value, alpha))"
   ]
  },
  {
   "cell_type": "markdown",
   "id": "7fcd8b88-5def-4a95-998b-d221d2cc6ae3",
   "metadata": {},
   "source": [
    "***\n",
    "<br></br>"
   ]
  },
  {
   "cell_type": "markdown",
   "id": "fa56afd1-b91b-4ef2-b269-236025ada847",
   "metadata": {
    "tags": []
   },
   "source": [
    "### **Ejercicio 5**"
   ]
  },
  {
   "cell_type": "markdown",
   "id": "d78c32cc-ac6a-4f55-842e-ce11a3650cab",
   "metadata": {},
   "source": [
    "#### <div style=\"text-align: justify\">Una compañía opera cuatro máquinas tres turnos al día. De los registros de producción, se obtienen los datos siguientes sobre el número de fallas</div>"
   ]
  },
  {
   "cell_type": "markdown",
   "id": "09ebd427-94c5-4e44-ae88-00a320658dfc",
   "metadata": {},
   "source": [
    "<table>\n",
    "    <thead>\n",
    "        <tr>\n",
    "            <th style=\"border-bottom: 2px solid #bcbcbc;\"></th>\n",
    "            <th colspan=4 style=\"text-align: center; vertical-align: middle; border-bottom: 2px solid #bcbcbc; border-left: 2px solid #bcbcbc;\">Máquina</th>\n",
    "        </tr>\n",
    "    </thead>\n",
    "    <tbody>\n",
    "        <tr>\n",
    "            <td style=\"text-align: center; vertical-align: middle; border-right: 2px solid #bcbcbc; border-bottom: 1px solid #bcbcbc;\"><b>Turno</b></td>\n",
    "            <td style=\"text-align: center; vertical-align: middle; border-bottom: 1px solid #bcbcbc;\">A</td>\n",
    "            <td style=\"text-align: center; vertical-align: middle; border-bottom: 1px solid #bcbcbc;\">B</td>\n",
    "            <td style=\"text-align: center; vertical-align: middle; border-bottom: 1px solid #bcbcbc;\">C</td>\n",
    "            <td style=\"text-align: center; vertical-align: middle; border-bottom: 1px solid #bcbcbc;\">D</td>\n",
    "        </tr>\n",
    "        <tr>\n",
    "            <td style=\"text-align: center; vertical-align: middle; border-right: 2px solid #bcbcbc;\">1</td>\n",
    "            <td style=\"text-align: center; vertical-align: middle;\">41</td>\n",
    "            <td style=\"text-align: center; vertical-align: middle;\">20</td>\n",
    "            <td style=\"text-align: center; vertical-align: middle;\">12</td>\n",
    "            <td style=\"text-align: center; vertical-align: middle;\">16</td>\n",
    "        </tr>\n",
    "        <tr>\n",
    "            <td style=\"text-align: center; vertical-align: middle; border-right: 2px solid #bcbcbc;\">2</td>\n",
    "            <td style=\"text-align: center; vertical-align: middle;\">31</td>\n",
    "            <td style=\"text-align: center; vertical-align: middle;\">11</td>\n",
    "            <td style=\"text-align: center; vertical-align: middle;\">9</td>\n",
    "            <td style=\"text-align: center; vertical-align: middle;\">14</td>\n",
    "        </tr>\n",
    "        <tr>\n",
    "            <td style=\"text-align: center; vertical-align: middle; border-right: 2px solid #bcbcbc;\">3</td>\n",
    "            <td style=\"text-align: center; vertical-align: middle;\">15</td>\n",
    "            <td style=\"text-align: center; vertical-align: middle;\">17</td>\n",
    "            <td style=\"text-align: center; vertical-align: middle;\">16</td>\n",
    "            <td style=\"text-align: center; vertical-align: middle;\">10</td>\n",
    "        </tr>\n",
    "    </tbody>\n",
    "</table>\n",
    "<div style=\"text-align: center\"><i>Valores observados</i></div>"
   ]
  },
  {
   "cell_type": "markdown",
   "id": "8c671f8a-d691-4ec5-acbc-4eab54ef0629",
   "metadata": {},
   "source": [
    "#### <div style=\"text-align: justify\">Pruebe la hipótesis, con nivel de significancia 0.05, de que el número de fallas es independiente del turno. Encuentre el P-valor de la prueba.</div>"
   ]
  },
  {
   "cell_type": "code",
   "execution_count": 70,
   "id": "7ac9e193-bc11-45cd-8c22-47813bd3e9d6",
   "metadata": {},
   "outputs": [
    {
     "data": {
      "text/html": [
       "<table>\n",
       "<thead><tr><th></th><th scope=col>Máquina A</th><th scope=col>Máquina B</th><th scope=col>Máquina C</th><th scope=col>Máquina D</th></tr></thead>\n",
       "<tbody>\n",
       "\t<tr><th scope=row>Turno 1</th><td>41</td><td>20</td><td>12</td><td>16</td></tr>\n",
       "\t<tr><th scope=row>Turno 2</th><td>31</td><td>11</td><td> 9</td><td>14</td></tr>\n",
       "\t<tr><th scope=row>Turno 3</th><td>15</td><td>17</td><td>16</td><td>10</td></tr>\n",
       "</tbody>\n",
       "</table>\n"
      ],
      "text/latex": [
       "\\begin{tabular}{r|llll}\n",
       "  & Máquina A & Máquina B & Máquina C & Máquina D\\\\\n",
       "\\hline\n",
       "\tTurno 1 & 41 & 20 & 12 & 16\\\\\n",
       "\tTurno 2 & 31 & 11 &  9 & 14\\\\\n",
       "\tTurno 3 & 15 & 17 & 16 & 10\\\\\n",
       "\\end{tabular}\n"
      ],
      "text/markdown": [
       "\n",
       "| <!--/--> | Máquina A | Máquina B | Máquina C | Máquina D |\n",
       "|---|---|---|---|---|\n",
       "| Turno 1 | 41 | 20 | 12 | 16 |\n",
       "| Turno 2 | 31 | 11 |  9 | 14 |\n",
       "| Turno 3 | 15 | 17 | 16 | 10 |\n",
       "\n"
      ],
      "text/plain": [
       "        Máquina A Máquina B Máquina C Máquina D\n",
       "Turno 1 41        20        12        16       \n",
       "Turno 2 31        11         9        14       \n",
       "Turno 3 15        17        16        10       "
      ]
     },
     "metadata": {},
     "output_type": "display_data"
    }
   ],
   "source": [
    "x1 <- c(41, 20, 12, 16)\n",
    "x2 <- c(31, 11, 9, 14)\n",
    "x3 <- c(15, 17, 16, 10)\n",
    "data <- t(data.frame(x1, x2, x3))\n",
    "colnames(data) <- c(\"Máquina A\", \"Máquina B\", \"Máquina C\", \"Máquina D\")\n",
    "rownames(data) <- c(\"Turno 1\", \"Turno 2\", \"Turno 3\")\n",
    "data"
   ]
  },
  {
   "cell_type": "code",
   "execution_count": 71,
   "id": "3c1f40f1-2346-4792-90c7-13e0624412fb",
   "metadata": {},
   "outputs": [
    {
     "data": {
      "text/plain": [
       "\n",
       "\tPearson's Chi-squared test\n",
       "\n",
       "data:  data\n",
       "X-squared = 11.649, df = 6, p-value = 0.07027\n"
      ]
     },
     "metadata": {},
     "output_type": "display_data"
    }
   ],
   "source": [
    "result <- chisq.test(data)\n",
    "result"
   ]
  },
  {
   "cell_type": "code",
   "execution_count": 72,
   "id": "b7cabfcf-5d4d-4a38-a245-cffde53baec1",
   "metadata": {},
   "outputs": [
    {
     "data": {
      "text/markdown": [
       "$\\chi^2_{\\nu={{6}},\\alpha={{0.05}}} = 12.592$"
      ]
     },
     "metadata": {},
     "output_type": "display_data"
    }
   ],
   "source": [
    "alpha <- 0.05\n",
    "k <- (nrow(data)-1)*(ncol(data)-1)\n",
    "chisq_value <- qchisq(1-alpha, k)\n",
    "display_markdown(sprintf(\"$\\\\chi^2_{\\\\nu={{%d}},\\\\alpha={{%.2f}}} = %.3f$\", k, alpha, chisq_value))"
   ]
  },
  {
   "cell_type": "markdown",
   "id": "840c78ef-21a8-4551-ae6c-c51b532a5768",
   "metadata": {},
   "source": [
    "<div style=\"text-align: justify\">Como $\\chi^2 = 11.649 < 12.592$, no hay evidencia sufieciente para rechazar $H_0$ y se concluye que el número de fallas es independiente del turno.</div>"
   ]
  },
  {
   "cell_type": "code",
   "execution_count": 73,
   "id": "2bd3ffd9-d439-4ca5-8f52-3fb5b80b688c",
   "metadata": {},
   "outputs": [
    {
     "data": {
      "text/markdown": [
       "$p$-$valor = 0.07027 > 0.05$"
      ]
     },
     "metadata": {},
     "output_type": "display_data"
    }
   ],
   "source": [
    "display_markdown(sprintf(\"$p$-$valor = %.5f > %.2f$\", result$p.value, alpha))"
   ]
  },
  {
   "cell_type": "markdown",
   "id": "e4e75b83-e924-437a-8725-509c74fa2e21",
   "metadata": {},
   "source": [
    "***\n",
    "<br></br>"
   ]
  },
  {
   "cell_type": "markdown",
   "id": "43b48015-d3e5-4638-b8d6-196a8ac475ef",
   "metadata": {
    "tags": []
   },
   "source": [
    "### **Ejercicio 6**"
   ]
  },
  {
   "cell_type": "markdown",
   "id": "bea4a1a7-7b17-4135-a838-ee6505b6f045",
   "metadata": {
    "tags": []
   },
   "source": [
    "#### <div style=\"text-align: justify\">Un grupo de estudiantes de Ingeniería civil ha registrado el número de automóviles que transitan hacia el este en la intersección de dos avenidas y obtienen los siguientes datos</div>"
   ]
  },
  {
   "cell_type": "markdown",
   "id": "2520cc23-f93b-49e1-8433-1a5dff21bc8e",
   "metadata": {},
   "source": [
    "<table>\n",
    "    <thead>\n",
    "    <tbody>\n",
    "        <tr>\n",
    "            <td style=\"text-align: center; vertical-align: middle; border-right: 2px solid #bcbcbc; border-bottom: 1px solid #bcbcbc;\"><b>Vehículos por minuto</b></td>\n",
    "            <td style=\"text-align: center; vertical-align: middle; border-bottom: 1px solid #bcbcbc;\">40</td>\n",
    "            <td style=\"text-align: center; vertical-align: middle; border-bottom: 1px solid #bcbcbc;\">41</td>\n",
    "            <td style=\"text-align: center; vertical-align: middle; border-bottom: 1px solid #bcbcbc;\">42</td>\n",
    "            <td style=\"text-align: center; vertical-align: middle; border-bottom: 1px solid #bcbcbc;\">43</td>\n",
    "            <td style=\"text-align: center; vertical-align: middle; border-bottom: 1px solid #bcbcbc;\">44</td>\n",
    "            <td style=\"text-align: center; vertical-align: middle; border-bottom: 1px solid #bcbcbc;\">45</td>\n",
    "            <td style=\"text-align: center; vertical-align: middle; border-bottom: 1px solid #bcbcbc;\">46</td>\n",
    "            <td style=\"text-align: center; vertical-align: middle; border-bottom: 1px solid #bcbcbc;\">47</td>\n",
    "            <td style=\"text-align: center; vertical-align: middle; border-bottom: 1px solid #bcbcbc;\">48</td>\n",
    "            <td style=\"text-align: center; vertical-align: middle; border-bottom: 1px solid #bcbcbc;\">49</td>\n",
    "            <td style=\"text-align: center; vertical-align: middle; border-bottom: 1px solid #bcbcbc;\">50</td>\n",
    "            <td style=\"text-align: center; vertical-align: middle; border-bottom: 1px solid #bcbcbc;\">51</td>\n",
    "            <td style=\"text-align: center; vertical-align: middle; border-bottom: 1px solid #bcbcbc;\">52</td>\n",
    "            <td style=\"text-align: center; vertical-align: middle; border-bottom: 1px solid #bcbcbc;\">53</td>\n",
    "            <td style=\"text-align: center; vertical-align: middle; border-bottom: 1px solid #bcbcbc;\">54</td>\n",
    "            <td style=\"text-align: center; vertical-align: middle; border-bottom: 1px solid #bcbcbc;\">55</td>\n",
    "            <td style=\"text-align: center; vertical-align: middle; border-bottom: 1px solid #bcbcbc;\">56</td>\n",
    "            <td style=\"text-align: center; vertical-align: middle; border-bottom: 1px solid #bcbcbc;\">57</td>\n",
    "            <td style=\"text-align: center; vertical-align: middle; border-bottom: 1px solid #bcbcbc;\">58</td>\n",
    "            <td style=\"text-align: center; vertical-align: middle; border-bottom: 1px solid #bcbcbc;\">59</td>\n",
    "            <td style=\"text-align: center; vertical-align: middle; border-bottom: 1px solid #bcbcbc;\">60</td>\n",
    "            <td style=\"text-align: center; vertical-align: middle; border-bottom: 1px solid #bcbcbc;\">61</td>\n",
    "            <td style=\"text-align: center; vertical-align: middle; border-bottom: 1px solid #bcbcbc;\">62</td>\n",
    "            <td style=\"text-align: center; vertical-align: middle; border-bottom: 1px solid #bcbcbc;\">63</td>\n",
    "            <td style=\"text-align: center; vertical-align: middle; border-bottom: 1px solid #bcbcbc;\">64</td>\n",
    "            <td style=\"text-align: center; vertical-align: middle; border-bottom: 1px solid #bcbcbc;\">65</td>\n",
    "        </tr>\n",
    "        <tr>\n",
    "            <td style=\"text-align: center; vertical-align: middle; border-right: 2px solid #bcbcbc;\"><b>Frecuencia observada</b></td>\n",
    "            <td style=\"text-align: center; vertical-align: middle;\">14</td>\n",
    "            <td style=\"text-align: center; vertical-align: middle;\">24</td>\n",
    "            <td style=\"text-align: center; vertical-align: middle;\">57</td>\n",
    "            <td style=\"text-align: center; vertical-align: middle;\">111</td>\n",
    "            <td style=\"text-align: center; vertical-align: middle;\">194</td>\n",
    "            <td style=\"text-align: center; vertical-align: middle;\">256</td>\n",
    "            <td style=\"text-align: center; vertical-align: middle;\">296</td>\n",
    "            <td style=\"text-align: center; vertical-align: middle;\">378</td>\n",
    "            <td style=\"text-align: center; vertical-align: middle;\">250</td>\n",
    "            <td style=\"text-align: center; vertical-align: middle;\">185</td>\n",
    "            <td style=\"text-align: center; vertical-align: middle;\">171</td>\n",
    "            <td style=\"text-align: center; vertical-align: middle;\">150</td>\n",
    "            <td style=\"text-align: center; vertical-align: middle;\">110</td>\n",
    "            <td style=\"text-align: center; vertical-align: middle;\">102</td>\n",
    "            <td style=\"text-align: center; vertical-align: middle;\">96</td>\n",
    "            <td style=\"text-align: center; vertical-align: middle;\">90</td>\n",
    "            <td style=\"text-align: center; vertical-align: middle;\">81</td>\n",
    "            <td style=\"text-align: center; vertical-align: middle;\">73</td>\n",
    "            <td style=\"text-align: center; vertical-align: middle;\">64</td>\n",
    "            <td style=\"text-align: center; vertical-align: middle;\">61</td>\n",
    "            <td style=\"text-align: center; vertical-align: middle;\">59</td>\n",
    "            <td style=\"text-align: center; vertical-align: middle;\">50</td>\n",
    "            <td style=\"text-align: center; vertical-align: middle;\">42</td>\n",
    "            <td style=\"text-align: center; vertical-align: middle;\">29</td>\n",
    "            <td style=\"text-align: center; vertical-align: middle;\">18</td>\n",
    "            <td style=\"text-align: center; vertical-align: middle;\">15</td>\n",
    "        </tr>\n",
    "    </tbody>\n",
    "</table>\n",
    "<div style=\"text-align: center\"><i>Valores observados</i></div>"
   ]
  },
  {
   "cell_type": "markdown",
   "id": "1eb1ed59-30d2-4490-b402-7e3444320347",
   "metadata": {},
   "source": [
    "#### <div style=\"text-align: justify\">Para este proceso, ¿la hipótesis de una distribución Poisson resulta ser un modelo de probabilidad apropiado? Utilice $\\alpha = 0.05$. Calcule el $p$-$valor$.</div>"
   ]
  },
  {
   "cell_type": "code",
   "execution_count": 48,
   "id": "a48c79e3-228f-46cd-8c4b-41ecc433ce96",
   "metadata": {},
   "outputs": [
    {
     "data": {
      "text/html": [
       "<table>\n",
       "<tbody>\n",
       "\t<tr><th scope=row>Vehículos por minuto</th><td>40 </td><td>41 </td><td>42 </td><td> 43</td><td> 44</td><td> 45</td><td> 46</td><td> 47</td><td> 48</td><td> 49</td><td>...</td><td>56 </td><td>57 </td><td>58 </td><td>59 </td><td>60 </td><td>61 </td><td>62 </td><td>63 </td><td>64 </td><td>65 </td></tr>\n",
       "\t<tr><th scope=row>Frecuencia observada</th><td>14 </td><td>24 </td><td>57 </td><td>111</td><td>194</td><td>256</td><td>296</td><td>378</td><td>250</td><td>185</td><td>...</td><td>81 </td><td>73 </td><td>64 </td><td>61 </td><td>59 </td><td>50 </td><td>42 </td><td>29 </td><td>18 </td><td>15 </td></tr>\n",
       "</tbody>\n",
       "</table>\n"
      ],
      "text/latex": [
       "\\begin{tabular}{r|llllllllllllllllllllllllll}\n",
       "\tVehículos por minuto & 40  & 41  & 42  &  43 &  44 &  45 &  46 &  47 &  48 &  49 & ... & 56  & 57  & 58  & 59  & 60  & 61  & 62  & 63  & 64  & 65 \\\\\n",
       "\tFrecuencia observada & 14  & 24  & 57  & 111 & 194 & 256 & 296 & 378 & 250 & 185 & ... & 81  & 73  & 64  & 61  & 59  & 50  & 42  & 29  & 18  & 15 \\\\\n",
       "\\end{tabular}\n"
      ],
      "text/markdown": [
       "\n",
       "| Vehículos por minuto | 40  | 41  | 42  |  43 |  44 |  45 |  46 |  47 |  48 |  49 | ... | 56  | 57  | 58  | 59  | 60  | 61  | 62  | 63  | 64  | 65  |\n",
       "| Frecuencia observada | 14  | 24  | 57  | 111 | 194 | 256 | 296 | 378 | 250 | 185 | ... | 81  | 73  | 64  | 61  | 59  | 50  | 42  | 29  | 18  | 15  |\n",
       "\n"
      ],
      "text/plain": [
       "                     [,1] [,2] [,3] [,4] [,5] [,6] [,7] [,8] [,9] [,10] [,11]\n",
       "Vehículos por minuto 40   41   42    43   44   45   46   47   48   49   ...  \n",
       "Frecuencia observada 14   24   57   111  194  256  296  378  250  185   ...  \n",
       "                     [,12] [,13] [,14] [,15] [,16] [,17] [,18] [,19] [,20]\n",
       "Vehículos por minuto 56    57    58    59    60    61    62    63    64   \n",
       "Frecuencia observada 81    73    64    61    59    50    42    29    18   \n",
       "                     [,21]\n",
       "Vehículos por minuto 65   \n",
       "Frecuencia observada 15   "
      ]
     },
     "metadata": {},
     "output_type": "display_data"
    }
   ],
   "source": [
    "x <- 40:65\n",
    "frec <- c(14, 24, 57, 111, 194, 256, 296, 378, 250, 185, 171, 150, 110, 102, 96, 90, 81, 73, 64, 61, 59, 50, 42, 29, 18, 15)\n",
    "data <- t(data.frame(x, frec))\n",
    "rownames(data) <- c(\"Vehículos por minuto\", \"Frecuencia observada\")\n",
    "data"
   ]
  },
  {
   "cell_type": "code",
   "execution_count": 50,
   "id": "92234a6f-a993-47fb-a98a-58164fbf0c44",
   "metadata": {},
   "outputs": [
    {
     "data": {
      "image/png": "[encoded data removed]",
      "text/plain": [
       "plot without title"
      ]
     },
     "metadata": {},
     "output_type": "display_data"
    }
   ],
   "source": [
    "options(repr.plot.width=7, repr.plot.height=4)\n",
    "df <- data.frame(x, frec)\n",
    "ggplot(df, aes(x=x, y=frec)) +\n",
    "geom_point(color= '#7161ff') +\n",
    "geom_segment(aes(x=x, xend=x, y=0, yend=frec), color='#7161ff') +\n",
    "geom_line(aes(x, 0), color = 'black', size = .2) +\n",
    "xlab(\"Vehículos por minuto\") +\n",
    "ylab(\"Frecuencia observada\") + theme_light()"
   ]
  },
  {
   "cell_type": "code",
   "execution_count": 117,
   "id": "356367c7-6f78-46d8-b952-c174ed0bf493",
   "metadata": {},
   "outputs": [
    {
     "data": {
      "text/markdown": [
       "$\\chi^2 = 1311.05$"
      ]
     },
     "metadata": {},
     "output_type": "display_data"
    }
   ],
   "source": [
    "N <- sum(frec)\n",
    "n <- length(x)\n",
    "lambda <- sum(x * frec) / N\n",
    "e <- N * dpois(x, lambda)\n",
    "e[1] <- N * ppois(x[1], lambda)\n",
    "e[n] <- N * (1 - ppois(x[n], lambda))\n",
    "chi_sq <- sum((x - e)^2 / e)\n",
    "display_markdown(sprintf(\"$\\\\chi^2 = %.2f$\", chi_sq))"
   ]
  },
  {
   "cell_type": "code",
   "execution_count": 118,
   "id": "df1ce6ec-0e09-40e0-b522-6834590c8ffb",
   "metadata": {},
   "outputs": [
    {
     "data": {
      "text/markdown": [
       "$\\chi^2_{\\nu={{24}},\\alpha={{0.05}}} = 36.42$"
      ]
     },
     "metadata": {},
     "output_type": "display_data"
    }
   ],
   "source": [
    "p <- 1 #se estima 1 parámetro\n",
    "k <- n - p - 1 \n",
    "alpha <- 0.05\n",
    "chisq_value <- qchisq(1-alpha, k)\n",
    "display_markdown(sprintf(\"$\\\\chi^2_{\\\\nu={{%d}},\\\\alpha={{%.2f}}} = %.2f$\", k, alpha, chisq_value))"
   ]
  },
  {
   "cell_type": "markdown",
   "id": "abbf8057-84cd-4532-b70f-061d2948ea36",
   "metadata": {},
   "source": [
    "<div style=\"text-align: justify\">Como $\\chi^2 = 1311.05 > 36.42$, se rechaza la hipótesis de que los datos obtenidos provienen de un distribución Poisson.</div>"
   ]
  },
  {
   "cell_type": "code",
   "execution_count": 121,
   "id": "392a7e46-0c19-4e58-8d8d-eae4bc316e59",
   "metadata": {},
   "outputs": [
    {
     "data": {
      "text/markdown": [
       "$p$-$valor = 0 < 0.05$"
      ]
     },
     "metadata": {},
     "output_type": "display_data"
    }
   ],
   "source": [
    "p_valor <- 1- pchisq(chi_sq, k)\n",
    "display_markdown(sprintf(\"$p$-$valor = %.0f < %.2f$\", p_valor, alpha))"
   ]
  },
  {
   "cell_type": "markdown",
   "id": "c846f9f2-66c1-4886-87c2-8106d5c13a86",
   "metadata": {},
   "source": [
    "***\n",
    "<br></br>"
   ]
  },
  {
   "cell_type": "markdown",
   "id": "c6248e8c-a16b-4ffc-87c7-5c1949f1b725",
   "metadata": {
    "tags": []
   },
   "source": [
    "### **Ejercicio 7**"
   ]
  },
  {
   "cell_type": "markdown",
   "id": "fa95e57b-872a-4121-b80b-182f49185306",
   "metadata": {
    "tags": []
   },
   "source": [
    "#### <div style=\"text-align: justify\">Se diseña un generador de números seudoaleatorios de modo que los enteros 0 a 9 tengan la misma probabilidad de ocurrencia. Los primeros 10000 números son</div>"
   ]
  },
  {
   "cell_type": "markdown",
   "id": "42e04577-17b7-48c7-a720-507f559e0fe2",
   "metadata": {},
   "source": [
    "<table>\n",
    "    <thead>\n",
    "    <tbody>\n",
    "        <tr>\n",
    "            <td style=\"text-align: center; vertical-align: middle; border-right: 2px solid #bcbcbc; border-bottom: 1px solid #bcbcbc;\"><b>Número</b></td>\n",
    "            <td style=\"text-align: center; vertical-align: middle; border-bottom: 1px solid #bcbcbc;\">0</td>\n",
    "            <td style=\"text-align: center; vertical-align: middle; border-bottom: 1px solid #bcbcbc;\">1</td>\n",
    "            <td style=\"text-align: center; vertical-align: middle; border-bottom: 1px solid #bcbcbc;\">2</td>\n",
    "            <td style=\"text-align: center; vertical-align: middle; border-bottom: 1px solid #bcbcbc;\">3</td>\n",
    "            <td style=\"text-align: center; vertical-align: middle; border-bottom: 1px solid #bcbcbc;\">4</td>\n",
    "            <td style=\"text-align: center; vertical-align: middle; border-bottom: 1px solid #bcbcbc;\">5</td>\n",
    "            <td style=\"text-align: center; vertical-align: middle; border-bottom: 1px solid #bcbcbc;\">6</td>\n",
    "            <td style=\"text-align: center; vertical-align: middle; border-bottom: 1px solid #bcbcbc;\">7</td>\n",
    "            <td style=\"text-align: center; vertical-align: middle; border-bottom: 1px solid #bcbcbc;\">8</td>\n",
    "            <td style=\"text-align: center; vertical-align: middle; border-bottom: 1px solid #bcbcbc;\">9</td>            \n",
    "        </tr>\n",
    "        <tr>\n",
    "            <td style=\"text-align: center; vertical-align: middle; border-right: 2px solid #bcbcbc;\"><b>Frecuencia observada</b></td>\n",
    "            <td style=\"text-align: center; vertical-align: middle;\">967</td>\n",
    "            <td style=\"text-align: center; vertical-align: middle;\">1008</td>\n",
    "            <td style=\"text-align: center; vertical-align: middle;\">975</td>\n",
    "            <td style=\"text-align: center; vertical-align: middle;\">1022</td>\n",
    "            <td style=\"text-align: center; vertical-align: middle;\">1003</td>\n",
    "            <td style=\"text-align: center; vertical-align: middle;\">989</td>\n",
    "            <td style=\"text-align: center; vertical-align: middle;\">1001</td>\n",
    "            <td style=\"text-align: center; vertical-align: middle;\">981</td>\n",
    "            <td style=\"text-align: center; vertical-align: middle;\">1043</td>  \n",
    "            <td style=\"text-align: center; vertical-align: middle;\">1011</td>  \n",
    "        </tr>\n",
    "    </tbody>\n",
    "</table>\n",
    "<div style=\"text-align: center\"><i>Valores observados</i></div>"
   ]
  },
  {
   "cell_type": "markdown",
   "id": "2280a591-0888-4f0c-be64-6c88fc975f79",
   "metadata": {},
   "source": [
    "#### <div style=\"text-align: justify\">¿El generador trabaja de manera apropiada? Utilice $\\alpha = 0.01$. Calcule el $p$-$valor$.</div>"
   ]
  },
  {
   "cell_type": "markdown",
   "id": "b8822ebb-f2d9-47cf-b0ce-587ba9cef2e2",
   "metadata": {},
   "source": [
    "<div style=\"text-align: justify\">Sea $p_i$ la probabilidad de ocurrencia del número $i$:</div>"
   ]
  },
  {
   "cell_type": "markdown",
   "id": "94e19737-0094-48bf-9826-198779ea7706",
   "metadata": {},
   "source": [
    "<div style=\"text-align: center\">$H_0: p_0 = p_1 = \\ldots = p_9 = 0.1$</div>"
   ]
  },
  {
   "cell_type": "code",
   "execution_count": 105,
   "id": "a21de686-ccea-4942-bec6-33034bef388e",
   "metadata": {},
   "outputs": [
    {
     "data": {
      "text/html": [
       "<table>\n",
       "<tbody>\n",
       "\t<tr><th scope=row>Número</th><td>  0 </td><td>   1</td><td>  2 </td><td>   3</td><td>   4</td><td>  5 </td><td>   6</td><td>  7 </td><td>   8</td><td>   9</td></tr>\n",
       "\t<tr><th scope=row>Frecuencia</th><td>967 </td><td>1008</td><td>975 </td><td>1022</td><td>1003</td><td>989 </td><td>1001</td><td>981 </td><td>1043</td><td>1011</td></tr>\n",
       "</tbody>\n",
       "</table>\n"
      ],
      "text/latex": [
       "\\begin{tabular}{r|llllllllll}\n",
       "\tNúmero &   0  &    1 &   2  &    3 &    4 &   5  &    6 &   7  &    8 &    9\\\\\n",
       "\tFrecuencia & 967  & 1008 & 975  & 1022 & 1003 & 989  & 1001 & 981  & 1043 & 1011\\\\\n",
       "\\end{tabular}\n"
      ],
      "text/markdown": [
       "\n",
       "| Número |   0  |    1 |   2  |    3 |    4 |   5  |    6 |   7  |    8 |    9 |\n",
       "| Frecuencia | 967  | 1008 | 975  | 1022 | 1003 | 989  | 1001 | 981  | 1043 | 1011 |\n",
       "\n"
      ],
      "text/plain": [
       "           [,1] [,2] [,3] [,4] [,5] [,6] [,7] [,8] [,9] [,10]\n",
       "Número       0     1   2     3    4   5     6   7     8    9 \n",
       "Frecuencia 967  1008 975  1022 1003 989  1001 981  1043 1011 "
      ]
     },
     "metadata": {},
     "output_type": "display_data"
    }
   ],
   "source": [
    "x <- 0:9\n",
    "freq <- c(967, 1008, 975, 1022, 1003, 989, 1001, 981, 1043, 1011)\n",
    "n <- 10000\n",
    "df <- data.frame(x, freq)\n",
    "data <- t(df)\n",
    "rownames(data) <- c(\"Número\", \"Frecuencia\")\n",
    "data"
   ]
  },
  {
   "cell_type": "code",
   "execution_count": 106,
   "id": "f4601d06-d933-4b5c-98bb-b72451a7efdf",
   "metadata": {},
   "outputs": [],
   "source": [
    "e <- n / length(x) # valor esperado\n",
    "df_unif <- data.frame(x=x, freq=rep(e, length(x))) # distribución uniforme discreta en el rango 0-9\n",
    "all_values <- rbind(df,df_unif)\n",
    "all_values$dataset <- c(rep(\"observada\", nrow(df)), rep(\"esperada\", nrow(df_unif)))"
   ]
  },
  {
   "cell_type": "code",
   "execution_count": 107,
   "id": "7214127c-c340-4598-88f2-1f7eeb76abb3",
   "metadata": {},
   "outputs": [
    {
     "data": {
      "image/png": "[encoded data removed]",
      "text/plain": [
       "plot without title"
      ]
     },
     "metadata": {},
     "output_type": "display_data"
    }
   ],
   "source": [
    "# Gráfico\n",
    "options(repr.plot.width=7, repr.plot.height=4)\n",
    "df <- data.frame(x, frec)\n",
    "ggplot(all_values, aes(x=all_values$x, y=all_values$freq, col=dataset, shape=dataset, alpha=dataset)) +\n",
    "ggtitle(\"Frecuencias esperadas vs. observadas\") +\n",
    "geom_point(size=3) +\n",
    "geom_segment(aes(x=all_values$x, xend=all_values$x, y=0, yend=e), color='#a399ff', alpha=0.5) +\n",
    "geom_line(aes(x, 0), color = 'black', size = .2) +\n",
    "scale_color_manual(name=\"Frecuencia \", labels = c(\"esperada\",\"observada\"), values=c(\"#a399ff\", \"red\")) +\n",
    "scale_shape_manual(name=\"Frecuencia \", labels = c(\"esperada\",\"observada\"), values=c(19,4)) +\n",
    "scale_alpha_manual(name=\"Frecuencia \", labels = c(\"esperada\",\"observada\"), values=c(0.7,1), guide=\"none\") +\n",
    "scale_x_continuous(breaks = function(x) seq(floor(min(x)), ceiling(max(x)))) +\n",
    "xlab(\"Número\") +\n",
    "ylab(\"Frecuencia\") + theme_light()"
   ]
  },
  {
   "cell_type": "markdown",
   "id": "631f0b44-a61d-48d6-8772-cbe5db936178",
   "metadata": {},
   "source": [
    "<div style=\"text-align: justify\">Para que el generador trabaje de forma apropiada, la distribución de los valores generados debe ser uniforme discreta en el rango de interés.</div>"
   ]
  },
  {
   "cell_type": "code",
   "execution_count": 109,
   "id": "c3c2c131-a9fe-4cfb-beb0-6a3d6e613b0f",
   "metadata": {},
   "outputs": [
    {
     "data": {
      "text/markdown": [
       "$\\chi^2 = 4.72$"
      ]
     },
     "metadata": {},
     "output_type": "display_data"
    }
   ],
   "source": [
    "chi_sq <- sum((freq - e)^2 / e)\n",
    "display_markdown(sprintf(\"$\\\\chi^2 = %.2f$\", chi_sq))"
   ]
  },
  {
   "cell_type": "code",
   "execution_count": 111,
   "id": "9ec2fae1-4ea4-4f51-ad62-f07ddeb7448f",
   "metadata": {},
   "outputs": [
    {
     "data": {
      "text/markdown": [
       "$\\chi^2_{\\nu={{9}},\\alpha={{0.01}}} = 21.67$"
      ]
     },
     "metadata": {},
     "output_type": "display_data"
    }
   ],
   "source": [
    "k <- length(x) - 1 \n",
    "alpha <- 0.01\n",
    "chisq_value <- qchisq(1-alpha, k)\n",
    "display_markdown(sprintf(\"$\\\\chi^2_{\\\\nu={{%d}},\\\\alpha={{%.2f}}} = %.2f$\", k, alpha, chisq_value))"
   ]
  },
  {
   "cell_type": "markdown",
   "id": "71a3f21e-b691-44f9-aafc-48313d3c6f69",
   "metadata": {},
   "source": [
    "<div style=\"text-align: justify\">Como $\\chi^2 = 4.72 < 21.67$, no hay evidencia sufieciente para rechazar $H_0$ y se concluye que el generador trabaja de forma apropiada.</div>"
   ]
  },
  {
   "cell_type": "code",
   "execution_count": 115,
   "id": "64c92240-5d1d-4982-acea-ad92493a007c",
   "metadata": {},
   "outputs": [
    {
     "data": {
      "text/markdown": [
       "$p$-$valor = 0.86 > 0.01$"
      ]
     },
     "metadata": {},
     "output_type": "display_data"
    }
   ],
   "source": [
    "p_valor <- 1 - pchisq(chi_sq, k)\n",
    "display_markdown(sprintf(\"$p$-$valor = %.2f > %.2f$\", p_valor, alpha))"
   ]
  },
  {
   "cell_type": "markdown",
   "id": "fd7fe570-54d1-4aba-9c5d-63939aa43f0e",
   "metadata": {},
   "source": [
    "***\n",
    "<br></br>"
   ]
  },
  {
   "cell_type": "markdown",
   "id": "30d44736-9188-4b02-a6f1-346e9ce7cfeb",
   "metadata": {
    "tags": []
   },
   "source": [
    "### **Ejercicio 8**"
   ]
  },
  {
   "cell_type": "markdown",
   "id": "dba49f18-271b-4051-b6d8-5e07fb853a6f",
   "metadata": {},
   "source": [
    "#### <div style=\"text-align: justify\">Se observa y anota la duración de un ciclo de una máquina automática</div>"
   ]
  },
  {
   "cell_type": "markdown",
   "id": "322c59a4-8795-4779-8f3d-e5196e576d47",
   "metadata": {},
   "source": [
    "<table>\n",
    "    <thead>\n",
    "    <tbody>\n",
    "        <tr>\n",
    "            <td style=\"text-align: center; vertical-align: middle; border-right: 2px solid #bcbcbc; border-bottom: 1px solid #bcbcbc;\"><b>Segundos</b></td>\n",
    "            <td style=\"text-align: center; vertical-align: middle; border-bottom: 1px solid #bcbcbc;\">2.10</td>\n",
    "            <td style=\"text-align: center; vertical-align: middle; border-bottom: 1px solid #bcbcbc;\">2.11</td>\n",
    "            <td style=\"text-align: center; vertical-align: middle; border-bottom: 1px solid #bcbcbc;\">2.12</td>\n",
    "            <td style=\"text-align: center; vertical-align: middle; border-bottom: 1px solid #bcbcbc;\">2.13</td>\n",
    "            <td style=\"text-align: center; vertical-align: middle; border-bottom: 1px solid #bcbcbc;\">2.14</td>\n",
    "            <td style=\"text-align: center; vertical-align: middle; border-bottom: 1px solid #bcbcbc;\">2.15</td>\n",
    "            <td style=\"text-align: center; vertical-align: middle; border-bottom: 1px solid #bcbcbc;\">2.16</td>\n",
    "            <td style=\"text-align: center; vertical-align: middle; border-bottom: 1px solid #bcbcbc;\">2.17</td>\n",
    "            <td style=\"text-align: center; vertical-align: middle; border-bottom: 1px solid #bcbcbc;\">2.18</td>\n",
    "            <td style=\"text-align: center; vertical-align: middle; border-bottom: 1px solid #bcbcbc;\">2.19</td>     \n",
    "            <td style=\"text-align: center; vertical-align: middle; border-bottom: 1px solid #bcbcbc;\">2.20</td> \n",
    "        </tr>\n",
    "        <tr>\n",
    "            <td style=\"text-align: center; vertical-align: middle; border-right: 2px solid #bcbcbc;\"><b>Frecuencia</b></td>\n",
    "            <td style=\"text-align: center; vertical-align: middle;\">16</td>\n",
    "            <td style=\"text-align: center; vertical-align: middle;\">28</td>\n",
    "            <td style=\"text-align: center; vertical-align: middle;\">41</td>\n",
    "            <td style=\"text-align: center; vertical-align: middle;\">74</td>\n",
    "            <td style=\"text-align: center; vertical-align: middle;\">149</td>\n",
    "            <td style=\"text-align: center; vertical-align: middle;\">256</td>\n",
    "            <td style=\"text-align: center; vertical-align: middle;\">137</td>\n",
    "            <td style=\"text-align: center; vertical-align: middle;\">82</td>\n",
    "            <td style=\"text-align: center; vertical-align: middle;\">40</td>  \n",
    "            <td style=\"text-align: center; vertical-align: middle;\">19</td>  \n",
    "            <td style=\"text-align: center; vertical-align: middle;\">11</td>  \n",
    "        </tr>\n",
    "    </tbody>\n",
    "</table>\n",
    "<div style=\"text-align: center\"><i>Valores observados</i></div>"
   ]
  },
  {
   "cell_type": "markdown",
   "id": "cb305476-2291-41f2-9ccb-650c9f93a267",
   "metadata": {},
   "source": [
    "#### <div style=\"text-align: justify\">¿La probabilidad normal parece ser un modelo de probabilidad razonable para la duración del ciclo? Utilice la prueba ji-cuadrada de bondad de ajuste, con $\\alpha = 0.05$. Calcule el $p$-$valor$.</div>"
   ]
  },
  {
   "cell_type": "markdown",
   "id": "2d38e192-f0cb-492b-b69d-2055dba28d75",
   "metadata": {},
   "source": [
    "<div style=\"text-align: justify\">Sea $X$ una variable aleatoria que representa la duración de un ciclo:</div>"
   ]
  },
  {
   "cell_type": "markdown",
   "id": "75666df6-10a2-4ab0-8244-757f24a2450c",
   "metadata": {},
   "source": [
    "<div style=\"text-align: center\">$H_0: X \\sim N\\left(u, \\sigma^2\\right)$</div>"
   ]
  },
  {
   "cell_type": "code",
   "execution_count": 26,
   "id": "f4eac2e6-aad8-4076-809e-60807f8bd0a5",
   "metadata": {},
   "outputs": [
    {
     "data": {
      "text/html": [
       "<table>\n",
       "<tbody>\n",
       "\t<tr><th scope=row>Segundos</th><td> 2.1  </td><td> 2.11 </td><td> 2.12 </td><td> 2.13 </td><td>  2.14</td><td>  2.15</td><td>  2.16</td><td> 2.17 </td><td> 2.18 </td><td> 2.19 </td><td> 2.2  </td></tr>\n",
       "\t<tr><th scope=row>Frecuencia</th><td>16.0  </td><td>28.00 </td><td>41.00 </td><td>74.00 </td><td>149.00</td><td>256.00</td><td>137.00</td><td>82.00 </td><td>40.00 </td><td>19.00 </td><td>11.0  </td></tr>\n",
       "</tbody>\n",
       "</table>\n"
      ],
      "text/latex": [
       "\\begin{tabular}{r|lllllllllll}\n",
       "\tSegundos &  2.1   &  2.11  &  2.12  &  2.13  &   2.14 &   2.15 &   2.16 &  2.17  &  2.18  &  2.19  &  2.2  \\\\\n",
       "\tFrecuencia & 16.0   & 28.00  & 41.00  & 74.00  & 149.00 & 256.00 & 137.00 & 82.00  & 40.00  & 19.00  & 11.0  \\\\\n",
       "\\end{tabular}\n"
      ],
      "text/markdown": [
       "\n",
       "| Segundos |  2.1   |  2.11  |  2.12  |  2.13  |   2.14 |   2.15 |   2.16 |  2.17  |  2.18  |  2.19  |  2.2   |\n",
       "| Frecuencia | 16.0   | 28.00  | 41.00  | 74.00  | 149.00 | 256.00 | 137.00 | 82.00  | 40.00  | 19.00  | 11.0   |\n",
       "\n"
      ],
      "text/plain": [
       "           [,1] [,2]  [,3]  [,4]  [,5]   [,6]   [,7]   [,8]  [,9]  [,10] [,11]\n",
       "Segundos    2.1  2.11  2.12  2.13   2.14   2.15   2.16  2.17  2.18  2.19  2.2 \n",
       "Frecuencia 16.0 28.00 41.00 74.00 149.00 256.00 137.00 82.00 40.00 19.00 11.0 "
      ]
     },
     "metadata": {},
     "output_type": "display_data"
    }
   ],
   "source": [
    "sec <- c(2.10, 2.11, 2.12, 2.13, 2.14, 2.15, 2.16, 2.17, 2.18, 2.19, 2.20)\n",
    "freq <- c(16, 28, 41, 74, 149, 256, 137, 82, 40, 19, 11)\n",
    "n <- sum(freq)\n",
    "df <- data.frame(sec, freq)\n",
    "data <- t(df)\n",
    "rownames(data) <- c(\"Segundos\", \"Frecuencia\")\n",
    "data"
   ]
  },
  {
   "cell_type": "code",
   "execution_count": 46,
   "id": "0ea0601e-6812-4334-a464-3a6ab4e9215e",
   "metadata": {},
   "outputs": [
    {
     "data": {
      "image/png": "[encoded data removed]",
      "text/plain": [
       "plot without title"
      ]
     },
     "metadata": {},
     "output_type": "display_data"
    }
   ],
   "source": [
    "# Gráfico de las observaciones\n",
    "options(repr.plot.width=7, repr.plot.height=4)\n",
    "ggplot(df, mapping = aes(x=sec, y=freq)) +\n",
    "ggtitle(\"Duración de un ciclo de una máquina automática\") +\n",
    "geom_point(col=\"#ff9696\", size=3) +\n",
    "geom_segment(aes(x=sec, xend=sec, y=0, yend=freq), color='#ff9696') +\n",
    "xlab(\"Duración [segundos]\") +\n",
    "ylab(\"Frecuencia observada\") + theme_light()"
   ]
  },
  {
   "cell_type": "code",
   "execution_count": 21,
   "id": "99bdf231-6158-44e8-b252-c5be85eac640",
   "metadata": {},
   "outputs": [
    {
     "data": {
      "text/markdown": [
       "$\\chi^2 = 7.18$"
      ]
     },
     "metadata": {},
     "output_type": "display_data"
    }
   ],
   "source": [
    "k <- 8 # número de celdas\n",
    "p <- seq(from = 0, to = 1, by = 1/k) # elijo que cada celda enga la misma probabilidad\n",
    "mu <- mean(freq) # media estimada\n",
    "std <- sd(freq) # desviación standard estimada\n",
    "x <- qnorm(p, mu, std) # cuantiles para cada probabilidad\n",
    "count <- colSums(outer(freq, x, `<`)) # cantidad de valores menores que cada cuantil\n",
    "interval_count <- diff(count) # cantidad de valores dentro de cada intervalo (celda)\n",
    "e <- n/k # valor esperado\n",
    "chi_sq <- sum(((interval_count - e)^2) / e)\n",
    "display_markdown(sprintf(\"$\\\\chi^2 = %.2f$\", chi_sq))"
   ]
  },
  {
   "cell_type": "code",
   "execution_count": 23,
   "id": "884f3d52-2218-4040-ac18-a42ad8db6a76",
   "metadata": {},
   "outputs": [
    {
     "data": {
      "text/markdown": [
       "$\\chi^2_{\\nu={{5}},\\alpha={{0.05}}} = 11.07$"
      ]
     },
     "metadata": {},
     "output_type": "display_data"
    }
   ],
   "source": [
    "alpha <- 0.05\n",
    "df <- k - 2 - 1 # Grados de libertad. Se estiman 2 parámetros\n",
    "chisq_value <- qchisq(1-alpha, df)\n",
    "display_markdown(sprintf(\"$\\\\chi^2_{\\\\nu={{%d}},\\\\alpha={{%.2f}}} = %.2f$\", df, alpha, chisq_value))"
   ]
  },
  {
   "cell_type": "markdown",
   "id": "f8fa1589-3d8a-4d09-9e45-f7cf0d12dc55",
   "metadata": {},
   "source": [
    "<div style=\"text-align: justify\">Como $\\chi^2 = 7.18 < 11.07$, no hay evidencia sufieciente para rechazar $H_0$ y se acepta que la duración de un ciclo de la máquina sigue una distribución normal.</div>"
   ]
  },
  {
   "cell_type": "code",
   "execution_count": 24,
   "id": "39efc1f4-12bd-45de-8f8b-896043691879",
   "metadata": {},
   "outputs": [
    {
     "data": {
      "text/markdown": [
       "$p$-$valor = 0.52 > 0.05$"
      ]
     },
     "metadata": {},
     "output_type": "display_data"
    }
   ],
   "source": [
    "p_valor <- 1 - pchisq(chi_sq, k)\n",
    "display_markdown(sprintf(\"$p$-$valor = %.2f > %.2f$\", p_valor, alpha))"
   ]
  },
  {
   "cell_type": "markdown",
   "id": "9de6b3f5-c321-4c67-87bc-231e6d0c85f0",
   "metadata": {},
   "source": [
    "***\n",
    "<br></br>"
   ]
  },
  {
   "cell_type": "markdown",
   "id": "9e2b513b-1132-47a9-954a-a929bfe4ebad",
   "metadata": {
    "tags": []
   },
   "source": [
    "### **Ejercicio 9**"
   ]
  },
  {
   "cell_type": "markdown",
   "id": "db804169-f414-4e9b-9f8b-0694289c408f",
   "metadata": {},
   "source": [
    "#### <div style=\"text-align: justify\">Se ha teorizado el tiempo de respuesta de un sistema computarizado, a una petición de cierto tipo de información, como una distribución exponencial con parámetro $\\lambda=1$</div>"
   ]
  },
  {
   "cell_type": "markdown",
   "id": "06edaed0-709e-4126-9fae-5b69244eea36",
   "metadata": {
    "tags": []
   },
   "source": [
    "#### <div style=\"text-align: justify\">a) Si se hicieran $n$ observaciones y se desea usar la prueba ji-cuadrado con cinco intervalos de clase de igual probabilidad bajo la hipótesis nula, ¿cuáles serían los intervalos de clase resultante?</div>"
   ]
  },
  {
   "cell_type": "markdown",
   "id": "2589c75f-ad5c-4bd5-add2-a10dec348c70",
   "metadata": {},
   "source": [
    "<div style=\"text-align: justify\">Sea $X$ una variable aleatoria que representa el tiempo de respuesta de un sistema computarizado:</div>"
   ]
  },
  {
   "cell_type": "markdown",
   "id": "b1c20c3d-4e86-4885-9356-0484d65c18fc",
   "metadata": {},
   "source": [
    "<div style=\"text-align: center\">$H_0: X \\sim Exp\\left(1\\right)$</div>"
   ]
  },
  {
   "cell_type": "code",
   "execution_count": 98,
   "id": "ecd4aa43-d44c-41ea-87c2-3f932a4158ad",
   "metadata": {},
   "outputs": [
    {
     "data": {
      "text/markdown": []
     },
     "metadata": {},
     "output_type": "display_data"
    },
    {
     "data": {
      "text/markdown": [
       "$\\bullet\\quad\\text{Intervalo 1}:\\quad0.0000 < x \\le 0.2231$"
      ]
     },
     "metadata": {},
     "output_type": "display_data"
    },
    {
     "data": {
      "text/markdown": [
       "$\\bullet\\quad\\text{Intervalo 2}:\\quad0.2231 < x \\le 0.5108$"
      ]
     },
     "metadata": {},
     "output_type": "display_data"
    },
    {
     "data": {
      "text/markdown": [
       "$\\bullet\\quad\\text{Intervalo 3}:\\quad0.5108 < x \\le 0.9163$"
      ]
     },
     "metadata": {},
     "output_type": "display_data"
    },
    {
     "data": {
      "text/markdown": [
       "$\\bullet\\quad\\text{Intervalo 4}:\\quad0.9163 < x \\le 1.6094$"
      ]
     },
     "metadata": {},
     "output_type": "display_data"
    },
    {
     "data": {
      "text/markdown": [
       "$\\bullet\\quad\\text{Intervalo 5}:\\quad1.6094 < x < Inf$"
      ]
     },
     "metadata": {},
     "output_type": "display_data"
    }
   ],
   "source": [
    "lambda <- 1\n",
    "k <- 5 # cantidad de intervalos de clase\n",
    "p <- seq(from = 0, to = 1, by = 1/k) # igual probabilidad en cada intervalo\n",
    "x <- qexp(p, rate=lambda) #cuantiles\n",
    "intervals <- rep('', k)\n",
    "\n",
    "for (i in 1:length(x)-1)\n",
    "{\n",
    "    if(i != length(x)-1) {\n",
    "        intervals[i] <- sprintf(\"$\\\\bullet\\\\quad\\\\text{Intervalo %d}:\\\\quad%.4f < x \\\\le %.4f$\", i, x[i], x[i+1])\n",
    "        display_markdown(intervals[i])\n",
    "    }\n",
    "    else {\n",
    "        intervals[i] <- sprintf(\"$\\\\bullet\\\\quad\\\\text{Intervalo %d}:\\\\quad%.4f < x < %.4f$\", i, x[i], x[i+1])\n",
    "        display_markdown(intervals[i])\n",
    "    }\n",
    "}"
   ]
  },
  {
   "cell_type": "markdown",
   "id": "aecc4704-0658-41a9-96c7-183795cbfc0a",
   "metadata": {},
   "source": [
    "#### <div style=\"text-align: justify\">b) Realice la prueba ji-cuadrado utilizando los siguientes datos de una muestra aleatoria de 40 tiempos de respuesta:</div>"
   ]
  },
  {
   "cell_type": "markdown",
   "id": "15675966-c756-4280-889a-83593896c7e5",
   "metadata": {},
   "source": [
    "<table>\n",
    "    <thead>\n",
    "    <tbody>\n",
    "        <tr>\n",
    "            <th colspan=\"20\" style=\"text-align: center; vertical-align: middle; border-bottom: 1px solid black\">Tiempos de respuesta</th>\n",
    "        </tr>\n",
    "        <tr>\n",
    "            <td style=\"text-align: center; vertical-align: middle;\">0.10</td>\n",
    "            <td style=\"text-align: center; vertical-align: middle;\">0.99</td>\n",
    "            <td style=\"text-align: center; vertical-align: middle;\">1.14</td>\n",
    "            <td style=\"text-align: center; vertical-align: middle;\">1.26</td>\n",
    "            <td style=\"text-align: center; vertical-align: middle;\">3.24</td>\n",
    "            <td style=\"text-align: center; vertical-align: middle;\">0.12</td>\n",
    "            <td style=\"text-align: center; vertical-align: middle;\">0.26</td>\n",
    "            <td style=\"text-align: center; vertical-align: middle;\">0.80</td>\n",
    "            <td style=\"text-align: center; vertical-align: middle;\">0.79</td>\n",
    "            <td style=\"text-align: center; vertical-align: middle;\">1.16</td>\n",
    "            <td style=\"text-align: center; vertical-align: middle;\">1.76</td>\n",
    "            <td style=\"text-align: center; vertical-align: middle;\">0.41</td>\n",
    "            <td style=\"text-align: center; vertical-align: middle;\">0.59</td>\n",
    "            <td style=\"text-align: center; vertical-align: middle;\">0.27</td>\n",
    "            <td style=\"text-align: center; vertical-align: middle;\">2.22</td>\n",
    "            <td style=\"text-align: center; vertical-align: middle;\">0.66</td>\n",
    "            <td style=\"text-align: center; vertical-align: middle;\">0.71</td>\n",
    "            <td style=\"text-align: center; vertical-align: middle;\">2.21</td>\n",
    "            <td style=\"text-align: center; vertical-align: middle;\">0.68</td>\n",
    "            <td style=\"text-align: center; vertical-align: middle;\">0.43</td>\n",
    "        </tr>\n",
    "        <tr>\n",
    "            <td style=\"text-align: center; vertical-align: middle;\">0.11</td>\n",
    "            <td style=\"text-align: center; vertical-align: middle;\">0.46</td>\n",
    "            <td style=\"text-align: center; vertical-align: middle;\">0.69</td>\n",
    "            <td style=\"text-align: center; vertical-align: middle;\">0.38</td>\n",
    "            <td style=\"text-align: center; vertical-align: middle;\">0.91</td>\n",
    "            <td style=\"text-align: center; vertical-align: middle;\">0.55</td>\n",
    "            <td style=\"text-align: center; vertical-align: middle;\">0.81</td>\n",
    "            <td style=\"text-align: center; vertical-align: middle;\">2.51</td>\n",
    "            <td style=\"text-align: center; vertical-align: middle;\">2.77</td>\n",
    "            <td style=\"text-align: center; vertical-align: middle;\">0.16</td>\n",
    "            <td style=\"text-align: center; vertical-align: middle;\">1.11</td>\n",
    "            <td style=\"text-align: center; vertical-align: middle;\">0.02</td>\n",
    "            <td style=\"text-align: center; vertical-align: middle;\">2.13</td>\n",
    "            <td style=\"text-align: center; vertical-align: middle;\">0.19</td>\n",
    "            <td style=\"text-align: center; vertical-align: middle;\">1.21</td>\n",
    "            <td style=\"text-align: center; vertical-align: middle;\">1.13</td>\n",
    "            <td style=\"text-align: center; vertical-align: middle;\">2.93</td>\n",
    "            <td style=\"text-align: center; vertical-align: middle;\">2.14</td>\n",
    "            <td style=\"text-align: center; vertical-align: middle;\">0.34</td>\n",
    "            <td style=\"text-align: center; vertical-align: middle;\">0.44</td>\n",
    "        </tr>\n",
    "    </tbody>\n",
    "</table>\n",
    "<div style=\"text-align: center\"><i>Valores observados</i></div>"
   ]
  },
  {
   "cell_type": "code",
   "execution_count": 118,
   "id": "e051a7a0-94c3-4ce9-92d5-8f7a6a657521",
   "metadata": {},
   "outputs": [
    {
     "data": {
      "text/markdown": [
       "$\\chi^2 = 1.25$"
      ]
     },
     "metadata": {},
     "output_type": "display_data"
    }
   ],
   "source": [
    "data <- c(0.10, 0.99, 1.14, 1.26, 3.24, 0.12, 0.26, 0.80, 0.79, 1.16, 1.76, 0.41, 0.59, 0.27, 2.22, 0.66, 0.71, 2.21, 0.68, 0.43, 0.11, 0.46, 0.69, 0.38, 0.91, 0.55, 0.81, 2.51, 2.77, 0.16, 1.11, 0.02, 2.13, 0.19, 1.21, 1.13, 2.93, 2.14, 0.34, 0.44)\n",
    "n <- length(data)\n",
    "\n",
    "count <- colSums(outer(data, x, `<`)) # cantidad de valores menores que cada cuantil\n",
    "interval_count <- diff(count) # cantidad de valores dentro de cada intervalo (celda)\n",
    "e <- n/k # valor esperado\n",
    "chi_sq <- sum(((interval_count - e)^2) / e)\n",
    "display_markdown(sprintf(\"$\\\\chi^2 = %.2f$\", chi_sq))"
   ]
  },
  {
   "cell_type": "code",
   "execution_count": 122,
   "id": "e0fea72c-13f0-4842-ab13-f720af73a3d0",
   "metadata": {},
   "outputs": [
    {
     "data": {
      "text/markdown": [
       "Utilizando un nivel de significancia $\\alpha = 0.05$:"
      ]
     },
     "metadata": {},
     "output_type": "display_data"
    },
    {
     "data": {
      "text/markdown": [
       "$\\chi^2_{\\nu={{4}},\\alpha={{0.05}}} = 9.49$"
      ]
     },
     "metadata": {},
     "output_type": "display_data"
    }
   ],
   "source": [
    "alpha <- 0.05\n",
    "df <- k - 1 # Grados de libertad. Se estiman 2 parámetros\n",
    "chisq_value <- qchisq(1-alpha, df)\n",
    "display_markdown(sprintf(\"Utilizando un nivel de significancia $\\\\alpha = %.2f$:\", alpha))\n",
    "display_markdown(sprintf(\"$\\\\chi^2_{\\\\nu={{%d}},\\\\alpha={{%.2f}}} = %.2f$\", df, alpha, chisq_value))"
   ]
  },
  {
   "cell_type": "markdown",
   "id": "452e31d0-dd32-47f7-bca7-a643678fb22c",
   "metadata": {},
   "source": [
    "<div style=\"text-align: justify\">Como $\\chi^2 = 1.25 < 9.49$, no hay evidencia sufieciente para rechazar $H_0$ y se acepta que el tiempo de respuesta tiene una distribución exponencial con parámetro $\\lambda = 1$.</div>"
   ]
  },
  {
   "cell_type": "code",
   "execution_count": 123,
   "id": "942153ba-67d9-4a82-af0c-ac09b0f5292f",
   "metadata": {},
   "outputs": [
    {
     "data": {
      "text/markdown": [
       "$p$-$valor = 0.94 > 0.05$"
      ]
     },
     "metadata": {},
     "output_type": "display_data"
    }
   ],
   "source": [
    "p_valor <- 1 - pchisq(chi_sq, k)\n",
    "display_markdown(sprintf(\"$p$-$valor = %.2f > %.2f$\", p_valor, alpha))"
   ]
  },
  {
   "cell_type": "markdown",
   "id": "5eb3f8d4-72b3-4a6d-8cc1-d4840dfcbee3",
   "metadata": {},
   "source": [
    "<br></br>\n",
    "***\n",
    "<br></br>"
   ]
  }
 ],
 "metadata": {
  "kernelspec": {
   "display_name": "R",
   "language": "R",
   "name": "ir"
  },
  "language_info": {
   "codemirror_mode": "r",
   "file_extension": ".r",
   "mimetype": "text/x-r-source",
   "name": "R",
   "pygments_lexer": "r",
   "version": "3.6.1"
  }
 },
 "nbformat": 4,
 "nbformat_minor": 5
}
