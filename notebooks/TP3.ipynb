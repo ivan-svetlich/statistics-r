{
 "cells": [
  {
   "cell_type": "markdown",
   "id": "7bad8e7b-05c5-4e44-bed7-2738350fa4c3",
   "metadata": {},
   "source": [
    "# <div style=\"text-align: center; margin-top:2em; margin-bottom:1em\">ESTADÍSTICA PARA INGENIERÍA Y CIENCIAS</div>\n",
    "## <div style=\"text-align: center; margin-bottom:1em\">PRÁCTICA 3 : Regresión lineal múltiple</div>\n",
    "## <div style=\"text-align: center; margin-bottom:1em\">Ivan Svetlich</div>"
   ]
  },
  {
   "cell_type": "markdown",
   "id": "e5ed8c1e-4c63-495d-a554-3b2b19abca1d",
   "metadata": {},
   "source": [
    "***\n",
    "<br></br>"
   ]
  },
  {
   "cell_type": "code",
   "execution_count": 2,
   "id": "c0eed0df-008c-4f17-acdc-04985c937787",
   "metadata": {
    "jupyter": {
     "source_hidden": true
    },
    "tags": []
   },
   "outputs": [],
   "source": [
    "#Librerias\n",
    "library(IRdisplay)\n",
    "library(ggplot2)\n",
    "library(cowplot)\n",
    "library(latex2exp)"
   ]
  },
  {
   "cell_type": "markdown",
   "id": "c8cfca76-4cbb-48ee-b15d-e3e16db99b7a",
   "metadata": {},
   "source": [
    "### **Ejercicio 1**"
   ]
  },
  {
   "cell_type": "markdown",
   "id": "6c04ac0f-cd2d-4b28-be47-b12f82e37e36",
   "metadata": {},
   "source": [
    "#### <div style=\"text-align: justify\">Se realiza un estudio para investigar la resistencia al esfuerzo cortante de un suelo $(y)$ y la relación que tiene ésta con la profundidad en pies $(x_1)$ y con el contenido de humedad $(x_2)$. Para ello se recopilan 10 observaciones, a partir de las cuales se obtiene lo siguiente:</div>"
   ]
  },
  {
   "cell_type": "markdown",
   "id": "501231ed-eb44-45e3-9c79-4feb124a9bd3",
   "metadata": {},
   "source": [
    "<table style=\"border: 1px solid #bcbcbc;\">\n",
    "    <thead>\n",
    "        <th style=\"text-align: center; vertical-align: middle; border-right: 1px solid #bcbcbc; width: 1%;\"><b>$n$</b></th>  \n",
    "        <th style=\"text-align: center; vertical-align: middle; border-right: 1px solid #bcbcbc; width: 11%;\"><b>$\\sum_{i=1}^{n} x_{i1}$</b></th>   \n",
    "        <th style=\"text-align: center; vertical-align: middle; border-right: 1px solid #bcbcbc; width: 11%;\"><b>$\\sum_{i=1}^{n} x_{i2}$</b></th>\n",
    "        <th style=\"text-align: center; vertical-align: middle; border-right: 1px solid #bcbcbc; width: 11%;\"><b>$\\sum_{i=1}^{n} y_{i}$</b></th>\n",
    "        <th style=\"text-align: center; vertical-align: middle; border-right: 1px solid #bcbcbc; width: 11%;\"><b>$\\sum_{i=1}^{n} y^2_{i}$</b></th>\n",
    "        <th style=\"text-align: center; vertical-align: middle; border-right: 1px solid #bcbcbc; width: 11%;\"><b>$\\sum_{i=1}^{n} x^2_{i1}$</b></th>   \n",
    "        <th style=\"text-align: center; vertical-align: middle; border-right: 1px solid #bcbcbc; width: 11%;\"><b>$\\sum_{i=1}^{n} x^2_{i2}$</b></th>   \n",
    "        <th style=\"text-align: center; vertical-align: middle; border-right: 1px solid #bcbcbc; width: 11%;\"><b>$\\sum_{i=1}^{n} x_{i1}x_{i2}$</b></th>\n",
    "        <th style=\"text-align: center; vertical-align: middle; border-right: 1px solid #bcbcbc; width: 11%;\"><b>$\\sum_{i=1}^{n} x_{i1}y_{i}$</b></th>\n",
    "        <th style=\"text-align: center; vertical-align: middle; border-right: 0px solid #bcbcbc; width: 11%;\"><b>$\\sum_{i=1}^{n} x_{i2}y_{i}$</b></th>\n",
    "    </thead>\n",
    "    <tbody>\n",
    "        <tr>\n",
    "            <td style=\"text-align: center; vertical-align: middle; border-right: 1px solid #bcbcbc;\">10</td>\n",
    "            <td style=\"text-align: center; vertical-align: middle; border-right: 1px solid #bcbcbc;\">223</td>\n",
    "            <td style=\"text-align: center; vertical-align: middle; border-right: 1px solid #bcbcbc;\">553</td>\n",
    "            <td style=\"text-align: center; vertical-align: middle; border-right: 1px solid #bcbcbc;\">1916</td>\n",
    "            <td style=\"text-align: center; vertical-align: middle; border-right: 1px solid #bcbcbc;\">371595.6</td>\n",
    "            <td style=\"text-align: center; vertical-align: middle; border-right: 1px solid #bcbcbc;\">5200</td>\n",
    "            <td style=\"text-align: center; vertical-align: middle; border-right: 1px solid #bcbcbc;\">31729</td>\n",
    "            <td style=\"text-align: center; vertical-align: middle; border-right: 1px solid #bcbcbc;\">12352</td>\n",
    "            <td style=\"text-align: center; vertical-align: middle; border-right: 1px solid #bcbcbc;\">43550</td>\n",
    "            <td style=\"text-align: center; vertical-align: middle;\">104736.8</td>\n",
    "        </tr>       \n",
    "    </tbody>\n",
    "</table>\n",
    "<div style=\"text-align: center\"><i>Valores observados</i></div>"
   ]
  },
  {
   "cell_type": "markdown",
   "id": "fd532d78-d916-404b-8c7a-bc2eb9bcfd26",
   "metadata": {},
   "source": [
    "#### <div style=\"text-align: justify\">a) Establezca las ecuaciones normales de mínimos cuadrados para el modelo</div>\n",
    "#### <div style=\"text-align: justify\">$$Y = \\beta_0 + \\beta_1 x_1 + \\beta_2 x_2 + \\epsilon$$</div>"
   ]
  },
  {
   "cell_type": "markdown",
   "id": "f9eaede1-1b67-41a9-a2cb-62ce4be08f0f",
   "metadata": {},
   "source": [
    "<div style=\"text-align: justify\">Las ecuaciones normales son:</div>"
   ]
  },
  {
   "cell_type": "markdown",
   "id": "0515656a-3741-4cf3-a88e-6e477ee8ffec",
   "metadata": {},
   "source": [
    "<div style=\"text-align: center\">$$n \\hat{\\beta_0} + \\hat{\\beta_1} \\sum_{i=1}^{n} x_{i1} + \\hat{\\beta_2} \\sum_{i=1}^{n} x_{i2} = \\sum_{i=1}^{n} y_{i}$$</div>"
   ]
  },
  {
   "cell_type": "markdown",
   "id": "6070cd75-2eed-46b4-bee1-cf49413a98a4",
   "metadata": {},
   "source": [
    "<div style=\"text-align: center\">$$\\hat{\\beta_0} \\sum_{i=1}^{n} x_{i1} + \\hat{\\beta_1} \\sum_{i=1}^{n} x^2_{i1} + \\hat{\\beta_2} \\sum_{i=1}^{n} x_{i1} x_{i2} = \\sum_{i=1}^{n} x_{i1} y_{i}$$</div>"
   ]
  },
  {
   "cell_type": "markdown",
   "id": "00df59ba-8fbf-4f23-9b84-47fad37ae0fa",
   "metadata": {},
   "source": [
    "<div style=\"text-align: center\">$$\\hat{\\beta_0} \\sum_{i=1}^{n} x_{i2} + \\hat{\\beta_1} \\sum_{i=1}^{n} x_{i1} x_{i2} + \\hat{\\beta_2} \\sum_{i=1}^{n} x^2_{i2} = \\sum_{i=1}^{n} x_{i2} y_{i}$$</div>"
   ]
  },
  {
   "cell_type": "markdown",
   "id": "f0313724-45fb-4c44-b7ac-d316eca39855",
   "metadata": {},
   "source": [
    "#### <div style=\"text-align: justify\">b) Estime los parámetros del modelo del inciso $a)$</div>"
   ]
  },
  {
   "cell_type": "code",
   "execution_count": 4,
   "id": "7c352ff5-cec8-492c-81b6-51c81ce9397f",
   "metadata": {
    "jupyter": {
     "source_hidden": true
    },
    "tags": []
   },
   "outputs": [
    {
     "data": {
      "text/html": [
       "<table>\n",
       "<tbody>\n",
       "\t<tr><td> 10  </td><td>  223</td><td>12352</td></tr>\n",
       "\t<tr><td>223  </td><td> 5200</td><td>12352</td></tr>\n",
       "\t<tr><td>553  </td><td>12352</td><td>31729</td></tr>\n",
       "</tbody>\n",
       "</table>\n"
      ],
      "text/latex": [
       "\\begin{tabular}{lll}\n",
       "\t  10   &   223 & 12352\\\\\n",
       "\t 223   &  5200 & 12352\\\\\n",
       "\t 553   & 12352 & 31729\\\\\n",
       "\\end{tabular}\n"
      ],
      "text/markdown": [
       "\n",
       "|  10   |   223 | 12352 |\n",
       "| 223   |  5200 | 12352 |\n",
       "| 553   | 12352 | 31729 |\n",
       "\n"
      ],
      "text/plain": [
       "     [,1] [,2]  [,3] \n",
       "[1,]  10    223 12352\n",
       "[2,] 223   5200 12352\n",
       "[3,] 553  12352 31729"
      ]
     },
     "metadata": {},
     "output_type": "display_data"
    }
   ],
   "source": [
    "n <- 10\n",
    "sum_x1 <- 223; sum_x2 <- 553\n",
    "sum_y <- 1916; sum_y_sq <- 371595.6 \n",
    "sum_x1_sq <- 5200; sum_x2_sq <- 31729; sum_x1_x2 <- 12352 \n",
    "sum_x1_y <- 43550; sum_x2_y <- 104736.8\n",
    "\n",
    "A <- as.matrix(rbind(c(n, sum_x1, sum_x1_x2), c(sum_x1, sum_x1_sq, sum_x1_x2), c(sum_x2, sum_x1_x2, sum_x2_sq)))\n",
    "A"
   ]
  },
  {
   "cell_type": "code",
   "execution_count": 5,
   "id": "96b85fe3-6746-4ac3-9291-19addacdf894",
   "metadata": {
    "jupyter": {
     "source_hidden": true
    }
   },
   "outputs": [
    {
     "data": {
      "text/html": [
       "<table>\n",
       "<tbody>\n",
       "\t<tr><td>  1916.0</td></tr>\n",
       "\t<tr><td> 43550.0</td></tr>\n",
       "\t<tr><td>104736.8</td></tr>\n",
       "</tbody>\n",
       "</table>\n"
      ],
      "text/latex": [
       "\\begin{tabular}{l}\n",
       "\t   1916.0\\\\\n",
       "\t  43550.0\\\\\n",
       "\t 104736.8\\\\\n",
       "\\end{tabular}\n"
      ],
      "text/markdown": [
       "\n",
       "|   1916.0 |\n",
       "|  43550.0 |\n",
       "| 104736.8 |\n",
       "\n"
      ],
      "text/plain": [
       "     [,1]    \n",
       "[1,]   1916.0\n",
       "[2,]  43550.0\n",
       "[3,] 104736.8"
      ]
     },
     "metadata": {},
     "output_type": "display_data"
    }
   ],
   "source": [
    "B <- as.matrix(c(sum_y, sum_x1_y, sum_x2_y))\n",
    "B"
   ]
  },
  {
   "cell_type": "code",
   "execution_count": 6,
   "id": "bf874a36-d73c-4c5c-9449-cc0a2564a8f2",
   "metadata": {
    "jupyter": {
     "source_hidden": true
    }
   },
   "outputs": [
    {
     "data": {
      "text/markdown": [
       "$$\\begin{bmatrix} \\hat{\\beta_0} \\\\ \\hat{\\beta_1} \\\\ \\hat{\\beta_2}\\end{bmatrix} = \\begin{bmatrix} -0.311775 \\\\ 3.440475 \\\\ 2.082987\\end{bmatrix}$$"
      ]
     },
     "metadata": {},
     "output_type": "display_data"
    }
   ],
   "source": [
    "beta <- solve(t(A)) %*% B\n",
    "\n",
    "display_markdown(sprintf(\"$$\\\\begin{bmatrix} \\\\hat{\\\\beta_0} \\\\\\\\ \\\\hat{\\\\beta_1} \\\\\\\\ \\\\hat{\\\\beta_2}\\\\end{bmatrix} = \\\\begin{bmatrix} %f \\\\\\\\ %f \\\\\\\\ %f\\\\end{bmatrix}$$\", beta[1], beta[2], beta[3]))"
   ]
  },
  {
   "cell_type": "markdown",
   "id": "91a1942c-4797-49b4-88fb-4feb3d94c3c0",
   "metadata": {},
   "source": [
    "#### <div style=\"text-align: justify\">c) ¿Cuál es la resistencia al esfuerzo cortante predicha cuando $x_1 = 18$ pies y $x_2 = 43\\%?$</div>"
   ]
  },
  {
   "cell_type": "code",
   "execution_count": 7,
   "id": "9331a0b9-f95f-45d8-be44-573727642842",
   "metadata": {
    "jupyter": {
     "source_hidden": true
    },
    "tags": []
   },
   "outputs": [
    {
     "data": {
      "text/markdown": [
       "$\\hat{y} = \\hat{\\beta_0} + \\hat{\\beta_1} x_1 + \\hat{\\beta_2} x_2 = 151.1852$"
      ]
     },
     "metadata": {},
     "output_type": "display_data"
    }
   ],
   "source": [
    "x <- as.matrix(c(1, 18, 43))\n",
    "y <- sum(beta * x)\n",
    "display_markdown(sprintf(\"$\\\\hat{y} = \\\\hat{\\\\beta_0} + \\\\hat{\\\\beta_1} x_1 + \\\\hat{\\\\beta_2} x_2 = %.4f$\", y))"
   ]
  },
  {
   "cell_type": "markdown",
   "id": "983b561b-5c8b-4d6b-a3ee-7e0ea01ffcc4",
   "metadata": {},
   "source": [
    "***\n",
    "<br></br>"
   ]
  },
  {
   "cell_type": "markdown",
   "id": "f0013a35-49ec-4483-86d1-31b942d0cbf4",
   "metadata": {},
   "source": [
    "### **Ejercicio 2**"
   ]
  },
  {
   "cell_type": "markdown",
   "id": "ab4dc392-33a8-40c5-9e93-7625e676e748",
   "metadata": {
    "tags": []
   },
   "source": [
    "#### <div style=\"text-align: justify\">Se piensa que la potencia eléctrica consumida al mes por una planta química está relacionada con la temperatura ambiente promedio $\\left(x_1\\right)$, el número de días del mes $\\left(x_2\\right)$, la pureza promedio del producto $\\left(x_3\\right)$ y las toneladas de producto producidas $\\left(x_4\\right)$. Los datos correspondientes al año pasado son los siguientes:</div>"
   ]
  },
  {
   "cell_type": "markdown",
   "id": "fa345e6c-3612-4738-8766-fe678f5a266f",
   "metadata": {},
   "source": [
    "<table style=\"width: 50%\">\n",
    "<thead>\n",
    "  <tr style=\"background-color: black; color: white; font-size: larger\">\n",
    "    <th>$y$</th>\n",
    "    <th>$x_1$</th>\n",
    "    <th>$x_2$</th>\n",
    "    <th>$x_3$</th>\n",
    "    <th>$x_4$</th>\n",
    "  </tr>\n",
    "</thead>\n",
    "<tbody>\n",
    "  <tr>\n",
    "    <td style=\"text-align: center; vertical-align: middle;\">240</td>\n",
    "    <td style=\"text-align: center; vertical-align: middle;\">25</td>\n",
    "    <td style=\"text-align: center; vertical-align: middle;\">24</td>\n",
    "    <td style=\"text-align: center; vertical-align: middle;\">91</td>\n",
    "    <td style=\"text-align: center; vertical-align: middle;\">100</td>\n",
    "  </tr>\n",
    "  <tr>\n",
    "    <td style=\"text-align: center; vertical-align: middle;\">236</td>\n",
    "    <td style=\"text-align: center; vertical-align: middle;\">31</td>\n",
    "    <td style=\"text-align: center; vertical-align: middle;\">21</td>\n",
    "    <td style=\"text-align: center; vertical-align: middle;\">90</td>\n",
    "    <td style=\"text-align: center; vertical-align: middle;\">95</td>\n",
    "  </tr>\n",
    "  <tr>\n",
    "    <td style=\"text-align: center; vertical-align: middle;\">290</td>\n",
    "    <td style=\"text-align: center; vertical-align: middle;\">45</td>\n",
    "    <td style=\"text-align: center; vertical-align: middle;\">24</td>\n",
    "    <td style=\"text-align: center; vertical-align: middle;\">88</td>\n",
    "    <td style=\"text-align: center; vertical-align: middle;\">110</td>\n",
    "  </tr>\n",
    "  <tr>\n",
    "    <td style=\"text-align: center; vertical-align: middle;\">274</td>\n",
    "    <td style=\"text-align: center; vertical-align: middle;\">60</td>\n",
    "    <td style=\"text-align: center; vertical-align: middle;\">25</td>\n",
    "    <td style=\"text-align: center; vertical-align: middle;\">87</td>\n",
    "    <td style=\"text-align: center; vertical-align: middle;\">88</td>\n",
    "  </tr>\n",
    "  <tr>\n",
    "    <td style=\"text-align: center; vertical-align: middle;\">301</td>\n",
    "    <td style=\"text-align: center; vertical-align: middle;\">65</td>\n",
    "    <td style=\"text-align: center; vertical-align: middle;\">25</td>\n",
    "    <td style=\"text-align: center; vertical-align: middle;\">91</td>\n",
    "    <td style=\"text-align: center; vertical-align: middle;\">94</td>\n",
    "  </tr>\n",
    "  <tr>\n",
    "    <td style=\"text-align: center; vertical-align: middle;\">316</td>\n",
    "    <td style=\"text-align: center; vertical-align: middle;\">72</td>\n",
    "    <td style=\"text-align: center; vertical-align: middle;\">26</td>\n",
    "    <td style=\"text-align: center; vertical-align: middle;\">94</td>\n",
    "    <td style=\"text-align: center; vertical-align: middle;\">99</td>\n",
    "  </tr>\n",
    "  <tr>\n",
    "    <td style=\"text-align: center; vertical-align: middle;\">300</td>\n",
    "    <td style=\"text-align: center; vertical-align: middle;\">80</td>\n",
    "    <td style=\"text-align: center; vertical-align: middle;\">25</td>\n",
    "    <td style=\"text-align: center; vertical-align: middle;\">87</td>\n",
    "    <td style=\"text-align: center; vertical-align: middle;\">97</td>\n",
    "  </tr>\n",
    "  <tr>\n",
    "    <td style=\"text-align: center; vertical-align: middle;\">296</td>\n",
    "    <td style=\"text-align: center; vertical-align: middle;\">84</td>\n",
    "    <td style=\"text-align: center; vertical-align: middle;\">25</td>\n",
    "    <td style=\"text-align: center; vertical-align: middle;\">86</td>\n",
    "    <td style=\"text-align: center; vertical-align: middle;\">96</td>\n",
    "  </tr>\n",
    "  <tr>\n",
    "    <td style=\"text-align: center; vertical-align: middle;\">267</td>\n",
    "    <td style=\"text-align: center; vertical-align: middle;\">75</td>\n",
    "    <td style=\"text-align: center; vertical-align: middle;\">24</td>\n",
    "    <td style=\"text-align: center; vertical-align: middle;\">88</td>\n",
    "    <td style=\"text-align: center; vertical-align: middle;\">110</td>\n",
    "  </tr>\n",
    "  <tr>\n",
    "    <td style=\"text-align: center; vertical-align: middle;\">276</td>\n",
    "    <td style=\"text-align: center; vertical-align: middle;\">60</td>\n",
    "    <td style=\"text-align: center; vertical-align: middle;\">25</td>\n",
    "    <td style=\"text-align: center; vertical-align: middle;\">91</td>\n",
    "    <td style=\"text-align: center; vertical-align: middle;\">105</td>\n",
    "  </tr>\n",
    "  <tr>\n",
    "    <td style=\"text-align: center; vertical-align: middle;\">288</td>\n",
    "    <td style=\"text-align: center; vertical-align: middle;\">50</td>\n",
    "    <td style=\"text-align: center; vertical-align: middle;\">25</td>\n",
    "    <td style=\"text-align: center; vertical-align: middle;\">90</td>\n",
    "    <td style=\"text-align: center; vertical-align: middle;\">100</td>\n",
    "  </tr>\n",
    "  <tr>\n",
    "    <td style=\"text-align: center; vertical-align: middle;\">261</td>\n",
    "    <td style=\"text-align: center; vertical-align: middle;\">38</td>\n",
    "    <td style=\"text-align: center; vertical-align: middle;\">23</td>\n",
    "    <td style=\"text-align: center; vertical-align: middle;\">89</td>\n",
    "    <td style=\"text-align: center; vertical-align: middle;\">98</td>\n",
    "  </tr>\n",
    "</tbody>\n",
    "</table>"
   ]
  },
  {
   "cell_type": "code",
   "execution_count": 8,
   "id": "6fcaea89-228e-42ff-93e4-77db9caef3dd",
   "metadata": {
    "jupyter": {
     "source_hidden": true
    }
   },
   "outputs": [
    {
     "data": {
      "text/html": [
       "<table>\n",
       "<thead><tr><th></th><th scope=col>y</th><th scope=col>x1</th><th scope=col>x2</th><th scope=col>x3</th><th scope=col>x4</th></tr></thead>\n",
       "<tbody>\n",
       "\t<tr><th scope=row>Min.</th><td>236.00   </td><td>25.00000 </td><td>21.00000 </td><td>86.00000 </td><td> 88.00000</td></tr>\n",
       "\t<tr><th scope=row>1st Qu.</th><td>265.50   </td><td>43.25000 </td><td>24.00000 </td><td>87.75000 </td><td> 95.75000</td></tr>\n",
       "\t<tr><th scope=row>Median</th><td>282.00   </td><td>60.00000 </td><td>25.00000 </td><td>89.50000 </td><td> 98.50000</td></tr>\n",
       "\t<tr><th scope=row>Mean</th><td>278.75   </td><td>57.08333 </td><td>24.33333 </td><td>89.33333 </td><td> 99.33333</td></tr>\n",
       "\t<tr><th scope=row>3rd Qu.</th><td>297.00   </td><td>72.75000 </td><td>25.00000 </td><td>91.00000 </td><td>101.25000</td></tr>\n",
       "\t<tr><th scope=row>Max.</th><td>316.00   </td><td>84.00000 </td><td>26.00000 </td><td>94.00000 </td><td>110.00000</td></tr>\n",
       "</tbody>\n",
       "</table>\n"
      ],
      "text/latex": [
       "\\begin{tabular}{r|lllll}\n",
       "  & y & x1 & x2 & x3 & x4\\\\\n",
       "\\hline\n",
       "\tMin. & 236.00    & 25.00000  & 21.00000  & 86.00000  &  88.00000\\\\\n",
       "\t1st Qu. & 265.50    & 43.25000  & 24.00000  & 87.75000  &  95.75000\\\\\n",
       "\tMedian & 282.00    & 60.00000  & 25.00000  & 89.50000  &  98.50000\\\\\n",
       "\tMean & 278.75    & 57.08333  & 24.33333  & 89.33333  &  99.33333\\\\\n",
       "\t3rd Qu. & 297.00    & 72.75000  & 25.00000  & 91.00000  & 101.25000\\\\\n",
       "\tMax. & 316.00    & 84.00000  & 26.00000  & 94.00000  & 110.00000\\\\\n",
       "\\end{tabular}\n"
      ],
      "text/markdown": [
       "\n",
       "| <!--/--> | y | x1 | x2 | x3 | x4 |\n",
       "|---|---|---|---|---|---|\n",
       "| Min. | 236.00    | 25.00000  | 21.00000  | 86.00000  |  88.00000 |\n",
       "| 1st Qu. | 265.50    | 43.25000  | 24.00000  | 87.75000  |  95.75000 |\n",
       "| Median | 282.00    | 60.00000  | 25.00000  | 89.50000  |  98.50000 |\n",
       "| Mean | 278.75    | 57.08333  | 24.33333  | 89.33333  |  99.33333 |\n",
       "| 3rd Qu. | 297.00    | 72.75000  | 25.00000  | 91.00000  | 101.25000 |\n",
       "| Max. | 316.00    | 84.00000  | 26.00000  | 94.00000  | 110.00000 |\n",
       "\n"
      ],
      "text/plain": [
       "        y      x1       x2       x3       x4       \n",
       "Min.    236.00 25.00000 21.00000 86.00000  88.00000\n",
       "1st Qu. 265.50 43.25000 24.00000 87.75000  95.75000\n",
       "Median  282.00 60.00000 25.00000 89.50000  98.50000\n",
       "Mean    278.75 57.08333 24.33333 89.33333  99.33333\n",
       "3rd Qu. 297.00 72.75000 25.00000 91.00000 101.25000\n",
       "Max.    316.00 84.00000 26.00000 94.00000 110.00000"
      ]
     },
     "metadata": {},
     "output_type": "display_data"
    }
   ],
   "source": [
    "df <- data.frame(read.table(\"./TP3_tables/data2.txt\", header = TRUE))\n",
    "names(df) <- c(\"y\", \"x1\", \"x2\", \"x3\", \"x4\")\n",
    "apply(df, 2, summary)"
   ]
  },
  {
   "cell_type": "markdown",
   "id": "09020605-fa2a-4fb3-b524-fd08223223c5",
   "metadata": {
    "tags": []
   },
   "source": [
    "#### <div style=\"text-align: justify\">a) Ajuste un modelo de regresión lineal múltiple a los datos contenidos en la tabla anterior.</div>"
   ]
  },
  {
   "cell_type": "markdown",
   "id": "1f426879-38a6-4212-8e48-c1fe9c4102d1",
   "metadata": {},
   "source": [
    "<div style=\"text-align: justify\">El modelo propuesto incluye las 4 variables independientes $x_i$ y presume $\\beta_0 = 0$ (un intento previo con $\\beta_0 \\neq 0$ arrojó valores de significacia y $R^2$ que invalidaban el modelo):</div>"
   ]
  },
  {
   "cell_type": "markdown",
   "id": "9462daa9-690e-4545-a839-88279c5fecde",
   "metadata": {},
   "source": [
    "<div style=\"text-align: center\">$$y = \\beta_1 x_1 + \\beta_2 x_2 + \\beta_3 x_3 + \\beta_4 x_4$$</div>"
   ]
  },
  {
   "cell_type": "code",
   "execution_count": 9,
   "id": "5addacb9-ab32-42e7-bf5a-1598b86c0dc7",
   "metadata": {
    "jupyter": {
     "source_hidden": true
    },
    "tags": []
   },
   "outputs": [
    {
     "data": {
      "text/plain": [
       "\n",
       "Call:\n",
       "lm(formula = y ~ x1 + x2 + x3 + x4 + 0, data = df)\n",
       "\n",
       "Coefficients:\n",
       "      x1        x2        x3        x4  \n",
       " 0.58047   8.58529   0.51169  -0.09017  \n"
      ]
     },
     "metadata": {},
     "output_type": "display_data"
    }
   ],
   "source": [
    "model <- lm(y ~ x1 + x2 + x3 + x4 + 0, data=df)\n",
    "model"
   ]
  },
  {
   "cell_type": "markdown",
   "id": "0d62ed9c-1844-484c-84ad-069034dfc293",
   "metadata": {
    "tags": []
   },
   "source": [
    "#### <div style=\"text-align: justify\">b) Prediga el consumo de potencia para un mes en el que $x_1 = 75ºF$, $x_2 = 24 \\text{ días}$, $x_3 = 30\\%$ y $x_4 = 98 \\text{ toneladas}$.</div>"
   ]
  },
  {
   "cell_type": "code",
   "execution_count": 13,
   "id": "001caabc-4b8c-48c6-a316-51e11a9821ef",
   "metadata": {
    "jupyter": {
     "source_hidden": true
    }
   },
   "outputs": [
    {
     "data": {
      "text/markdown": [
       "$\\hat{y} = \\hat{\\beta}_1 x_1 + \\hat{\\beta}_2 x_2 + \\hat{\\beta}_3 x_3 + \\hat{\\beta}_4 x_4 = $ 256.0967"
      ]
     },
     "metadata": {},
     "output_type": "display_data"
    }
   ],
   "source": [
    "x_test <- data.frame(x1=75, x2=24, x3=30, x4=98)\n",
    "y_test <- predict(model, x_test, interval = \"none\", type = \"response\")\n",
    "display_markdown(paste(\"$\\\\hat{y} = \\\\hat{\\\\beta}_1 x_1 + \\\\hat{\\\\beta}_2 x_2 + \\\\hat{\\\\beta}_3 x_3 + \\\\hat{\\\\beta}_4 x_4 = $\", round(y_test, 4)))"
   ]
  },
  {
   "cell_type": "markdown",
   "id": "8f4d5481-4793-46ab-a7f6-920b2a11b912",
   "metadata": {},
   "source": [
    "#### <div style=\"text-align: justify\">c) Pruebe la significancia de la regresión utilizando $\\alpha = 0.01$. ¿Cuál es el p-valor de la prueba?</div>"
   ]
  },
  {
   "cell_type": "markdown",
   "id": "034b2a17-a7d2-47cc-9448-08b09afc42bf",
   "metadata": {},
   "source": [
    "<div style=\"text-align: justify\">Para determinar la significancia de la regresión se prueba la hipótesis nula:</div>"
   ]
  },
  {
   "cell_type": "markdown",
   "id": "137d6496-6348-4fc0-b61e-a48cafc6991e",
   "metadata": {},
   "source": [
    "<div style=\"text-align: center\">$$H_{0_1}: \\beta_1 = \\beta_2 = 0$$</div>"
   ]
  },
  {
   "cell_type": "markdown",
   "id": "ab401250-5311-4153-a7e8-cd9463a9dfc7",
   "metadata": {},
   "source": [
    "<div style=\"text-align: justify\">Esta hipótesis establece que ninguna de las variables independientes tiene alguna relación lineal con la variable dependiente. El estadístico de prueba es:</div>"
   ]
  },
  {
   "cell_type": "markdown",
   "id": "6d3299a9-f69d-495a-8fc6-d898c24770a1",
   "metadata": {},
   "source": [
    "<div style=\"text-align: center\">$$F_0 = \\frac{MSR}{MSE}$$</div>"
   ]
  },
  {
   "cell_type": "markdown",
   "id": "674e654f-d6f4-49df-9525-9403e5a378c2",
   "metadata": {},
   "source": [
    "<div style=\"text-align: justify\">Si la hipótesis nula es rechazada, al menos una de las variables regresoras esta linealmente relacionada con la variable respuesta.</div>"
   ]
  },
  {
   "cell_type": "code",
   "execution_count": 27,
   "id": "ddf3fd0c-e456-4070-b8c3-3445f1fac339",
   "metadata": {
    "jupyter": {
     "source_hidden": true
    }
   },
   "outputs": [
    {
     "data": {
      "text/markdown": [
       "#### **Modelo** $\\left(\\hat{y} = \\hat{\\beta}_1 x_1 + \\hat{\\beta}_2 x_2 + \\hat{\\beta}_3 x_3 + \\hat{\\beta}_4 x_4\\right)$"
      ]
     },
     "metadata": {},
     "output_type": "display_data"
    },
    {
     "data": {
      "text/plain": [
       "\n",
       "Call:\n",
       "lm(formula = y ~ x1 + x2 + x3 + x4 + 0, data = df)\n",
       "\n",
       "Residuals:\n",
       "    Min      1Q  Median      3Q     Max \n",
       "-18.105 -10.928   1.694   8.119  22.722 \n",
       "\n",
       "Coefficients:\n",
       "   Estimate Std. Error t value Pr(>|t|)\n",
       "x1  0.58047    0.34775   1.669    0.134\n",
       "x2  8.58529    5.00166   1.716    0.124\n",
       "x3  0.51169    1.41463   0.362    0.727\n",
       "x4 -0.09017    0.66909  -0.135    0.896\n",
       "\n",
       "Residual standard error: 14.83 on 8 degrees of freedom\n",
       "Multiple R-squared:  0.9981,\tAdjusted R-squared:  0.9972 \n",
       "F-statistic:  1066 on 4 and 8 DF,  p-value: 6.136e-11\n"
      ]
     },
     "metadata": {},
     "output_type": "display_data"
    }
   ],
   "source": [
    "display_markdown('#### **Modelo** $\\\\left(\\\\hat{y} = \\\\hat{\\\\beta}_1 x_1 + \\\\hat{\\\\beta}_2 x_2 + \\\\hat{\\\\beta}_3 x_3 + \\\\hat{\\\\beta}_4 x_4\\\\right)$')\n",
    "model_summary <- summary(model)\n",
    "model_summary"
   ]
  },
  {
   "cell_type": "markdown",
   "id": "06e43ff6-9d22-4cc9-8726-0c8d8cc9ecfd",
   "metadata": {},
   "source": [
    "<div style=\"text-align: justify\">El p-valor de la regresión es $6.136e-11 < 0.01$, así que se rechaza la hipótesis nula de que al menos uno de los parámetros $\\beta_i$ del modelo es 0.</div>"
   ]
  },
  {
   "cell_type": "markdown",
   "id": "5e8990af-bb7f-41bf-8495-1be1be98354b",
   "metadata": {},
   "source": [
    "#### <div style=\"text-align: justify\">d) Estime $\\sigma^2$.</div>"
   ]
  },
  {
   "cell_type": "markdown",
   "id": "ed2de112-1dd1-4b78-aee5-d24c6f0fc157",
   "metadata": {},
   "source": [
    "<div style=\"text-align: justify\">La estimación de la varianza del error para un modelo de regresión múltiple con $p$ parámetros y $n$ observaciones es:</div>"
   ]
  },
  {
   "cell_type": "markdown",
   "id": "caaefa63-bcc8-4376-a963-9eda1db45ccd",
   "metadata": {},
   "source": [
    "<div style=\"text-align: center\">$$\\hat{\\sigma}^2 = \\frac{\\sum_{i=1}^{n}\\left(y_i - \\hat{y}_i\\right)^2}{n - p} = \\frac{SSE}{n - p} = MSE$$</div>"
   ]
  },
  {
   "cell_type": "code",
   "execution_count": 14,
   "id": "744a159f",
   "metadata": {
    "jupyter": {
     "source_hidden": true
    }
   },
   "outputs": [
    {
     "data": {
      "text/markdown": [
       "$\\hat{\\sigma^2} = \\text{MSE} =$ 219.7845"
      ]
     },
     "metadata": {},
     "output_type": "display_data"
    }
   ],
   "source": [
    "y_pred <- predict(model) # valores predichos\n",
    "y_true <- df['y'] # valores verdaderos\n",
    "SSE <- sum((y_true - y_pred)^2)\n",
    "MSE <- SSE / (12 - 4) # n=12 observaciones, p=4 coeficientes de regresión\n",
    "display_markdown(paste(\"$\\\\hat{\\\\sigma^2} = \\\\text{MSE} =$\", round(MSE, 4)))"
   ]
  },
  {
   "cell_type": "code",
   "execution_count": 15,
   "id": "a98f72c2",
   "metadata": {
    "jupyter": {
     "source_hidden": true
    },
    "tags": []
   },
   "outputs": [
    {
     "data": {
      "text/plain": [
       "          Df Sum Sq Mean Sq  F value   Pr(>F)    \n",
       "x1         1 878301  878301 3996.189 4.36e-12 ***\n",
       "x2         1  58986   58986  268.383 1.94e-07 ***\n",
       "x3         1     26      26    0.117    0.741    \n",
       "x4         1      4       4    0.018    0.896    \n",
       "Residuals  8   1758     220                      \n",
       "---\n",
       "Signif. codes:  0 ‘***’ 0.001 ‘**’ 0.01 ‘*’ 0.05 ‘.’ 0.1 ‘ ’ 1"
      ]
     },
     "metadata": {},
     "output_type": "display_data"
    }
   ],
   "source": [
    "# Otra forma\n",
    "summary(aov(model))"
   ]
  },
  {
   "cell_type": "markdown",
   "id": "0be2dcd0-0f11-439d-9b87-8fd3d62f8cb2",
   "metadata": {},
   "source": [
    "<div style=\"text-align: justify\">La columna <b>Mean</b> de la fila <b>Residuals</b> es el MSE, y su valor coincide con el calculado previamente.</div>"
   ]
  },
  {
   "cell_type": "markdown",
   "id": "5f742383-f08d-43b1-a2fb-fd8929d4e346",
   "metadata": {},
   "source": [
    "#### <div style=\"text-align: justify\">e) Utilice la prueba t para evaluar la contribución al modelo de cada variable de regresión. Si se emplea $\\alpha = 0.01$, ¿qué conclusiones pueden obtenerse?</div>"
   ]
  },
  {
   "cell_type": "markdown",
   "id": "b846a867-1d5d-4236-915a-b17110f2fcd2",
   "metadata": {},
   "source": [
    "<div style=\"text-align: justify\">El estadístico $t$ de Student se utiliza para probar la hipótesis nula de que el valor verdadero del coeficiente $\\beta_j$ es igual a 0. Este estadístico es igual al cociente del estimador del coeficiente y su desviación estándar:</div>"
   ]
  },
  {
   "cell_type": "markdown",
   "id": "17d22beb-9213-4b4b-98eb-3492f8b92e90",
   "metadata": {},
   "source": [
    "<div style=\"text-align: center\">$$T_0 = \\frac{\\hat{\\beta}_j}{\\text{se}\\left(\\hat{\\beta}_j\\right)}$$</div>"
   ]
  },
  {
   "cell_type": "code",
   "execution_count": 28,
   "id": "40ce80e2",
   "metadata": {
    "jupyter": {
     "source_hidden": true
    },
    "tags": []
   },
   "outputs": [
    {
     "data": {
      "text/markdown": [
       "#### **Modelo** $\\left(\\hat{y} = \\hat{\\beta}_1 x_1 + \\hat{\\beta}_2 x_2 + \\hat{\\beta}_3 x_3 + \\hat{\\beta}_4 x_4\\right)$"
      ]
     },
     "metadata": {},
     "output_type": "display_data"
    },
    {
     "data": {
      "text/plain": [
       "\n",
       "Call:\n",
       "lm(formula = y ~ x1 + x2 + x3 + x4 + 0, data = df)\n",
       "\n",
       "Residuals:\n",
       "    Min      1Q  Median      3Q     Max \n",
       "-18.105 -10.928   1.694   8.119  22.722 \n",
       "\n",
       "Coefficients:\n",
       "   Estimate Std. Error t value Pr(>|t|)\n",
       "x1  0.58047    0.34775   1.669    0.134\n",
       "x2  8.58529    5.00166   1.716    0.124\n",
       "x3  0.51169    1.41463   0.362    0.727\n",
       "x4 -0.09017    0.66909  -0.135    0.896\n",
       "\n",
       "Residual standard error: 14.83 on 8 degrees of freedom\n",
       "Multiple R-squared:  0.9981,\tAdjusted R-squared:  0.9972 \n",
       "F-statistic:  1066 on 4 and 8 DF,  p-value: 6.136e-11\n"
      ]
     },
     "metadata": {},
     "output_type": "display_data"
    }
   ],
   "source": [
    "display_markdown('#### **Modelo** $\\\\left(\\\\hat{y} = \\\\hat{\\\\beta}_1 x_1 + \\\\hat{\\\\beta}_2 x_2 + \\\\hat{\\\\beta}_3 x_3 + \\\\hat{\\\\beta}_4 x_4\\\\right)$')\n",
    "model_summary"
   ]
  },
  {
   "cell_type": "markdown",
   "id": "d1078a7f-2eca-44f9-b51a-2ea81ee6a295",
   "metadata": {},
   "source": [
    "<div style=\"text-align: justify\">El p-valor del test $H_0: \\beta_j = 0$ es mayor que $\\alpha = 0.01$ para todos los coeficientes del modelo. Este resultado indica que la contribución de cada variable regresora, dado que el resto de los regresores también se incluyen en el modelo, es poco significativa.</div>"
   ]
  },
  {
   "cell_type": "markdown",
   "id": "000fa45b-4b93-4826-a5b1-d5e5c937a1d5",
   "metadata": {
    "tags": []
   },
   "source": [
    "#### <div style=\"text-align: justify\">f) Encuentre un intervalo de confianza del 95% para los coeficientes de regresión $\\beta_1$, $\\beta_2$, $\\beta_3$ y $\\beta_4$.</div>"
   ]
  },
  {
   "cell_type": "markdown",
   "id": "334a5022-495f-4151-bd9a-4cc03135ccaa",
   "metadata": {},
   "source": [
    "<div style=\"text-align: justify\">Dado un modelo con $p$ parámetros y $n$ observaciones, el intervalo de confianza de $100(1 - \\alpha)%$ para un coeficiente de regresión $\\beta_j$ individual está dado por:</div>"
   ]
  },
  {
   "cell_type": "markdown",
   "id": "641e3b81-db53-4b31-9b23-b5d3205e8e41",
   "metadata": {},
   "source": [
    "#### <div style=\"text-align: center\">$$\\hat{\\beta}_j \\pm t_{\\alpha/2, n-p}se(\\hat{\\beta}_j)$$</div>"
   ]
  },
  {
   "cell_type": "markdown",
   "id": "a10e7a27-ac67-43af-a822-34e9c7a350f9",
   "metadata": {},
   "source": [
    "<div style=\"text-align: justify\">donde $\\hat{\\beta}_j$ es la estimación del coeficiente de regresión, $t_{\\alpha/2, n-p}$ es el valor de la distribución t de Student con $\\left(\\alpha/2, n-p\\right)$ grados de libertad y $se(\\hat{\\beta}_j)$ es la desviación standard de la estimación del coeficiente.</div>"
   ]
  },
  {
   "cell_type": "code",
   "execution_count": 31,
   "id": "1ee60951-8369-49b3-947f-be104055f34f",
   "metadata": {
    "jupyter": {
     "source_hidden": true
    },
    "tags": []
   },
   "outputs": [
    {
     "data": {
      "text/markdown": [
       "Intervalos de confianza del 95% para los coeficientes de regresión:"
      ]
     },
     "metadata": {},
     "output_type": "display_data"
    },
    {
     "data": {
      "text/markdown": [
       "$\\beta_1$: (-0.2214, 1.3824)"
      ]
     },
     "metadata": {},
     "output_type": "display_data"
    },
    {
     "data": {
      "text/markdown": [
       "$\\beta_2$: (-2.9486, 20.1191)"
      ]
     },
     "metadata": {},
     "output_type": "display_data"
    },
    {
     "data": {
      "text/markdown": [
       "$\\beta_3$: (-2.7505, 3.7738)"
      ]
     },
     "metadata": {},
     "output_type": "display_data"
    },
    {
     "data": {
      "text/markdown": [
       "$\\beta_4$: (-1.6331, 1.4528)"
      ]
     },
     "metadata": {},
     "output_type": "display_data"
    }
   ],
   "source": [
    "alpha <- 0.05\n",
    "beta <- as.data.frame(model_summary$coefficients)['Estimate']\n",
    "std_dev <- as.data.frame(model_summary$coefficients)['Std. Error']\n",
    "t <- qt(alpha/2, 8, lower.tail=FALSE) # 8 grados de libertad\n",
    "conf_int <- as.data.frame(c(round(beta - t * std_dev, 4), round(beta + t * std_dev, 4)), col.names=c('lwr', 'upr'), row.names=c('$\\\\beta_1$', '$\\\\beta_2$', '$\\\\beta_3$', '$\\\\beta_4$'))\n",
    "display_markdown(\"Intervalos de confianza del 95% para los coeficientes de regresión:\")\n",
    "for (row in 1:nrow(conf_int))\n",
    "{\n",
    "    display_markdown(glue::glue(\"{rownames(conf_int)[row]}: ({conf_int$lwr[row]}, {conf_int$upr[row]})\"))\n",
    "}"
   ]
  },
  {
   "cell_type": "code",
   "execution_count": 32,
   "id": "22f31444-df43-4ae8-aceb-7b03b12d6d5b",
   "metadata": {
    "tags": []
   },
   "outputs": [],
   "source": [
    "names <- c('β1', 'β2', 'β3', 'β4')\n",
    "conf_int$avg <- apply(conf_int, 1, mean)"
   ]
  },
  {
   "cell_type": "code",
   "execution_count": 34,
   "id": "2d56b7c4",
   "metadata": {
    "tags": []
   },
   "outputs": [
    {
     "data": {
      "image/png": "[encoded data removed]",
      "text/plain": [
       "plot without title"
      ]
     },
     "metadata": {},
     "output_type": "display_data"
    }
   ],
   "source": [
    "# Gráfico de los intervalos de confianza\n",
    "options(repr.plot.width=7, repr.plot.height=4)\n",
    "ggplot(conf_int, aes(names, avg, colour=names)) + \n",
    "    ggtitle(\"Intervalos de confianza de 95% para los coeficientes de regresión\") +\n",
    "    geom_errorbar(aes(ymin=lwr, ymax=upr), width = 0.2) +\n",
    "    labs(x=TeX('Coeficientes regresión ($\\\\beta$ )'), y='Intervalo de confianza', color='Coeficientes') +\n",
    "    geom_hline(yintercept=0, linetype=\"dashed\", col=\"black\") +\n",
    "    theme_light()"
   ]
  },
  {
   "cell_type": "markdown",
   "id": "49b62494-7346-4fde-99c1-80053b2eb259",
   "metadata": {},
   "source": [
    "<div style=\"text-align: justify\">Todos los intervalos incluyen al cero, y por lo tanto no es posible rechazar la hipótesis $H_0: \\beta_j = 0$.</div>"
   ]
  },
  {
   "cell_type": "markdown",
   "id": "401316e4-5c40-495b-95c6-19537e171a14",
   "metadata": {},
   "source": [
    "#### <div style=\"text-align: justify\">g) Encuentre un intervalo de confianza del 95% para la media de Y cuando $x_1 = 75$, $x_2 = 24$, $x_3 = 30$ y $x_4 = 98$.</div>"
   ]
  },
  {
   "cell_type": "markdown",
   "id": "12894d62-4cc5-4787-a99f-61d02d3622c7",
   "metadata": {},
   "source": [
    "<div style=\"text-align: justify\">El intervalo de confianza de $100(1 - \\alpha)%$ para la respuesta media en el punto $\\left(x_1 = x_{01}, x_2 = x_{02}, x_3 = x_{03}, x_4 = x_{04}\\right)$ está dado por:</div>"
   ]
  },
  {
   "cell_type": "markdown",
   "id": "bab7f5f2-da70-4fca-9619-e40414b579d8",
   "metadata": {},
   "source": [
    "#### <div style=\"text-align: center\">$$\\hat{\\mu} \\pm t_{\\alpha/2, n-p}se(\\hat{\\mu})$$</div>"
   ]
  },
  {
   "cell_type": "markdown",
   "id": "58a339ae-1a06-43f2-bc1e-8d1990bfb3e2",
   "metadata": {},
   "source": [
    "<div style=\"text-align: justify\">donde:</div>"
   ]
  },
  {
   "cell_type": "markdown",
   "id": "b297fb21-3da1-4ec3-83e8-cf1898ffa27e",
   "metadata": {},
   "source": [
    "#### <div style=\"text-align: center\">$$\\hat{\\mu} = \\hat{\\beta}_1 x_{01} + \\hat{\\beta}_2 x_{02} + \\hat{\\beta}_3 x_{03} + \\hat{\\beta}_4 x_{04}$$</div>"
   ]
  },
  {
   "cell_type": "code",
   "execution_count": 211,
   "id": "f3a6a804",
   "metadata": {
    "jupyter": {
     "source_hidden": true
    }
   },
   "outputs": [
    {
     "data": {
      "text/html": [
       "<table>\n",
       "<thead><tr><th scope=col>fit</th><th scope=col>lwr</th><th scope=col>upr</th></tr></thead>\n",
       "<tbody>\n",
       "\t<tr><td>256.0967</td><td>75.37213</td><td>436.8212</td></tr>\n",
       "</tbody>\n",
       "</table>\n"
      ],
      "text/latex": [
       "\\begin{tabular}{r|lll}\n",
       " fit & lwr & upr\\\\\n",
       "\\hline\n",
       "\t 256.0967 & 75.37213 & 436.8212\\\\\n",
       "\\end{tabular}\n"
      ],
      "text/markdown": [
       "\n",
       "| fit | lwr | upr |\n",
       "|---|---|---|\n",
       "| 256.0967 | 75.37213 | 436.8212 |\n",
       "\n"
      ],
      "text/plain": [
       "  fit      lwr      upr     \n",
       "1 256.0967 75.37213 436.8212"
      ]
     },
     "metadata": {},
     "output_type": "display_data"
    },
    {
     "data": {
      "text/markdown": [
       "Intervalo de confianza del 95% para la media de la potencia mensual consumida: $\\left(75.3721, 436.8212\\right)$"
      ]
     },
     "metadata": {},
     "output_type": "display_data"
    }
   ],
   "source": [
    "x_test <- data.frame(x1=75, x2=24, x3=30, x4=98)\n",
    "y_conf <- predict(model, x_test, interval=\"confidence\", level=0.95, type=\"response\")\n",
    "y_conf\n",
    "display_markdown(sprintf(\"Intervalo de confianza del 95%% para la media de la potencia mensual consumida: $\\\\left(%.4f, %.4f\\\\right)$\", y_conf[2], y_conf[3]))"
   ]
  },
  {
   "cell_type": "markdown",
   "id": "52e88d4e-654e-4cd2-8ab6-4d8446b7120f",
   "metadata": {},
   "source": [
    "#### <div style=\"text-align: justify\">h) Encuentre un intervalo de predicción del 95% para la media de Y cuando $x_1 = 75$, $x_2 = 24$, $x_3 = 30$ y $x_4 = 98$.</div>"
   ]
  },
  {
   "cell_type": "markdown",
   "id": "1ad851e0-bf75-4f6c-9512-d8588e9baf90",
   "metadata": {},
   "source": [
    "<div style=\"text-align: justify\">El intervalo de predicción de $100(1 - \\alpha)%$ para una observación futura en el punto $\\left(x_1 = x_{01}, x_2 = x_{02}, x_3 = x_{03}, x_4 = x_{04}\\right)$ está dado por:</div>"
   ]
  },
  {
   "cell_type": "markdown",
   "id": "9116f081-6dbc-4abf-8f53-d26912bdb8e2",
   "metadata": {
    "tags": []
   },
   "source": [
    "#### <div style=\"text-align: center\">$$\\hat{y}_0 \\pm t_{\\alpha/2, n-p} \\sqrt{\\hat{\\sigma}^2 + \\left[se\\left(\\hat{\\mu}\\right)\\right]^2}$$</div>"
   ]
  },
  {
   "cell_type": "markdown",
   "id": "3a429583-6ee8-4494-83a4-7424ef4f195a",
   "metadata": {},
   "source": [
    "<div style=\"text-align: justify\">donde:</div>"
   ]
  },
  {
   "cell_type": "markdown",
   "id": "dfb8f7ee-925f-4792-a755-428685b6f445",
   "metadata": {},
   "source": [
    "#### <div style=\"text-align: center\">$$\\hat{y}_0 = \\hat{\\mu} = \\hat{\\beta}_1 x_{01} + \\hat{\\beta}_2 x_{02} + \\hat{\\beta}_3 x_{03} + \\hat{\\beta}_4 x_{04}$$</div>"
   ]
  },
  {
   "cell_type": "code",
   "execution_count": 214,
   "id": "cd716cb5",
   "metadata": {
    "jupyter": {
     "source_hidden": true
    }
   },
   "outputs": [
    {
     "data": {
      "text/html": [
       "<table>\n",
       "<thead><tr><th scope=col>fit</th><th scope=col>lwr</th><th scope=col>upr</th></tr></thead>\n",
       "<tbody>\n",
       "\t<tr><td>256.0967</td><td>72.16707</td><td>440.0262</td></tr>\n",
       "</tbody>\n",
       "</table>\n"
      ],
      "text/latex": [
       "\\begin{tabular}{r|lll}\n",
       " fit & lwr & upr\\\\\n",
       "\\hline\n",
       "\t 256.0967 & 72.16707 & 440.0262\\\\\n",
       "\\end{tabular}\n"
      ],
      "text/markdown": [
       "\n",
       "| fit | lwr | upr |\n",
       "|---|---|---|\n",
       "| 256.0967 | 72.16707 | 440.0262 |\n",
       "\n"
      ],
      "text/plain": [
       "  fit      lwr      upr     \n",
       "1 256.0967 72.16707 440.0262"
      ]
     },
     "metadata": {},
     "output_type": "display_data"
    },
    {
     "data": {
      "text/markdown": [
       "Intervalo de predicción del 95% para la media de la potencia mensual consumida: $\\left(72.1671, 440.0262\\right)$"
      ]
     },
     "metadata": {},
     "output_type": "display_data"
    }
   ],
   "source": [
    "y_pred <- predict(model, x_test, interval=\"prediction\", level=0.95, type=\"response\")\n",
    "y_pred\n",
    "display_markdown(sprintf(\"Intervalo de predicción del 95%% para la media de la potencia mensual consumida: $\\\\left(%.4f, %.4f\\\\right)$\", y_pred[2], y_pred[3]))"
   ]
  },
  {
   "cell_type": "code",
   "execution_count": 215,
   "id": "98174d57",
   "metadata": {
    "jupyter": {
     "source_hidden": true
    }
   },
   "outputs": [
    {
     "data": {
      "text/plain": [
       "\n",
       "Call:\n",
       "lm(formula = y ~ x1 + x2 + x3 + x4 + 0, data = df)\n",
       "\n",
       "Residuals:\n",
       "    Min      1Q  Median      3Q     Max \n",
       "-18.105 -10.928   1.694   8.119  22.722 \n",
       "\n",
       "Coefficients:\n",
       "   Estimate Std. Error t value Pr(>|t|)\n",
       "x1  0.58047    0.34775   1.669    0.134\n",
       "x2  8.58529    5.00166   1.716    0.124\n",
       "x3  0.51169    1.41463   0.362    0.727\n",
       "x4 -0.09017    0.66909  -0.135    0.896\n",
       "\n",
       "Residual standard error: 14.83 on 8 degrees of freedom\n",
       "Multiple R-squared:  0.9981,\tAdjusted R-squared:  0.9972 \n",
       "F-statistic:  1066 on 4 and 8 DF,  p-value: 6.136e-11\n"
      ]
     },
     "metadata": {},
     "output_type": "display_data"
    }
   ],
   "source": [
    "model_summary"
   ]
  },
  {
   "cell_type": "markdown",
   "id": "969d68e1-6905-4593-a063-a98cb88fb1d4",
   "metadata": {
    "tags": []
   },
   "source": [
    "<div style=\"text-align: justify\">El valor del coeficiente de determinación $R^2$ es cercano a uno. Esto significa que prácticamente toda la dispersión de la variable dependiente $\\left(y\\right)$ es predecible a partir de las variables independientes $\\left(x_i\\right)$, y por lo tanto la calidad del modelo para replicar resultados es buena.</div>"
   ]
  },
  {
   "cell_type": "markdown",
   "id": "d88b5afe-6413-46fd-aba6-059eb20a6eb0",
   "metadata": {},
   "source": [
    "#### <div style=\"text-align: justify\">Respondo en conjunto:</div>\n",
    "#### <ul><li style=\"text-align: justify\">j ) Haga una gráfica de residuos contra $\\hat{y}$. Interprete esta gráfica.</li><br /><li style=\"text-align: justify\">k) Construya una gráfica de probabilidad normal de los residuos y haga un comentario sobre la suposición de normalidad.</li></ul>"
   ]
  },
  {
   "cell_type": "code",
   "execution_count": 12,
   "id": "ae5bd2d7",
   "metadata": {
    "jupyter": {
     "source_hidden": true
    },
    "tags": []
   },
   "outputs": [],
   "source": [
    "# LOWESS line (la misma linea que ajusta los valores usando plot(model)): \n",
    "smoothed <- data.frame(with(df, lowess(x = model$fitted, y = model$residuals)))"
   ]
  },
  {
   "cell_type": "code",
   "execution_count": 13,
   "id": "31999aae",
   "metadata": {
    "jupyter": {
     "source_hidden": true
    },
    "tags": []
   },
   "outputs": [
    {
     "data": {
      "image/png": "[encoded data removed]",
      "text/plain": [
       "plot without title"
      ]
     },
     "metadata": {},
     "output_type": "display_data"
    }
   ],
   "source": [
    "# Gráficos\n",
    "options(repr.plot.width=7, repr.plot.height=4)\n",
    "res_vs_fit <- ggplot(model) + \n",
    "    geom_point(aes(x=model$fitted, y=model$residuals),color= '#ff9696', size=2) +\n",
    "    geom_path(data = smoothed, aes(x = x, y = y), col=\"#a399ff\") +\n",
    "    geom_hline(linetype = 2, yintercept=0, alpha=0.2) +\n",
    "    ggtitle(\"Residuals vs Fitted\") +\n",
    "    xlab(\"Fitted\") +\n",
    "    ylab(\"Residuals\") +\n",
    "    theme_light() +\n",
    "    theme(plot.title = element_text(hjust = 0.5))\n",
    "\n",
    "qq_plot <- ggplot(model, aes(qqnorm(.stdresid)[[1]], .stdresid)) +\n",
    "    geom_point(na.rm = TRUE,color= '#ff9696') +\n",
    "    geom_abline(col=\"#a399ff\") +\n",
    "    xlab(\"Theoretical Quantiles\") +\n",
    "    ylab(\"Standardized Residuals\") +\n",
    "    ggtitle(\"Normal Q-Q\") +\n",
    "    theme_light() +\n",
    "    theme(plot.title = element_text(hjust = 0.5))\n",
    "\n",
    "plot_grid(res_vs_fit, qq_plot, ncol = 2)\n"
   ]
  },
  {
   "cell_type": "markdown",
   "id": "b4a19116-0cef-4100-8496-7bb3c08c0648",
   "metadata": {},
   "source": [
    "<div style=\"text-align: justify\">La gráfica de residuos vs valores ajustados sugiere que la varianza de los errores podría no ser constante, dado que se observa mayor dispersión en los valores intermedios que en los extremos. Sin embargo, esto no implica una violación grave del principio de varianza constante.</div>\n",
    "<div style=\"text-align: justify\">En cuanto a la gráfica de probabilidad normal, los valores se ajustan bastante bien a una recta, aunque se observa cierta desviación hacia los extremos del intervalo.</div>\n",
    "<div style=\"text-align: justify\">Se debe tener en cuenta que la cantidad de muestras es chica y esto dificulta un análisis visual concluyente.</div>"
   ]
  },
  {
   "cell_type": "markdown",
   "id": "8b4f6f28-ca0f-438b-bd41-b69c94178a7a",
   "metadata": {},
   "source": [
    "***\n",
    "<br></br>"
   ]
  },
  {
   "cell_type": "markdown",
   "id": "9f5f4df7-7673-4dfc-9dad-d2e6ae9db284",
   "metadata": {},
   "source": [
    "### **Ejercicio 3**"
   ]
  },
  {
   "cell_type": "markdown",
   "id": "a467167a-a586-482a-9616-0b7b6ff0be46",
   "metadata": {
    "tags": []
   },
   "source": [
    "#### <div style=\"text-align: justify\">Se efectúa un estudio sobre el desgaste de un cojinete $\\left(y\\right)$ y su relación con $x_1 = \\text{viscosidad del aceite}$, y $x_2 = \\text{carga}$. Se obtienen los siguientes datos:</div>"
   ]
  },
  {
   "cell_type": "markdown",
   "id": "07d51b0a-1759-42bf-bcba-8485c9d65c15",
   "metadata": {},
   "source": [
    "<table style=\"width: 50%\">\n",
    "<thead>\n",
    "  <tr style=\"background-color: black; color: white; font-size: larger\">\n",
    "    <th>$y$</th>\n",
    "    <th>$x_1$</th>\n",
    "    <th>$x_2$</th>\n",
    "  </tr>\n",
    "</thead>\n",
    "<tbody>\n",
    "  <tr>\n",
    "    <td style=\"text-align: center; vertical-align: middle;\">193</td>\n",
    "    <td style=\"text-align: center; vertical-align: middle;\">1.6</td>\n",
    "    <td style=\"text-align: center; vertical-align: middle;\">851</td>\n",
    "  </tr>\n",
    "  <tr>\n",
    "    <td style=\"text-align: center; vertical-align: middle;\">230</td>\n",
    "    <td style=\"text-align: center; vertical-align: middle;\">15.5</td>\n",
    "    <td style=\"text-align: center; vertical-align: middle;\">816</td>\n",
    "  </tr>\n",
    "  <tr>\n",
    "    <td style=\"text-align: center; vertical-align: middle;\">172</td>\n",
    "    <td style=\"text-align: center; vertical-align: middle;\">22.0</td>\n",
    "    <td style=\"text-align: center; vertical-align: middle;\">1058</td>\n",
    "  </tr>\n",
    "  <tr>\n",
    "    <td style=\"text-align: center; vertical-align: middle;\">91</td>\n",
    "    <td style=\"text-align: center; vertical-align: middle;\">43.0</td>\n",
    "    <td style=\"text-align: center; vertical-align: middle;\">1201</td>\n",
    "  </tr>\n",
    "  <tr>\n",
    "    <td style=\"text-align: center; vertical-align: middle;\">113</td>\n",
    "    <td style=\"text-align: center; vertical-align: middle;\">33.0</td>\n",
    "    <td style=\"text-align: center; vertical-align: middle;\">1357</td>\n",
    "  </tr>\n",
    "  <tr>\n",
    "    <td style=\"text-align: center; vertical-align: middle;\">125</td>\n",
    "    <td style=\"text-align: center; vertical-align: middle;\">40.0</td>\n",
    "    <td style=\"text-align: center; vertical-align: middle;\">1115</td>\n",
    "  </tr>\n",
    "</tbody>\n",
    "</table>"
   ]
  },
  {
   "cell_type": "code",
   "execution_count": 121,
   "id": "e86a89b8",
   "metadata": {
    "tags": []
   },
   "outputs": [
    {
     "data": {
      "text/html": [
       "<table>\n",
       "<thead><tr><th></th><th scope=col>y</th><th scope=col>x1</th><th scope=col>x2</th></tr></thead>\n",
       "<tbody>\n",
       "\t<tr><th scope=row>Min.</th><td> 91.00  </td><td> 1.600  </td><td> 816.000</td></tr>\n",
       "\t<tr><th scope=row>1st Qu.</th><td>116.00  </td><td>17.125  </td><td> 902.750</td></tr>\n",
       "\t<tr><th scope=row>Median</th><td>148.50  </td><td>27.500  </td><td>1086.500</td></tr>\n",
       "\t<tr><th scope=row>Mean</th><td>154.00  </td><td>25.850  </td><td>1066.333</td></tr>\n",
       "\t<tr><th scope=row>3rd Qu.</th><td>187.75  </td><td>38.250  </td><td>1179.500</td></tr>\n",
       "\t<tr><th scope=row>Max.</th><td>230.00  </td><td>43.000  </td><td>1357.000</td></tr>\n",
       "</tbody>\n",
       "</table>\n"
      ],
      "text/latex": [
       "\\begin{tabular}{r|lll}\n",
       "  & y & x1 & x2\\\\\n",
       "\\hline\n",
       "\tMin. &  91.00   &  1.600   &  816.000\\\\\n",
       "\t1st Qu. & 116.00   & 17.125   &  902.750\\\\\n",
       "\tMedian & 148.50   & 27.500   & 1086.500\\\\\n",
       "\tMean & 154.00   & 25.850   & 1066.333\\\\\n",
       "\t3rd Qu. & 187.75   & 38.250   & 1179.500\\\\\n",
       "\tMax. & 230.00   & 43.000   & 1357.000\\\\\n",
       "\\end{tabular}\n"
      ],
      "text/markdown": [
       "\n",
       "| <!--/--> | y | x1 | x2 |\n",
       "|---|---|---|---|\n",
       "| Min. |  91.00   |  1.600   |  816.000 |\n",
       "| 1st Qu. | 116.00   | 17.125   |  902.750 |\n",
       "| Median | 148.50   | 27.500   | 1086.500 |\n",
       "| Mean | 154.00   | 25.850   | 1066.333 |\n",
       "| 3rd Qu. | 187.75   | 38.250   | 1179.500 |\n",
       "| Max. | 230.00   | 43.000   | 1357.000 |\n",
       "\n"
      ],
      "text/plain": [
       "        y      x1     x2      \n",
       "Min.     91.00  1.600  816.000\n",
       "1st Qu. 116.00 17.125  902.750\n",
       "Median  148.50 27.500 1086.500\n",
       "Mean    154.00 25.850 1066.333\n",
       "3rd Qu. 187.75 38.250 1179.500\n",
       "Max.    230.00 43.000 1357.000"
      ]
     },
     "metadata": {},
     "output_type": "display_data"
    }
   ],
   "source": [
    "df <- data.frame(read.table(\"./TP3_tables/data3.txt\", header = TRUE))\n",
    "names(df) <- c(\"y\", \"x1\", \"x2\")\n",
    "apply(df, 2, summary)"
   ]
  },
  {
   "cell_type": "markdown",
   "id": "35d34247-31ea-448c-88cb-94cde1300058",
   "metadata": {
    "tags": []
   },
   "source": [
    "#### <div style=\"text-align: justify\">a) Ajuste un modelo de regresión lineal múltiple a los datos contenidos en la tabla anterior.</div>"
   ]
  },
  {
   "cell_type": "code",
   "execution_count": 36,
   "id": "402bd8e0",
   "metadata": {
    "tags": []
   },
   "outputs": [
    {
     "data": {
      "text/plain": [
       "\n",
       "Call:\n",
       "lm(formula = y ~ x1 + x2, data = df)\n",
       "\n",
       "Coefficients:\n",
       "(Intercept)           x1           x2  \n",
       "   350.9943      -1.2720      -0.1539  \n"
      ]
     },
     "metadata": {},
     "output_type": "display_data"
    }
   ],
   "source": [
    "model_1 <- lm(y ~ x1 + x2, data=df)\n",
    "model_1"
   ]
  },
  {
   "cell_type": "code",
   "execution_count": 37,
   "id": "fff4a5f3-2d94-447d-9382-720d20c0dfcb",
   "metadata": {
    "jupyter": {
     "source_hidden": true
    },
    "tags": []
   },
   "outputs": [
    {
     "data": {
      "text/markdown": [
       "#### **Primer modelo** $\\left(y = \\beta_0 + \\beta_1 x_1 + \\beta_2 x_2 \\right)$"
      ]
     },
     "metadata": {},
     "output_type": "display_data"
    },
    {
     "data": {
      "text/plain": [
       "\n",
       "Call:\n",
       "lm(formula = y ~ x1 + x2, data = df)\n",
       "\n",
       "Residuals:\n",
       "      1       2       3       4       5       6 \n",
       "-24.987  24.307  11.820 -20.460  12.830  -3.511 \n",
       "\n",
       "Coefficients:\n",
       "             Estimate Std. Error t value Pr(>|t|)  \n",
       "(Intercept) 350.99427   74.75307   4.695   0.0183 *\n",
       "x1           -1.27199    1.16914  -1.088   0.3562  \n",
       "x2           -0.15390    0.08953  -1.719   0.1841  \n",
       "---\n",
       "Signif. codes:  0 ‘***’ 0.001 ‘**’ 0.01 ‘*’ 0.05 ‘.’ 0.1 ‘ ’ 1\n",
       "\n",
       "Residual standard error: 25.5 on 3 degrees of freedom\n",
       "Multiple R-squared:  0.8618,\tAdjusted R-squared:  0.7696 \n",
       "F-statistic: 9.353 on 2 and 3 DF,  p-value: 0.05138\n"
      ]
     },
     "metadata": {},
     "output_type": "display_data"
    }
   ],
   "source": [
    "display_markdown('#### **Primer modelo** $\\\\left(y = \\\\beta_0 + \\\\beta_1 x_1 + \\\\beta_2 x_2 \\\\right)$')\n",
    "summary(model_1)"
   ]
  },
  {
   "cell_type": "markdown",
   "id": "4433d786-efd0-42b4-a75d-492befeaa979",
   "metadata": {
    "tags": []
   },
   "source": [
    "#### <div style=\"text-align: justify\">b) Utilice el modelo para predecir el desgaste cuando $x_1 = 25$ y $x_2 = 1000$.</div>"
   ]
  },
  {
   "cell_type": "code",
   "execution_count": 42,
   "id": "793c5755",
   "metadata": {
    "jupyter": {
     "source_hidden": true
    },
    "tags": []
   },
   "outputs": [
    {
     "data": {
      "text/markdown": [
       "$\\hat{y} = \\hat{\\beta}_0 + \\hat{\\beta}_1 \\times 25 + \\hat{\\beta}_2 \\times 1000 = $ 165.2902"
      ]
     },
     "metadata": {},
     "output_type": "display_data"
    }
   ],
   "source": [
    "x_test <- data.frame(x1=25, x2=1000)\n",
    "y_test_1 <- predict(model_1, x_test, interval = \"none\", type = \"response\")\n",
    "display_markdown(paste(\"$\\\\hat{y} = \\\\hat{\\\\beta}_0 + \\\\hat{\\\\beta}_1 \\\\times 25 + \\\\hat{\\\\beta}_2 \\\\times 1000 = $\", round(y_test_1, 4)))"
   ]
  },
  {
   "cell_type": "markdown",
   "id": "d669b854-a5d0-46c4-837b-b4c33a05bedc",
   "metadata": {},
   "source": [
    "#### <div style=\"text-align: justify\">c) Ajuste un modelo de regresión lineal múltiple con un término de interacción entre los datos</div>"
   ]
  },
  {
   "cell_type": "code",
   "execution_count": 39,
   "id": "ba925909-f853-40fc-ba83-6f9f785d0e16",
   "metadata": {
    "jupyter": {
     "source_hidden": true
    },
    "tags": []
   },
   "outputs": [
    {
     "data": {
      "text/plain": [
       "\n",
       "Call:\n",
       "lm(formula = y ~ x1 * x2, data = df)\n",
       "\n",
       "Coefficients:\n",
       "(Intercept)           x1           x2        x1:x2  \n",
       " 125.865548     7.758641     0.094304    -0.009186  \n"
      ]
     },
     "metadata": {},
     "output_type": "display_data"
    }
   ],
   "source": [
    "model_2 <- lm(y ~ x1 * x2, data=df)\n",
    "model_2"
   ]
  },
  {
   "cell_type": "code",
   "execution_count": 40,
   "id": "b7f9d247",
   "metadata": {
    "jupyter": {
     "source_hidden": true
    },
    "tags": []
   },
   "outputs": [
    {
     "data": {
      "text/markdown": [
       "#### **Segundo modelo** $\\left(y = \\beta_0 + \\beta_1 x_1 + \\beta_2 x_2 + \\beta_{1:2} x_1 x_2\\right)$"
      ]
     },
     "metadata": {},
     "output_type": "display_data"
    },
    {
     "data": {
      "text/plain": [
       "\n",
       "Call:\n",
       "lm(formula = y ~ x1 * x2, data = df)\n",
       "\n",
       "Residuals:\n",
       "      1       2       3       4       5       6 \n",
       "-13.025  23.105 -10.521  -7.364  14.478  -6.674 \n",
       "\n",
       "Coefficients:\n",
       "              Estimate Std. Error t value Pr(>|t|)\n",
       "(Intercept) 125.865548 197.957166   0.636    0.590\n",
       "x1            7.758641   7.514795   1.032    0.410\n",
       "x2            0.094304   0.220657   0.427    0.711\n",
       "x1:x2        -0.009186   0.007564  -1.214    0.349\n",
       "\n",
       "Residual standard error: 23.69 on 2 degrees of freedom\n",
       "Multiple R-squared:  0.9205,\tAdjusted R-squared:  0.8011 \n",
       "F-statistic: 7.714 on 3 and 2 DF,  p-value: 0.1169\n"
      ]
     },
     "metadata": {},
     "output_type": "display_data"
    }
   ],
   "source": [
    "display_markdown('#### **Segundo modelo** $\\\\left(y = \\\\beta_0 + \\\\beta_1 x_1 + \\\\beta_2 x_2 + \\\\beta_{1:2} x_1 x_2\\\\right)$')\n",
    "summary(model_2)"
   ]
  },
  {
   "cell_type": "code",
   "execution_count": 41,
   "id": "a6ef2e67-bf1c-405c-9a72-0df8fa795d47",
   "metadata": {
    "jupyter": {
     "source_hidden": true
    },
    "tags": []
   },
   "outputs": [
    {
     "data": {
      "text/markdown": [
       "$\\hat{y} = \\hat{\\beta}_0 + \\hat{\\beta}_1 \\times 25 + \\hat{\\beta}_2 \\times 1000 + \\hat{\\beta}_{1:2} \\times 25 \\times 1000 = $ 184.4907"
      ]
     },
     "metadata": {},
     "output_type": "display_data"
    }
   ],
   "source": [
    "y_test_2 <- predict(model_2, x_test, interval = \"none\", type = \"response\")\n",
    "display_markdown(paste(\"$\\\\hat{y} = \\\\hat{\\\\beta}_0 + \\\\hat{\\\\beta}_1 \\\\times 25 + \\\\hat{\\\\beta}_2 \\\\times 1000 + \\\\hat{\\\\beta}_{1:2} \\\\times 25 \\\\times 1000 = $\", round(y_test_2, 4)))"
   ]
  },
  {
   "cell_type": "markdown",
   "id": "d93b55b4-289e-4074-a2a1-31d02a3ae4a4",
   "metadata": {},
   "source": [
    "<div style=\"text-align: justify\">El primer modelo predijo un valor de $165.2902$, mientras que el segundo modelo predijo $184.4907$. Algunas observaciones:\n",
    "    <ul>\n",
    "        <li>En ambos casos el test de significancia de la regresión arrojó p-valores mayores a $0.05$ $\\left(\\text{p-valor}_1 =0.05138 \\text{ y p-valor}_2 = 0.1169\\right)$. Por lo tanto se aceptan las hipótesis nulas de que la variable dependiente $\\left(y\\right)$ no depende de las variables regresoras $\\left(x_1 \\text{ y } x_2\\right)$.</li>\n",
    "        <li>En el primer modelo las estimaciones de los coeficientes $\\beta_1$ y $\\beta_2$ arrojaron valores negativos, lo cual indica una relación inversa entre la variable dependiente y las regresoras. En el segundo modelo estas estimaciones resultaron positivas, mientras que la estimación del coeficiente del término de interacción fue negativa.</li>\n",
    "    </ul>\n",
    "</div>"
   ]
  },
  {
   "cell_type": "markdown",
   "id": "86c9e61c-9fa3-4da1-8f72-28c7efb25734",
   "metadata": {},
   "source": [
    "#### <div style=\"text-align: justify\">e) Pruebe la significancia de la regresión utilizando $\\alpha = 0.05$. ¿Cuál es el p-valor de la prueba? ¿Qué conclusiones se obtienen?</div>"
   ]
  },
  {
   "cell_type": "markdown",
   "id": "aee4e90c-9733-46aa-ac0d-018e6aa630a6",
   "metadata": {},
   "source": [
    "<div style=\"text-align: justify\">Para determinar la significancia de la regresión se prueba la hipótesis nula:</div>"
   ]
  },
  {
   "cell_type": "markdown",
   "id": "de294206-97da-4f5c-96a9-98d519ab966c",
   "metadata": {},
   "source": [
    "<div style=\"text-align: center\">$$H_{0_1}: \\beta_1 = \\beta_2 = 0$$</div>"
   ]
  },
  {
   "cell_type": "markdown",
   "id": "791877b2-9df5-45ab-a04a-0d9cdd9cb45c",
   "metadata": {},
   "source": [
    "<div style=\"text-align: justify\">Para ello se utiliza el estadístico $F$.</div>"
   ]
  },
  {
   "cell_type": "code",
   "execution_count": 67,
   "id": "0e52d579-721c-466d-8d99-5bbd632b2e18",
   "metadata": {
    "jupyter": {
     "source_hidden": true
    },
    "tags": []
   },
   "outputs": [
    {
     "data": {
      "text/markdown": [
       "#### **Primer modelo** $\\left(y = \\beta_0 + \\beta_1 x_1 + \\beta_2 x_2 \\right)$"
      ]
     },
     "metadata": {},
     "output_type": "display_data"
    },
    {
     "data": {
      "text/plain": [
       "\n",
       "Call:\n",
       "lm(formula = y ~ x1 + x2, data = df)\n",
       "\n",
       "Residuals:\n",
       "      1       2       3       4       5       6 \n",
       "-24.987  24.307  11.820 -20.460  12.830  -3.511 \n",
       "\n",
       "Coefficients:\n",
       "             Estimate Std. Error t value Pr(>|t|)  \n",
       "(Intercept) 350.99427   74.75307   4.695   0.0183 *\n",
       "x1           -1.27199    1.16914  -1.088   0.3562  \n",
       "x2           -0.15390    0.08953  -1.719   0.1841  \n",
       "---\n",
       "Signif. codes:  0 ‘***’ 0.001 ‘**’ 0.01 ‘*’ 0.05 ‘.’ 0.1 ‘ ’ 1\n",
       "\n",
       "Residual standard error: 25.5 on 3 degrees of freedom\n",
       "Multiple R-squared:  0.8618,\tAdjusted R-squared:  0.7696 \n",
       "F-statistic: 9.353 on 2 and 3 DF,  p-value: 0.05138\n"
      ]
     },
     "metadata": {},
     "output_type": "display_data"
    }
   ],
   "source": [
    "display_markdown('#### **Primer modelo** $\\\\left(y = \\\\beta_0 + \\\\beta_1 x_1 + \\\\beta_2 x_2 \\\\right)$')\n",
    "summary(model_1)"
   ]
  },
  {
   "cell_type": "markdown",
   "id": "07b727ca-d3b3-4345-bde2-5d115867c2a3",
   "metadata": {},
   "source": [
    "<div style=\"text-align: justify\">Para el primer modelo, el valor del estadístico es $F = 9.353$ y el $\\text{p-valor} = 0.05138 > 0.05$. Como se había anticipado en el inciso anterior, no es posible rechazar la hipótesis nula.</div>"
   ]
  },
  {
   "cell_type": "markdown",
   "id": "2e612203-1d60-47e1-a6ba-1655cb7270bc",
   "metadata": {},
   "source": [
    "<div style=\"text-align: justify\">De forma análoga para el segundo modelo:</div>"
   ]
  },
  {
   "cell_type": "markdown",
   "id": "aaf35d81-7403-4198-9409-26d633ed168c",
   "metadata": {},
   "source": [
    "<div style=\"text-align: center\">$$H_{0_2}: \\beta_1 = \\beta_2 = \\beta_{1:2} = 0$$</div>"
   ]
  },
  {
   "cell_type": "code",
   "execution_count": 48,
   "id": "e6b5604e-2b89-4afb-89c5-90caa8af325d",
   "metadata": {
    "jupyter": {
     "source_hidden": true
    },
    "tags": []
   },
   "outputs": [
    {
     "data": {
      "text/markdown": [
       "#### **Segundo modelo** $\\left(y = \\beta_0 + \\beta_1 x_1 + \\beta_2 x_2 + \\beta_{1:2} x_1 x_2\\right)$"
      ]
     },
     "metadata": {},
     "output_type": "display_data"
    },
    {
     "data": {
      "text/plain": [
       "\n",
       "Call:\n",
       "lm(formula = y ~ x1 * x2, data = df)\n",
       "\n",
       "Residuals:\n",
       "      1       2       3       4       5       6 \n",
       "-13.025  23.105 -10.521  -7.364  14.478  -6.674 \n",
       "\n",
       "Coefficients:\n",
       "              Estimate Std. Error t value Pr(>|t|)\n",
       "(Intercept) 125.865548 197.957166   0.636    0.590\n",
       "x1            7.758641   7.514795   1.032    0.410\n",
       "x2            0.094304   0.220657   0.427    0.711\n",
       "x1:x2        -0.009186   0.007564  -1.214    0.349\n",
       "\n",
       "Residual standard error: 23.69 on 2 degrees of freedom\n",
       "Multiple R-squared:  0.9205,\tAdjusted R-squared:  0.8011 \n",
       "F-statistic: 7.714 on 3 and 2 DF,  p-value: 0.1169\n"
      ]
     },
     "metadata": {},
     "output_type": "display_data"
    }
   ],
   "source": [
    "display_markdown('#### **Segundo modelo** $\\\\left(y = \\\\beta_0 + \\\\beta_1 x_1 + \\\\beta_2 x_2 + \\\\beta_{1:2} x_1 x_2\\\\right)$')\n",
    "summary(model_2)"
   ]
  },
  {
   "cell_type": "markdown",
   "id": "4e9d603b-8b08-4ed8-b333-221ac92f8c66",
   "metadata": {},
   "source": [
    "<div style=\"text-align: justify\">En este caso el valor del estadístico es $F = 7.714$ y el $\\text{p-valor} = 0.1169 > 0.05$. Nuevamente, no es posible rechazar la hipótesis nula.</div>"
   ]
  },
  {
   "cell_type": "markdown",
   "id": "d4f7c4a6-cc2b-495f-a7a2-327be295b532",
   "metadata": {
    "tags": []
   },
   "source": [
    "#### <div style=\"text-align: justify\">f) Utilice la prueba t para evaluar la contribución al modelo de cada variable de regresión. Si se emplea $\\alpha = 0.05$, ¿qué conclusiones pueden obtenerse?</div>"
   ]
  },
  {
   "cell_type": "markdown",
   "id": "2e4ef554-933d-4998-9cea-2782da815ccb",
   "metadata": {},
   "source": [
    "<div style=\"text-align: justify\">Se utiliza el estadístico $t$ de Student para probar la hipótesis nula de que el valor verdadero de cada coeficiente $\\beta_j$ es igual a 0.</div>"
   ]
  },
  {
   "cell_type": "code",
   "execution_count": 50,
   "id": "d60cf7d8-9b99-4afd-9392-fcca5500aa96",
   "metadata": {
    "jupyter": {
     "source_hidden": true
    },
    "tags": []
   },
   "outputs": [
    {
     "data": {
      "text/markdown": [
       "#### **Primer modelo** $\\left(y = \\beta_0 + \\beta_1 x_1 + \\beta_2 x_2 \\right)$"
      ]
     },
     "metadata": {},
     "output_type": "display_data"
    },
    {
     "data": {
      "text/html": [
       "<table>\n",
       "<thead><tr><th></th><th scope=col>Estimate</th><th scope=col>Std. Error</th><th scope=col>t value</th><th scope=col>Pr(&gt;|t|)</th></tr></thead>\n",
       "<tbody>\n",
       "\t<tr><th scope=row>(Intercept)</th><td>350.9942706</td><td>74.75307396</td><td> 4.695382  </td><td>0.01826948 </td></tr>\n",
       "\t<tr><th scope=row>x1</th><td> -1.2719944</td><td> 1.16914009</td><td>-1.087974  </td><td>0.35620034 </td></tr>\n",
       "\t<tr><th scope=row>x2</th><td> -0.1539042</td><td> 0.08952967</td><td>-1.719030  </td><td>0.18410102 </td></tr>\n",
       "</tbody>\n",
       "</table>\n"
      ],
      "text/latex": [
       "\\begin{tabular}{r|llll}\n",
       "  & Estimate & Std. Error & t value & Pr(>\\textbar{}t\\textbar{})\\\\\n",
       "\\hline\n",
       "\t(Intercept) & 350.9942706 & 74.75307396 &  4.695382   & 0.01826948 \\\\\n",
       "\tx1 &  -1.2719944 &  1.16914009 & -1.087974   & 0.35620034 \\\\\n",
       "\tx2 &  -0.1539042 &  0.08952967 & -1.719030   & 0.18410102 \\\\\n",
       "\\end{tabular}\n"
      ],
      "text/markdown": [
       "\n",
       "| <!--/--> | Estimate | Std. Error | t value | Pr(>|t|) |\n",
       "|---|---|---|---|---|\n",
       "| (Intercept) | 350.9942706 | 74.75307396 |  4.695382   | 0.01826948  |\n",
       "| x1 |  -1.2719944 |  1.16914009 | -1.087974   | 0.35620034  |\n",
       "| x2 |  -0.1539042 |  0.08952967 | -1.719030   | 0.18410102  |\n",
       "\n"
      ],
      "text/plain": [
       "            Estimate    Std. Error  t value   Pr(>|t|)  \n",
       "(Intercept) 350.9942706 74.75307396  4.695382 0.01826948\n",
       "x1           -1.2719944  1.16914009 -1.087974 0.35620034\n",
       "x2           -0.1539042  0.08952967 -1.719030 0.18410102"
      ]
     },
     "metadata": {},
     "output_type": "display_data"
    }
   ],
   "source": [
    "display_markdown('#### **Primer modelo** $\\\\left(y = \\\\beta_0 + \\\\beta_1 x_1 + \\\\beta_2 x_2 \\\\right)$')\n",
    "as.data.frame(summary(model_1)$coefficients)"
   ]
  },
  {
   "cell_type": "markdown",
   "id": "7ec66de4-f71b-4683-81a5-8754bf027416",
   "metadata": {},
   "source": [
    "<div style=\"text-align: justify\">Solo el p-valor del coeficiente $\\beta_0$ es menor que 0.05, lo cual sugiere que las variables independientes no son útiles para predecir la variable respuesta.</div>"
   ]
  },
  {
   "cell_type": "markdown",
   "id": "959eb65b-a29c-41de-b585-3a99e7d2f6da",
   "metadata": {},
   "source": [
    "<div style=\"text-align: justify\">Para el segundo modelo:</div>"
   ]
  },
  {
   "cell_type": "code",
   "execution_count": 51,
   "id": "b14a2773-cd11-431b-b4c4-89ce39b44194",
   "metadata": {
    "jupyter": {
     "source_hidden": true
    },
    "tags": []
   },
   "outputs": [
    {
     "data": {
      "text/markdown": [
       "#### **Segundo modelo** $\\left(y = \\beta_0 + \\beta_1 x_1 + \\beta_2 x_2 + \\beta_{1:2} x_1 x_2\\right)$"
      ]
     },
     "metadata": {},
     "output_type": "display_data"
    },
    {
     "data": {
      "text/html": [
       "<table>\n",
       "<thead><tr><th></th><th scope=col>Estimate</th><th scope=col>Std. Error</th><th scope=col>t value</th><th scope=col>Pr(&gt;|t|)</th></tr></thead>\n",
       "<tbody>\n",
       "\t<tr><th scope=row>(Intercept)</th><td>125.865548338</td><td>1.979572e+02 </td><td> 0.6358221   </td><td>0.5899432    </td></tr>\n",
       "\t<tr><th scope=row>x1</th><td>  7.758641128</td><td>7.514795e+00 </td><td> 1.0324488   </td><td>0.4103613    </td></tr>\n",
       "\t<tr><th scope=row>x2</th><td>  0.094303967</td><td>2.206569e-01 </td><td> 0.4273783   </td><td>0.7107188    </td></tr>\n",
       "\t<tr><th scope=row>x1:x2</th><td> -0.009185794</td><td>7.563622e-03 </td><td>-1.2144702   </td><td>0.3485016    </td></tr>\n",
       "</tbody>\n",
       "</table>\n"
      ],
      "text/latex": [
       "\\begin{tabular}{r|llll}\n",
       "  & Estimate & Std. Error & t value & Pr(>\\textbar{}t\\textbar{})\\\\\n",
       "\\hline\n",
       "\t(Intercept) & 125.865548338 & 1.979572e+02  &  0.6358221    & 0.5899432    \\\\\n",
       "\tx1 &   7.758641128 & 7.514795e+00  &  1.0324488    & 0.4103613    \\\\\n",
       "\tx2 &   0.094303967 & 2.206569e-01  &  0.4273783    & 0.7107188    \\\\\n",
       "\tx1:x2 &  -0.009185794 & 7.563622e-03  & -1.2144702    & 0.3485016    \\\\\n",
       "\\end{tabular}\n"
      ],
      "text/markdown": [
       "\n",
       "| <!--/--> | Estimate | Std. Error | t value | Pr(>|t|) |\n",
       "|---|---|---|---|---|\n",
       "| (Intercept) | 125.865548338 | 1.979572e+02  |  0.6358221    | 0.5899432     |\n",
       "| x1 |   7.758641128 | 7.514795e+00  |  1.0324488    | 0.4103613     |\n",
       "| x2 |   0.094303967 | 2.206569e-01  |  0.4273783    | 0.7107188     |\n",
       "| x1:x2 |  -0.009185794 | 7.563622e-03  | -1.2144702    | 0.3485016     |\n",
       "\n"
      ],
      "text/plain": [
       "            Estimate      Std. Error   t value    Pr(>|t|) \n",
       "(Intercept) 125.865548338 1.979572e+02  0.6358221 0.5899432\n",
       "x1            7.758641128 7.514795e+00  1.0324488 0.4103613\n",
       "x2            0.094303967 2.206569e-01  0.4273783 0.7107188\n",
       "x1:x2        -0.009185794 7.563622e-03 -1.2144702 0.3485016"
      ]
     },
     "metadata": {},
     "output_type": "display_data"
    }
   ],
   "source": [
    "display_markdown('#### **Segundo modelo** $\\\\left(y = \\\\beta_0 + \\\\beta_1 x_1 + \\\\beta_2 x_2 + \\\\beta_{1:2} x_1 x_2\\\\right)$')\n",
    "as.data.frame(summary(model_2)$coefficients)"
   ]
  },
  {
   "cell_type": "markdown",
   "id": "db36daf1-a73f-47c7-bc2b-b8a0626b992e",
   "metadata": {
    "tags": []
   },
   "source": [
    "<div style=\"text-align: justify\">En este caso, todos los p-valores son mayores que 0.05. Esto indicaría que ninguno de los regresores contribuyen al modelo.</div>"
   ]
  },
  {
   "cell_type": "markdown",
   "id": "2f0e121a-7284-45b8-9505-51f89ab2ea7d",
   "metadata": {},
   "source": [
    "#### <div style=\"text-align: justify\">g) Utilice el método de la suma adicional de cuadrados para investigar la utilidad que tiene la adición de la variable $x_2 = \\text{carga}$, a un modelo que ya contiene a la variable $x_1 = \\text{viscosidad del aceite}$. Utilice $\\alpha = 0.05$.</div>"
   ]
  },
  {
   "cell_type": "markdown",
   "id": "26e06902-186a-490b-9385-c0abe872d440",
   "metadata": {},
   "source": [
    "<div style=\"text-align: justify\">Se quiere investigar la contribución de la variable $x_2$ a un modelo que continene la variable $x_1$. Para ello se plantea un modelo completo que contiene ambas variables y un modelo reducido que solo contiene  a $x_1$. El modelo completo es:</div>"
   ]
  },
  {
   "cell_type": "markdown",
   "id": "9b195b9a-f251-4ea4-9dfb-76b85dabe45f",
   "metadata": {},
   "source": [
    "#### <div style=\"text-align: center\">$$Y = \\beta_0 + \\beta_1 x_1 + \\beta_2 x_2$$</div>"
   ]
  },
  {
   "cell_type": "markdown",
   "id": "c0d5f72b-0177-420d-bdb4-6b9e22300b42",
   "metadata": {},
   "source": [
    "<div style=\"text-align: justify\">Y el modelo reducido:</div>"
   ]
  },
  {
   "cell_type": "markdown",
   "id": "397d272a-74cd-4804-bf11-109e432f01d8",
   "metadata": {},
   "source": [
    "#### <div style=\"text-align: center\">$$Y = \\beta_0 + \\beta_1 x_1$$</div>"
   ]
  },
  {
   "cell_type": "markdown",
   "id": "54b62404-1267-4b7b-8744-d99dce516ae9",
   "metadata": {},
   "source": [
    "<div style=\"text-align: justify\">Se puede utilizar un estadístico $F$ para probar la hipótesis $H_0: \\beta_2 = 0$. La prueba se realiza ajustando ambos modelos y comparando sus sumas residuales de cuadrados. Sean $SSE_{MC}$ la suma de residuos cuadrados del modelo completo y $SSE_{MR}$ la del modelo reducido, el estadístico resulta:</div>"
   ]
  },
  {
   "cell_type": "markdown",
   "id": "502b89e6-9ea1-4d97-8a68-673e72a720fa",
   "metadata": {},
   "source": [
    "#### <div style=\"text-align: center\">$$F_0 = \\frac{\\left(SSE_{MR} - SSE_{MC}\\right) / \\left(k - r\\right)}{SSE_{MC} / \\left(n - p\\right)}$$</div>"
   ]
  },
  {
   "cell_type": "markdown",
   "id": "8f16ee97-3a72-44f1-bccd-1df2b15a2f79",
   "metadata": {},
   "source": [
    "<div style=\"text-align: justify\">donde:\n",
    "    <ul>\n",
    "        <li>$k = \\text{número de regresores en el modelo completo} = 2$</li> \n",
    "        <li>$r = \\text{número de regresores en el modelo reducido} = 1$</li> \n",
    "        <li>$n = \\text{cantidad de residuos} = 6$</li>\n",
    "        <li>$p = \\text{número de parámetros en el modelo completo} = 3$</li>\n",
    "    </ul>\n",
    "</div>"
   ]
  },
  {
   "cell_type": "markdown",
   "id": "b27e39cc-427d-4313-a57d-5076790b67d5",
   "metadata": {
    "tags": []
   },
   "source": [
    "#### <div style=\"text-align: justify\"><b>Modelo completo:</b> $y = \\beta_0 + \\beta_1 x_1 + \\beta_2 x_2$</div>"
   ]
  },
  {
   "cell_type": "code",
   "execution_count": 40,
   "id": "43a3e99c-e8a9-40b4-aa36-b41b4aff441d",
   "metadata": {
    "jupyter": {
     "source_hidden": true
    },
    "tags": []
   },
   "outputs": [
    {
     "data": {
      "text/markdown": [
       "$SSE_{MC} =$ 1950.4222"
      ]
     },
     "metadata": {},
     "output_type": "display_data"
    }
   ],
   "source": [
    "full_model <- lm(y ~ x1 + x2, data=df)\n",
    "sse_full <- sum((predict(full_model) - df$y)^2)\n",
    "display_markdown(paste('$SSE_{MC} =$', round(sse_full, 4)))"
   ]
  },
  {
   "cell_type": "markdown",
   "id": "a03e1120-74fa-4e5b-ab1a-9ba617d886d7",
   "metadata": {
    "tags": []
   },
   "source": [
    "#### <div style=\"text-align: justify\"><b>Modelo reducido:</b> $y = \\beta_0 + \\beta_1 x_1$</div>"
   ]
  },
  {
   "cell_type": "code",
   "execution_count": 31,
   "id": "1e163b04-a776-4ef5-b30e-b3d699b369bb",
   "metadata": {
    "tags": []
   },
   "outputs": [
    {
     "data": {
      "text/markdown": [
       "$SSE_{MR} =$ 3871.6309"
      ]
     },
     "metadata": {},
     "output_type": "display_data"
    }
   ],
   "source": [
    "reduced_model <- lm(y ~ x1, data=df)\n",
    "sse_reduced <- sum((predict(reduced_model) - df$y)^2)\n",
    "display_markdown(paste('$SSE_{MR} =$', round(sse_reduced, 4)))"
   ]
  },
  {
   "cell_type": "code",
   "execution_count": 41,
   "id": "a0d3de23-1781-4b17-bf1d-4b0e0ae5397f",
   "metadata": {},
   "outputs": [
    {
     "data": {
      "text/markdown": [
       "$F_0 =$ 2.9551"
      ]
     },
     "metadata": {},
     "output_type": "display_data"
    }
   ],
   "source": [
    "# Cálculo de F0\n",
    "k <- 2; r <- 1; n <- nrow(df); p <- 3\n",
    "f0 <- ((sse_reduced - sse_full) / (k - r)) / (sse_full / (n - p))\n",
    "display_markdown(paste('$F_0 =$', round(f0, 4)))"
   ]
  },
  {
   "cell_type": "code",
   "execution_count": 42,
   "id": "9642efc5-d120-46c7-a823-a488bbc0a644",
   "metadata": {
    "tags": []
   },
   "outputs": [
    {
     "data": {
      "text/markdown": [
       "$\\text{p-valor} =$ 0.1841"
      ]
     },
     "metadata": {},
     "output_type": "display_data"
    }
   ],
   "source": [
    "# Cálculo del p-valor\n",
    "alpha <- 0.05\n",
    "p_value <- 1 - pf(f0, df1=k-r, df2=n-p) \n",
    "display_markdown(paste('$\\\\text{p-valor} =$', round(p_value, 4)))"
   ]
  },
  {
   "cell_type": "markdown",
   "id": "f0541cfd-8cd7-4bee-b8af-d16752da13f1",
   "metadata": {},
   "source": [
    "<div style=\"text-align: justify\">El p-valor de la prueba es $0.1841 > 0.05$. Por lo tanto no es posible rechazar la hipótesis nula y se concluye que la adición de la variable $x_2$ no contribuye al modelo de forma significativa.</div>"
   ]
  },
  {
   "cell_type": "markdown",
   "id": "5197207b-4919-4c35-8712-2bcfd808f7d6",
   "metadata": {},
   "source": [
    "#### <div style=\"text-align: justify\">h) Encuentre intervalos de confianza del $99\\%$ para $\\beta_1$ y $\\beta_2$.</div>"
   ]
  },
  {
   "cell_type": "code",
   "execution_count": 98,
   "id": "daa4c747-5cec-4efd-a214-b93cc35e7d8d",
   "metadata": {
    "tags": []
   },
   "outputs": [
    {
     "data": {
      "text/markdown": [
       "Intervalos de confianza del $99\\%$ para $\\beta_1$ y $\\beta_2$:"
      ]
     },
     "metadata": {},
     "output_type": "display_data"
    },
    {
     "data": {
      "text/html": [
       "<table>\n",
       "<thead><tr><th></th><th scope=col>0.5 %</th><th scope=col>99.5 %</th></tr></thead>\n",
       "<tbody>\n",
       "\t<tr><th scope=row>β1</th><td>-8.1008357</td><td>5.5568468 </td></tr>\n",
       "\t<tr><th scope=row>β2</th><td>-0.6768389</td><td>0.3690305 </td></tr>\n",
       "</tbody>\n",
       "</table>\n"
      ],
      "text/latex": [
       "\\begin{tabular}{r|ll}\n",
       "  & 0.5 \\% & 99.5 \\%\\\\\n",
       "\\hline\n",
       "\tβ1 & -8.1008357 & 5.5568468 \\\\\n",
       "\tβ2 & -0.6768389 & 0.3690305 \\\\\n",
       "\\end{tabular}\n"
      ],
      "text/markdown": [
       "\n",
       "| <!--/--> | 0.5 % | 99.5 % |\n",
       "|---|---|---|\n",
       "| β1 | -8.1008357 | 5.5568468  |\n",
       "| β2 | -0.6768389 | 0.3690305  |\n",
       "\n"
      ],
      "text/plain": [
       "   0.5 %      99.5 %   \n",
       "β1 -8.1008357 5.5568468\n",
       "β2 -0.6768389 0.3690305"
      ]
     },
     "metadata": {},
     "output_type": "display_data"
    }
   ],
   "source": [
    "display_markdown('Intervalos de confianza del $99\\\\%$ para $\\\\beta_1$ y $\\\\beta_2$:')\n",
    "conf_int <- as.data.frame(confint(full_model, c('x1', 'x2'), level = 0.99))\n",
    "rownames(conf_int) <- c('β1', 'β2')\n",
    "conf_int"
   ]
  },
  {
   "cell_type": "code",
   "execution_count": 89,
   "id": "045407b4-db05-4bf7-999a-00996995e6fc",
   "metadata": {
    "jupyter": {
     "source_hidden": true
    },
    "tags": []
   },
   "outputs": [],
   "source": [
    "colnames(conf_int) <- c('lwr', 'upr')\n",
    "conf_int$avg <- apply(conf_int, 1, mean)\n",
    "coef <- c('β1', 'β2')"
   ]
  },
  {
   "cell_type": "code",
   "execution_count": 96,
   "id": "0310a2e5-c61a-4c8f-90b7-47a7a44761aa",
   "metadata": {
    "jupyter": {
     "source_hidden": true
    },
    "tags": []
   },
   "outputs": [
    {
     "data": {
      "image/png": "[encoded data removed]",
      "text/plain": [
       "plot without title"
      ]
     },
     "metadata": {},
     "output_type": "display_data"
    }
   ],
   "source": [
    "# Gráfico de los intervalos de confianza\n",
    "options(repr.plot.width=7, repr.plot.height=4)\n",
    "ggplot(conf_int, aes(coef, avg, colour=coef)) + \n",
    "    ggtitle(\"Intervalos de confianza de 99% para los coeficientes de regresión\") +\n",
    "    geom_errorbar(aes(ymin=lwr, ymax=upr), width = 0.2) +\n",
    "    labs(x=TeX('Coeficientes regresión ($\\\\beta$ )'), y='Intervalo de confianza', color='Coeficientes') +\n",
    "    geom_hline(yintercept=0, linetype=\"dashed\", col=\"black\") +\n",
    "    scale_y_continuous(breaks=round(seq(min(conf_int) - 1, max(conf_int) + 1), 0)) +\n",
    "    theme_light()"
   ]
  },
  {
   "cell_type": "markdown",
   "id": "d60f0362-dffe-43d8-a68e-ee54ac8dae4f",
   "metadata": {},
   "source": [
    "<div style=\"text-align: justify\">Ambos intervalos incluyen al cero, y por lo tanto no es posible rechazar las hipótesis $H_{0_1}: \\beta_1 = 0$ y $H_{0_2}: \\beta_2 = 0$.</div>"
   ]
  },
  {
   "cell_type": "markdown",
   "id": "b014128d-8b9d-4f5a-a6ec-073537c00277",
   "metadata": {},
   "source": [
    "#### <div style=\"text-align: justify\">i ) Vuelva a calcular los intervalos de confianza del inciso h) después de añadir al modelo el término de interacción $x_1 x_2$ . Compare la longitud de estos intervalos con las de los calculados en el inciso h). ¿La longitud de estos intervalos proporciona alguna información sobre la contribución al modelo del término de interacción?</div>"
   ]
  },
  {
   "cell_type": "code",
   "execution_count": 118,
   "id": "7025b6f6-0004-48dd-b89e-e6834d9d2db3",
   "metadata": {
    "tags": []
   },
   "outputs": [
    {
     "data": {
      "text/markdown": [
       "Intervalos de confianza del $99\\%$ para $\\beta_1$, $\\beta_2$ y $\\beta_{1:2}$:"
      ]
     },
     "metadata": {},
     "output_type": "display_data"
    },
    {
     "data": {
      "text/html": [
       "<table>\n",
       "<thead><tr><th></th><th scope=col>0.5 %</th><th scope=col>99.5 %</th></tr></thead>\n",
       "<tbody>\n",
       "\t<tr><th scope=row>β1</th><td>-66.82452015</td><td>82.34180241 </td></tr>\n",
       "\t<tr><th scope=row>β2</th><td> -2.09568096</td><td> 2.28428889 </td></tr>\n",
       "\t<tr><th scope=row>β1:2</th><td> -0.08425356</td><td> 0.06588197 </td></tr>\n",
       "</tbody>\n",
       "</table>\n"
      ],
      "text/latex": [
       "\\begin{tabular}{r|ll}\n",
       "  & 0.5 \\% & 99.5 \\%\\\\\n",
       "\\hline\n",
       "\tβ1 & -66.82452015 & 82.34180241 \\\\\n",
       "\tβ2 &  -2.09568096 &  2.28428889 \\\\\n",
       "\tβ1:2 &  -0.08425356 &  0.06588197 \\\\\n",
       "\\end{tabular}\n"
      ],
      "text/markdown": [
       "\n",
       "| <!--/--> | 0.5 % | 99.5 % |\n",
       "|---|---|---|\n",
       "| β1 | -66.82452015 | 82.34180241  |\n",
       "| β2 |  -2.09568096 |  2.28428889  |\n",
       "| β1:2 |  -0.08425356 |  0.06588197  |\n",
       "\n"
      ],
      "text/plain": [
       "     0.5 %        99.5 %     \n",
       "β1   -66.82452015 82.34180241\n",
       "β2    -2.09568096  2.28428889\n",
       "β1:2  -0.08425356  0.06588197"
      ]
     },
     "metadata": {},
     "output_type": "display_data"
    }
   ],
   "source": [
    "inter_model <- lm(y ~ x1*x2, data=df)\n",
    "display_markdown('Intervalos de confianza del $99\\\\%$ para $\\\\beta_1$, $\\\\beta_2$ y $\\\\beta_{1:2}$:')\n",
    "conf_int <- as.data.frame(confint(inter_model, c('x1', 'x2', 'x1:x2'), level = 0.99))\n",
    "rownames(conf_int) <- c('β1', 'β2', 'β1:2')\n",
    "conf_int"
   ]
  },
  {
   "cell_type": "code",
   "execution_count": 108,
   "id": "81eda644-fc83-464a-832a-dd9373724a39",
   "metadata": {
    "tags": []
   },
   "outputs": [],
   "source": [
    "colnames(conf_int) <- c('lwr', 'upr')\n",
    "conf_int$avg <- apply(conf_int, 1, mean)\n",
    "coef <- rownames(conf_int)"
   ]
  },
  {
   "cell_type": "code",
   "execution_count": 110,
   "id": "b0a08dcc-1e8b-454c-9b9b-b6ac64841180",
   "metadata": {
    "jupyter": {
     "source_hidden": true
    },
    "tags": []
   },
   "outputs": [
    {
     "data": {
      "image/png": "[encoded data removed]",
      "text/plain": [
       "plot without title"
      ]
     },
     "metadata": {},
     "output_type": "display_data"
    }
   ],
   "source": [
    "# Gráfico de los intervalos de confianza\n",
    "options(repr.plot.width=7, repr.plot.height=4)\n",
    "ggplot(conf_int, aes(coef, avg, colour=coef)) + \n",
    "    ggtitle(\"Intervalos de confianza de 99% para los coeficientes de regresión\") +\n",
    "    geom_errorbar(aes(ymin=lwr, ymax=upr), width = 0.2) +\n",
    "    labs(x=TeX('Coeficientes regresión ($\\\\beta$ )'), y='Intervalo de confianza', color='Coeficientes') +\n",
    "    geom_hline(yintercept=0, linetype=\"dashed\", col=\"black\") +\n",
    "    scale_y_continuous(breaks=round(seq(min(conf_int) - 1, max(conf_int) + 1), -1)) +\n",
    "    theme_light()"
   ]
  },
  {
   "cell_type": "markdown",
   "id": "065a25ac-24e8-460b-ada9-4c70e23a4404",
   "metadata": {},
   "source": [
    "<div style=\"text-align: justify\">Obervando la longitud de los intervalos de confianza, se puede asegurar con un alto grado de seguridad que el término de interacción no contribuye al modelo.</div>"
   ]
  },
  {
   "cell_type": "markdown",
   "id": "4cc18609-31f7-4211-a32b-e8bb5db35723",
   "metadata": {},
   "source": [
    "#### <div style=\"text-align: justify\">j ) Para el modelo que utiliza las variables de regresión $x_1$  y $x_2$ calcule $R^2$.</div>"
   ]
  },
  {
   "cell_type": "code",
   "execution_count": 113,
   "id": "18f88683-6e8c-4c92-a88e-73193d583e0c",
   "metadata": {},
   "outputs": [
    {
     "data": {
      "text/markdown": [
       "$R^2 =$ 0.8618"
      ]
     },
     "metadata": {},
     "output_type": "display_data"
    }
   ],
   "source": [
    "r_squared <- summary(full_model)$r.squared\n",
    "display_markdown(paste('$R^2 =$', round(r_squared, 4)))"
   ]
  },
  {
   "cell_type": "markdown",
   "id": "aa35d138-18b2-415f-b6e6-7df3deedb9e5",
   "metadata": {
    "tags": []
   },
   "source": [
    "#### <div style=\"text-align: justify\">k) ¿Qué sucede con el valor de $R^2$ cuando se añade al modelo un término de interacción $x_1 x_2$?</div>"
   ]
  },
  {
   "cell_type": "code",
   "execution_count": 114,
   "id": "b2ed2a1e-f915-4554-8787-7d1f0ac7ee0e",
   "metadata": {},
   "outputs": [
    {
     "data": {
      "text/markdown": [
       "$R^2 =$ 0.9205"
      ]
     },
     "metadata": {},
     "output_type": "display_data"
    }
   ],
   "source": [
    "r_squared <- summary(inter_model)$r.squared\n",
    "display_markdown(paste('$R^2 =$', round(r_squared, 4)))"
   ]
  },
  {
   "cell_type": "markdown",
   "id": "d6274433-b4f4-43d9-8f11-c5357efeef2b",
   "metadata": {
    "tags": []
   },
   "source": [
    "***\n",
    "<br></br>"
   ]
  },
  {
   "cell_type": "markdown",
   "id": "7ecacea8-9c09-4647-84e2-747766aedf6d",
   "metadata": {},
   "source": [
    "### **Ejercicio 4**"
   ]
  },
  {
   "cell_type": "markdown",
   "id": "59613b60-444f-462b-b5b1-15ced7a32900",
   "metadata": {
    "tags": []
   },
   "source": [
    "#### <div style=\"text-align: justify\">Se ajusta el modelo de regresión $Y = \\beta_0 + \\beta_1 x_1 + \\beta_2 x_2 + \\beta_3 x_3 + \\epsilon$ a una muestra de $n = 25$ observaciones. Los cocientes t calculados</div>"
   ]
  },
  {
   "cell_type": "markdown",
   "id": "6361f34f-ce2b-44b3-b954-246e8a44c223",
   "metadata": {},
   "source": [
    "#### <div style=\"text-align: center\">$$t_0 = \\frac{\\hat{\\beta}_j}{\\sqrt{V\\left(\\hat{\\beta}_j\\right)}}$$</div>"
   ]
  },
  {
   "cell_type": "markdown",
   "id": "6bd41f8b-0f5e-416e-90a9-57c43cf9f157",
   "metadata": {},
   "source": [
    "#### <div style=\"text-align: justify\">son los siguientes:</div>"
   ]
  },
  {
   "cell_type": "markdown",
   "id": "847881a5-3568-4783-9365-e692bc7ac063",
   "metadata": {
    "tags": []
   },
   "source": [
    "<table style=\"width: 80%; border: 1px solid white;\n",
    "  border-collapse: collapse;\">\n",
    "<thead>\n",
    "  <tr style=\"font-size: larger\">\n",
    "    <th style=\"border: 1px solid white; border-collapse: collapse; background-color: #C8C8C8;\"></th>\n",
    "    <th style=\"border: 1px solid white; border-collapse: collapse; background-color: #C8C8C8;\">$\\beta_1$</th>\n",
    "    <th style=\"border: 1px solid white; border-collapse: collapse; background-color: #C8C8C8;\">$\\beta_2$</th>\n",
    "    <th style=\"border: 1px solid white; border-collapse: collapse; background-color: #C8C8C8;\">$\\beta_3$</th>\n",
    "  </tr>\n",
    "</thead>\n",
    "<tbody>\n",
    "  <tr>\n",
    "    <td style=\"text-align: center; vertical-align: middle; font-size: larger; border: 1px solid white; border-collapse: collapse; background-color: #C8C8C8;\">$t_0$</td>\n",
    "    <td style=\"text-align: center; vertical-align: middle; border: 1px solid white; border-collapse: collapse; background-color: #F5F5F5;\">4.82</td>\n",
    "    <td style=\"text-align: center; vertical-align: middle; border: 1px solid white; border-collapse: collapse; background-color: #F5F5F5;\">8.21</td>\n",
    "      <td style=\"text-align: center; vertical-align: middle; border: 1px solid white; border-collapse: collapse; background-color: #F5F5F5;\">0.98</td>\n",
    "  </tr>\n",
    "</tbody>\n",
    "</table>"
   ]
  },
  {
   "cell_type": "markdown",
   "id": "11fbbf00-af66-4ec3-a2e0-48669be68848",
   "metadata": {},
   "source": [
    "#### <div style=\"text-align: justify\">a) Encuentre el p-valor para cada uno de los estadísticos t.</div>"
   ]
  },
  {
   "cell_type": "code",
   "execution_count": 23,
   "id": "8e01a0d8-62bd-4f3f-9048-d554321b5cd6",
   "metadata": {
    "jupyter": {
     "source_hidden": true
    }
   },
   "outputs": [],
   "source": [
    "n <- 25 # cantidad de observaciones\n",
    "t_values <- c(4.82, 8.21, 0.98) # cocientes calculados\n",
    "df <- length(t_values) + 1 # grados de libertad = número de coeficientes = 4\n",
    "p_values <- pt(q=t_values, df=df, lower.tail=FALSE)"
   ]
  },
  {
   "cell_type": "code",
   "execution_count": 40,
   "id": "bc31c711-6ed7-45bb-a58c-161d45e9c72c",
   "metadata": {
    "jupyter": {
     "source_hidden": true
    },
    "tags": []
   },
   "outputs": [
    {
     "data": {
      "text/html": [
       "\n",
       "<table style=\"width: 40%; font-size: larger\">\n",
       "    <thead style=\"text-align: center\">\n",
       "        <th style=\"text-align: center; font-weight: normal\">Coeficiente</th>\n",
       "        <th style=\"text-align: center\">$t_0$</th>\n",
       "        <th style=\"text-align: center\">$\\text{p-valor}$</th>\n",
       "    </thead>\n",
       "    <tbody>\n",
       "        <tr>\n",
       "            <td style=\"text-align: center\">$\\beta_1$</td>\n",
       "            <td style=\"text-align: center\">4.82</td>\n",
       "            <td style=\"text-align: center\">0.0043</td>\n",
       "        </tr>\n",
       "        <tr>\n",
       "            <td style=\"text-align: center\">$\\beta_2$</td>\n",
       "            <td style=\"text-align: center\">8.21</td>\n",
       "            <td style=\"text-align: center\">0.0006</td>\n",
       "        </tr>\n",
       "        <tr>\n",
       "            <td style=\"text-align: center\">$\\beta_3$</td>\n",
       "            <td style=\"text-align: center\">0.98</td>\n",
       "            <td style=\"text-align: center\">0.1913</td>\n",
       "        </tr>\n",
       "    </tbody>\n",
       "</table>\n"
      ]
     },
     "metadata": {},
     "output_type": "display_data"
    }
   ],
   "source": [
    "display_html(sprintf('\n",
    "<table style=\"width: 40%%; font-size: larger\">\n",
    "    <thead style=\"text-align: center\">\n",
    "        <th style=\"text-align: center; font-weight: normal\">Coeficiente</th>\n",
    "        <th style=\"text-align: center\">$t_0$</th>\n",
    "        <th style=\"text-align: center\">$\\\\text{p-valor}$</th>\n",
    "    </thead>\n",
    "    <tbody>\n",
    "        <tr>\n",
    "            <td style=\"text-align: center\">$\\\\beta_1$</td>\n",
    "            <td style=\"text-align: center\">%.2f</td>\n",
    "            <td style=\"text-align: center\">%.4f</td>\n",
    "        </tr>\n",
    "        <tr>\n",
    "            <td style=\"text-align: center\">$\\\\beta_2$</td>\n",
    "            <td style=\"text-align: center\">%.2f</td>\n",
    "            <td style=\"text-align: center\">%.4f</td>\n",
    "        </tr>\n",
    "        <tr>\n",
    "            <td style=\"text-align: center\">$\\\\beta_3$</td>\n",
    "            <td style=\"text-align: center\">%.2f</td>\n",
    "            <td style=\"text-align: center\">%.4f</td>\n",
    "        </tr>\n",
    "    </tbody>\n",
    "</table>\n",
    "', t_values[1], p_values[1], t_values[2], p_values[2], t_values[3], p_values[3]))"
   ]
  },
  {
   "cell_type": "markdown",
   "id": "6ea2590f-76d8-4ceb-834e-472378cdf7f0",
   "metadata": {},
   "source": [
    "#### <div style=\"text-align: justify\">b) Si se emplea $\\alpha = 0.05$, ¿qué conclusiones pueden obtenerse sobre la variable de regresión $x_3$?. ¿Es posible que esta variable de regresión tenga una contribución significativa en el modelo?</div>"
   ]
  },
  {
   "cell_type": "markdown",
   "id": "765a0b64-d488-4f6e-a7d8-c8691ad2a18a",
   "metadata": {},
   "source": [
    "<div style=\"text-align: justify\">El test $H_0: \\beta_3 = 0$ arrojó un $\\text{p-valor} = 0.1913 > 0.05$, lo cual indica que la variable regresora $x_3$ no tiene un aporte significativo en el modelo propuesto. En general, este resultado sugiere que la variable $x_3$ debe ser removida del modelo. \n",
    "También existe la posibilidad de que la relación entre $x_3$ y la variable respuesta no sea lineal. En este caso, se podría aplicar transformaciones a $x_3$ para linealizar la relación.</div>"
   ]
  },
  {
   "cell_type": "markdown",
   "id": "e86c614a-7a9f-434c-8044-0e9db5dbc242",
   "metadata": {
    "tags": []
   },
   "source": [
    "***\n",
    "<br></br>"
   ]
  },
  {
   "cell_type": "markdown",
   "id": "75af8e06-bbfe-4b18-be78-f458e76aaaea",
   "metadata": {},
   "source": [
    "### **Ejercicio 5**"
   ]
  },
  {
   "cell_type": "markdown",
   "id": "49494770-8606-4e1e-960e-ae7f81f76f99",
   "metadata": {
    "tags": []
   },
   "source": [
    "#### <div style=\"text-align: justify\">Los datos que aparecen a continuación se recopilaron durante un experimento para determinar el cambio en la eficiencia del impulso ($y$, en por ciento), a medida que cambia el ángulo de divergencia de la nariz de un cohete $\\left(x\\right)$.</div>"
   ]
  },
  {
   "cell_type": "markdown",
   "id": "02ef4e89-8f98-4191-bd0b-5f47cfa80c1d",
   "metadata": {},
   "source": [
    "<table style=\"font-size: larger; border: 1px solid white;\n",
    "  border-collapse: collapse;\">\n",
    "<tbody>\n",
    "  <tr>\n",
    "    <td style=\"text-align: center; vertical-align: middle; font-size: larger; border: 1px solid white; border-collapse: collapse; background-color: #C8C8C8;\">$y$</td>\n",
    "    <td style=\"text-align: center; vertical-align: middle; border: 1px solid white; border-collapse: collapse; background-color: #F5F5F5;\">24.60</td>\n",
    "    <td style=\"text-align: center; vertical-align: middle; border: 1px solid white; border-collapse: collapse; background-color: #F5F5F5;\">24.71</td>\n",
    "      <td style=\"text-align: center; vertical-align: middle; border: 1px solid white; border-collapse: collapse; background-color: #F5F5F5;\">23.90</td>\n",
    "      <td style=\"text-align: center; vertical-align: middle; border: 1px solid white; border-collapse: collapse; background-color: #F5F5F5;\">39.50</td>\n",
    "    <td style=\"text-align: center; vertical-align: middle; border: 1px solid white; border-collapse: collapse; background-color: #F5F5F5;\">39.60</td>\n",
    "      <td style=\"text-align: center; vertical-align: middle; border: 1px solid white; border-collapse: collapse; background-color: #F5F5F5;\">57.12</td>\n",
    "      <td style=\"text-align: center; vertical-align: middle; border: 1px solid white; border-collapse: collapse; background-color: #F5F5F5;\">67.11</td>\n",
    "    <td style=\"text-align: center; vertical-align: middle; border: 1px solid white; border-collapse: collapse; background-color: #F5F5F5;\">67.24</td>\n",
    "      <td style=\"text-align: center; vertical-align: middle; border: 1px solid white; border-collapse: collapse; background-color: #F5F5F5;\">67.15</td>\n",
    "      <td style=\"text-align: center; vertical-align: middle; border: 1px solid white; border-collapse: collapse; background-color: #F5F5F5;\">77.87</td>\n",
    "    <td style=\"text-align: center; vertical-align: middle; border: 1px solid white; border-collapse: collapse; background-color: #F5F5F5;\">80.11</td>\n",
    "      <td style=\"text-align: center; vertical-align: middle; border: 1px solid white; border-collapse: collapse; background-color: #F5F5F5;\">84.67</td>\n",
    "  </tr>\n",
    "    <tr>\n",
    "    <td style=\"text-align: center; vertical-align: middle; font-size: larger; border: 1px solid white; border-collapse: collapse; background-color: #C8C8C8;\">$x$</td>\n",
    "    <td style=\"text-align: center; vertical-align: middle; border: 1px solid white; border-collapse: collapse; background-color: #F5F5F5;\">4.00</td>\n",
    "    <td style=\"text-align: center; vertical-align: middle; border: 1px solid white; border-collapse: collapse; background-color: #F5F5F5;\">4.00</td>\n",
    "      <td style=\"text-align: center; vertical-align: middle; border: 1px solid white; border-collapse: collapse; background-color: #F5F5F5;\">4.00</td>\n",
    "      <td style=\"text-align: center; vertical-align: middle; border: 1px solid white; border-collapse: collapse; background-color: #F5F5F5;\">5.00</td>\n",
    "    <td style=\"text-align: center; vertical-align: middle; border: 1px solid white; border-collapse: collapse; background-color: #F5F5F5;\">5.00</td>\n",
    "      <td style=\"text-align: center; vertical-align: middle; border: 1px solid white; border-collapse: collapse; background-color: #F5F5F5;\">6.00</td>\n",
    "      <td style=\"text-align: center; vertical-align: middle; border: 1px solid white; border-collapse: collapse; background-color: #F5F5F5;\">6.50</td>\n",
    "    <td style=\"text-align: center; vertical-align: middle; border: 1px solid white; border-collapse: collapse; background-color: #F5F5F5;\">6.50</td>\n",
    "      <td style=\"text-align: center; vertical-align: middle; border: 1px solid white; border-collapse: collapse; background-color: #F5F5F5;\">6.75</td>\n",
    "      <td style=\"text-align: center; vertical-align: middle; border: 1px solid white; border-collapse: collapse; background-color: #F5F5F5;\">7.00</td>\n",
    "    <td style=\"text-align: center; vertical-align: middle; border: 1px solid white; border-collapse: collapse; background-color: #F5F5F5;\">7.10</td>\n",
    "      <td style=\"text-align: center; vertical-align: middle; border: 1px solid white; border-collapse: collapse; background-color: #F5F5F5;\">7.30</td>\n",
    "  </tr>\n",
    "</tbody>\n",
    "</table>"
   ]
  },
  {
   "cell_type": "markdown",
   "id": "47cc9287-4149-4bc0-86d2-f37d15defa65",
   "metadata": {},
   "source": [
    "#### <div style=\"text-align: justify\">a) Ajuste a los datos un modelo de segundo orden.</div>"
   ]
  },
  {
   "cell_type": "code",
   "execution_count": 3,
   "id": "3f4098f2-eb50-47db-9dcb-92f361ca7b5b",
   "metadata": {
    "tags": []
   },
   "outputs": [
    {
     "data": {
      "text/html": [
       "<table>\n",
       "<thead><tr><th></th><th scope=col>x</th><th scope=col>y</th></tr></thead>\n",
       "<tbody>\n",
       "\t<tr><th scope=row>Min.</th><td>4.0000 </td><td>23.9000</td></tr>\n",
       "\t<tr><th scope=row>1st Qu.</th><td>4.7500 </td><td>35.8025</td></tr>\n",
       "\t<tr><th scope=row>Median</th><td>6.2500 </td><td>62.1150</td></tr>\n",
       "\t<tr><th scope=row>Mean</th><td>5.7625 </td><td>54.4650</td></tr>\n",
       "\t<tr><th scope=row>3rd Qu.</th><td>6.8125 </td><td>69.8975</td></tr>\n",
       "\t<tr><th scope=row>Max.</th><td>7.3000 </td><td>84.6700</td></tr>\n",
       "</tbody>\n",
       "</table>\n"
      ],
      "text/latex": [
       "\\begin{tabular}{r|ll}\n",
       "  & x & y\\\\\n",
       "\\hline\n",
       "\tMin. & 4.0000  & 23.9000\\\\\n",
       "\t1st Qu. & 4.7500  & 35.8025\\\\\n",
       "\tMedian & 6.2500  & 62.1150\\\\\n",
       "\tMean & 5.7625  & 54.4650\\\\\n",
       "\t3rd Qu. & 6.8125  & 69.8975\\\\\n",
       "\tMax. & 7.3000  & 84.6700\\\\\n",
       "\\end{tabular}\n"
      ],
      "text/markdown": [
       "\n",
       "| <!--/--> | x | y |\n",
       "|---|---|---|\n",
       "| Min. | 4.0000  | 23.9000 |\n",
       "| 1st Qu. | 4.7500  | 35.8025 |\n",
       "| Median | 6.2500  | 62.1150 |\n",
       "| Mean | 5.7625  | 54.4650 |\n",
       "| 3rd Qu. | 6.8125  | 69.8975 |\n",
       "| Max. | 7.3000  | 84.6700 |\n",
       "\n"
      ],
      "text/plain": [
       "        x      y      \n",
       "Min.    4.0000 23.9000\n",
       "1st Qu. 4.7500 35.8025\n",
       "Median  6.2500 62.1150\n",
       "Mean    5.7625 54.4650\n",
       "3rd Qu. 6.8125 69.8975\n",
       "Max.    7.3000 84.6700"
      ]
     },
     "metadata": {},
     "output_type": "display_data"
    }
   ],
   "source": [
    "x <- c(4.00, 4.00, 4.00, 5.00, 5.00, 6.00, 6.50, 6.50, 6.75, 7.00, 7.10, 7.30)\n",
    "y <- c(24.60, 24.71, 23.90, 39.50, 39.60, 57.12, 67.11, 67.24, 67.15, 77.87, 80.11, 84.67)\n",
    "data <- as.data.frame(cbind(x, y))\n",
    "apply(data, 2, summary)"
   ]
  },
  {
   "cell_type": "markdown",
   "id": "2d54e3b5-b145-4396-8403-b0f028faafb4",
   "metadata": {},
   "source": [
    "#### <div style=\"text-align: justify\"><b>Modelo de segundo orden:</b> $y = \\beta_0 + \\beta_{11} x_1^2$</div>"
   ]
  },
  {
   "cell_type": "code",
   "execution_count": 117,
   "id": "b2aeaffe-4997-4ac8-aeb0-ed44b0586468",
   "metadata": {
    "tags": []
   },
   "outputs": [
    {
     "data": {
      "text/plain": [
       "\n",
       "Call:\n",
       "lm(formula = y ~ I(x^2), data = data)\n",
       "\n",
       "Coefficients:\n",
       "(Intercept)       I(x^2)  \n",
       "    -0.7904       1.5910  \n"
      ]
     },
     "metadata": {},
     "output_type": "display_data"
    }
   ],
   "source": [
    "model <- lm(y ~ I(x^2), data=data)\n",
    "model"
   ]
  },
  {
   "cell_type": "code",
   "execution_count": 118,
   "id": "23111fa7-bd3c-489d-8aa9-c84b4b803a3b",
   "metadata": {
    "tags": []
   },
   "outputs": [
    {
     "data": {
      "image/png": "[encoded data removed]",
      "text/plain": [
       "plot without title"
      ]
     },
     "metadata": {},
     "output_type": "display_data"
    }
   ],
   "source": [
    "# Gráfico del modelo\n",
    "options(repr.plot.width=7, repr.plot.height=4)\n",
    "ggplot(data, aes(x=x, y=y)) + \n",
    "    labs(\n",
    "        title=\"Modelo de regresión para Eficiencia del impulso vs Ángulo de divergencia\",\n",
    "        subtitle=TeX(\"( $y = β_0 + β_{1:1} x^2$ )\"), \n",
    "        x=\"Ángulo de divergencia [º]\", \n",
    "        y=\"Eficiencia del impulso [%]\") +\n",
    "    stat_smooth(aes(x=x, y=y, col=\"Curva de ajuste\", fill=\"Intervalo de confianza\"), \n",
    "                method=\"lm\", formula=y ~ x + I(x^2), se=TRUE, size=1) +\n",
    "    theme_light() +\n",
    "    theme(\n",
    "        plot.title = element_text(size=10, hjust = 0.5), \n",
    "        plot.subtitle = element_text(size=10, hjust = 0.5),\n",
    "        legend.position = \"bottom\") +\n",
    "    scale_fill_manual(NULL, values = '#BAB5E3') +\n",
    "    scale_color_manual(NULL, values = '#a399ff') +\n",
    "    guides(\n",
    "        color=guide_legend(override.aes = list(fill=NA), order=1),\n",
    "        fill=guide_legend(override.aes = list(color=NA), order=2)) \n"
   ]
  },
  {
   "cell_type": "markdown",
   "id": "c4b281f1-bada-450b-b11b-3843e360503c",
   "metadata": {},
   "source": [
    "#### <div style=\"text-align: justify\">b) Pruebe la significancia de la regresión y la adecuación del ajuste, utilizando $\\alpha = 0.05$.</div>"
   ]
  },
  {
   "cell_type": "code",
   "execution_count": 119,
   "id": "5f486843-c71f-441e-8d05-fd5350deb152",
   "metadata": {
    "tags": []
   },
   "outputs": [
    {
     "data": {
      "text/plain": [
       "\n",
       "Call:\n",
       "lm(formula = y ~ I(x^2), data = data)\n",
       "\n",
       "Residuals:\n",
       "    Min      1Q  Median      3Q     Max \n",
       "-4.5490  0.0170  0.6252  0.6855  0.8111 \n",
       "\n",
       "Coefficients:\n",
       "            Estimate Std. Error t value Pr(>|t|)    \n",
       "(Intercept) -0.79035    1.23754  -0.639    0.537    \n",
       "I(x^2)       1.59099    0.03313  48.020  3.7e-13 ***\n",
       "---\n",
       "Signif. codes:  0 ‘***’ 0.001 ‘**’ 0.01 ‘*’ 0.05 ‘.’ 0.1 ‘ ’ 1\n",
       "\n",
       "Residual standard error: 1.578 on 10 degrees of freedom\n",
       "Multiple R-squared:  0.9957,\tAdjusted R-squared:  0.9953 \n",
       "F-statistic:  2306 on 1 and 10 DF,  p-value: 3.701e-13\n"
      ]
     },
     "metadata": {},
     "output_type": "display_data"
    }
   ],
   "source": [
    "summary(model)"
   ]
  },
  {
   "cell_type": "markdown",
   "id": "3d9a4bc0-778d-49d3-8dc4-5b61d2e6e57a",
   "metadata": {},
   "source": [
    "<div style=\"text-align: justify\">El p-valor de la prueba de significancia de la regresión es $3.701e-13 < 0.05$, por lo que se rechaza la hipótesis nula $H_0: \\beta_1 = \\beta_{1:1} = 0$. </div>"
   ]
  },
  {
   "cell_type": "markdown",
   "id": "fee87031-d8b6-4c8b-895b-1cb786d4cac8",
   "metadata": {},
   "source": [
    "<div style=\"text-align: justify\">Para medir la bondad del ajuste se utiliza el coeficiente de determinación:</div>"
   ]
  },
  {
   "cell_type": "markdown",
   "id": "5cc11314-1d99-45f8-b008-ddce2c92791c",
   "metadata": {},
   "source": [
    "<div style=\"text-align: center\">$$R^2 = 1 - \\frac{SSE}{SST}$$</div>"
   ]
  },
  {
   "cell_type": "markdown",
   "id": "3a566708-7f24-4b2e-a81d-7b345819338a",
   "metadata": {},
   "source": [
    "<div style=\"text-align: justify\">Este coeficiente indica qué proporción de la dispersión de la variable de salida es explicada por el modelo. Para el modelo propuesto $R^2 = 0.9957,$ muy cercano al valor máximo 1, lo que significa que el nivel de ajuste es bueno.</div>"
   ]
  },
  {
   "cell_type": "markdown",
   "id": "aed7bd84-4a9d-411f-ac48-3b90a3874759",
   "metadata": {
    "tags": []
   },
   "source": [
    "#### <div style=\"text-align: justify\">c) Pruebe la hipótesis $\\beta_{11} = 0$ con $\\alpha = 0.05$.</div>"
   ]
  },
  {
   "cell_type": "markdown",
   "id": "a50a63d7-3f4b-4a1a-93d1-b484c952361d",
   "metadata": {},
   "source": [
    "<div style=\"text-align: justify\">Para probar la hipótesis $H_0: \\beta_{11} = 0$ se utiliza un estadístico t:</div>"
   ]
  },
  {
   "cell_type": "markdown",
   "id": "f66aa008-9fbc-4a10-a79d-e91d8b9599dc",
   "metadata": {
    "tags": []
   },
   "source": [
    "#### <div style=\"text-align: center\">$$t_0 = \\frac{\\hat{\\beta}_{11}}{\\sqrt{V\\left(\\hat{\\beta}_{11}\\right)}}$$</div>"
   ]
  },
  {
   "cell_type": "code",
   "execution_count": 93,
   "id": "354296df-c159-4075-863e-ff70bd0d5184",
   "metadata": {},
   "outputs": [
    {
     "data": {
      "text/markdown": [
       "$$t_0 = \\frac{\\hat{\\beta}_{11}}{\\sqrt{V\\left(\\hat{\\beta}_{11}\\right)}} = \\frac{1.5910}{\\sqrt{0.0011}} = 48.0199$$"
      ]
     },
     "metadata": {},
     "output_type": "display_data"
    }
   ],
   "source": [
    "# Extraigo el estadístico de la tabla de coeficientes en summary(model)\n",
    "t0 <- as.data.frame(summary(model)$coefficients)$t[2] \n",
    "\n",
    "# Otra forma, \"a mano\":\n",
    "b11_hat <- as.data.frame(list(model$coefficients[2]), row.names=c('β11'), col.names=c('t.value'))\n",
    "var_b11 <- vcov(model)[2,2]\n",
    "t0 <- b11_hat / sqrt(var_b11)\n",
    "\n",
    "display_markdown(sprintf('$$t_0 = \\\\frac{\\\\hat{\\\\beta}_{11}}{\\\\sqrt{V\\\\left(\\\\hat{\\\\beta}_{11}\\\\right)}} = \\\\frac{%.4f}{\\\\sqrt{%.4f}} = %.4f$$', b11_hat, var_b11, t0))"
   ]
  },
  {
   "cell_type": "code",
   "execution_count": 112,
   "id": "5ad4a316-bad0-4667-ae8a-d1753bf9fd64",
   "metadata": {},
   "outputs": [
    {
     "data": {
      "text/markdown": [
       "$\\text{p-valor} = 2e-13$"
      ]
     },
     "metadata": {},
     "output_type": "display_data"
    }
   ],
   "source": [
    "p_value <- as.data.frame(summary(model)$coefficients)$Pr[2]\n",
    "# o bien:\n",
    "n <- nrow(data) \n",
    "p <- length(model$coefficients)\n",
    "p_value <- pt(as.numeric(t0), n-p, lower=FALSE)\n",
    "display_markdown(sprintf('$\\\\text{p-valor} = %.e$', p_value))"
   ]
  },
  {
   "cell_type": "markdown",
   "id": "690931f3-769a-428d-818f-a3c5b1e5dafd",
   "metadata": {},
   "source": [
    "<div style=\"text-align: justify\">Como $\\text{p-valor} = 2e-13 < 0.05$, se rechaza la hipótesis $H_0: \\beta_{11} = 0$.</div>"
   ]
  },
  {
   "cell_type": "markdown",
   "id": "b2f88cd5-2340-40d9-a665-d4d896dfb99d",
   "metadata": {},
   "source": [
    "#### <div style=\"text-align: justify\">d) Haga una gráfica de los residuos y comente la adecuación del modelo.</div>"
   ]
  },
  {
   "cell_type": "code",
   "execution_count": 79,
   "id": "f0ef3506-8941-4014-b451-5aa59d68fb7d",
   "metadata": {
    "tags": []
   },
   "outputs": [],
   "source": [
    "# LOWESS line (la misma linea que ajusta los valores usando plot(model)): \n",
    "smoothed <- data.frame(with(data, lowess(x = model$fitted, y = model$residuals)))"
   ]
  },
  {
   "cell_type": "code",
   "execution_count": 80,
   "id": "9f82c548-24a0-478a-bdf9-a2d3f7b6d2a5",
   "metadata": {
    "tags": []
   },
   "outputs": [
    {
     "data": {
      "image/png": "[encoded data removed]",
      "text/plain": [
       "plot without title"
      ]
     },
     "metadata": {},
     "output_type": "display_data"
    }
   ],
   "source": [
    "# Gráficos\n",
    "options(repr.plot.width=7, repr.plot.height=4)\n",
    "res_vs_fit <- ggplot(model) + \n",
    "    geom_point(aes(x=model$fitted, y=model$residuals), color= '#ff9696', size=2) +\n",
    "    geom_path(data = smoothed, aes(x = x, y = y), col=\"#a399ff\") +\n",
    "    geom_hline(linetype = 2, yintercept=0, alpha=0.2) +\n",
    "    ggtitle(\"Residuals vs Fitted\") +\n",
    "    xlab(\"Fitted\") +\n",
    "    ylab(\"Residuals\") +\n",
    "    theme_light() +\n",
    "    theme(plot.title = element_text(hjust = 0.5))\n",
    "\n",
    "qq_plot <- ggplot(model) +\n",
    "    stat_qq(aes(sample = .stdresid), color= '#ff9696') +\n",
    "    geom_abline(col=\"#a399ff\") +\n",
    "    xlab(\"Theoretical Quantiles\") +\n",
    "    ylab(\"Standardized Residuals\") +\n",
    "    ggtitle(\"Normal Q-Q\") +\n",
    "    theme_light() +\n",
    "    theme(plot.title = element_text(hjust = 0.5))\n",
    "\n",
    "plot_grid(res_vs_fit, qq_plot, ncol = 2)"
   ]
  },
  {
   "cell_type": "markdown",
   "id": "56be1046-cd98-48fb-808e-931ae87f02b7",
   "metadata": {},
   "source": [
    "<div style=\"text-align: justify\">En la gráfica de residuos vs valores ajustados se observa que la mayoría de los residuos tienen valores positivos, lo cual sugiere que la media de los residuos no es 0. Además, existe un valor significativamente atípico. Por otra parte, el gráfico Q-Q muestra claramente que los residuos no provienen de una distribución normal. Estos aspectos indican un incumplimiento de los supuestos necesarios para la validez del modelo.</div>"
   ]
  },
  {
   "cell_type": "markdown",
   "id": "ebc211e2-ebb3-42a9-9a12-cf57646cab92",
   "metadata": {},
   "source": [
    "#### <div style=\"text-align: justify\">e) Ajuste un modelo cúbico y pruebe la significancia del término cúbico, utilizando $\\alpha = 0.05$</div>"
   ]
  },
  {
   "cell_type": "markdown",
   "id": "3001ce1c-a1b0-4b85-ae30-be73647980d0",
   "metadata": {},
   "source": [
    "#### <div style=\"text-align: justify\"><b>Modelo de tercer orden:</b> $y = \\beta_0 + \\beta_3 x_1^3$</div>"
   ]
  },
  {
   "cell_type": "code",
   "execution_count": 115,
   "id": "d874f501-9b39-4e3f-b3d9-c0cca2b9c8f5",
   "metadata": {},
   "outputs": [
    {
     "data": {
      "text/plain": [
       "\n",
       "Call:\n",
       "lm(formula = y ~ I(x^3), data = data)\n",
       "\n",
       "Coefficients:\n",
       "(Intercept)       I(x^3)  \n",
       "    14.3632       0.1847  \n"
      ]
     },
     "metadata": {},
     "output_type": "display_data"
    }
   ],
   "source": [
    "cubic_model <- lm(y ~ I(x^3), data=data)\n",
    "cubic_model"
   ]
  },
  {
   "cell_type": "code",
   "execution_count": 73,
   "id": "586a1dd4-c504-42fb-b121-22b39efc4412",
   "metadata": {},
   "outputs": [
    {
     "data": {
      "text/plain": [
       "\n",
       "Call:\n",
       "lm(formula = y ~ x + I(x^2) + I(x^3), data = data)\n",
       "\n",
       "Residuals:\n",
       "    Min      1Q  Median      3Q     Max \n",
       "-4.1933 -0.2560  0.2954  0.7504  1.2183 \n",
       "\n",
       "Coefficients:\n",
       "            Estimate Std. Error t value Pr(>|t|)\n",
       "(Intercept) -87.3555    92.5834  -0.944    0.373\n",
       "x            48.0087    51.7047   0.929    0.380\n",
       "I(x^2)       -7.0428     9.3957  -0.750    0.475\n",
       "I(x^3)        0.5057     0.5576   0.907    0.391\n",
       "\n",
       "Residual standard error: 1.674 on 8 degrees of freedom\n",
       "Multiple R-squared:  0.9961,\tAdjusted R-squared:  0.9947 \n",
       "F-statistic: 683.2 on 3 and 8 DF,  p-value: 5.615e-10\n"
      ]
     },
     "metadata": {},
     "output_type": "display_data"
    }
   ],
   "source": [
    "summary(cubic_model)"
   ]
  },
  {
   "cell_type": "markdown",
   "id": "06d3d5cb-a2f4-4bb6-8464-67447f85e304",
   "metadata": {},
   "source": [
    "<div style=\"text-align: justify\">El p-valor de la pureba $H_0: \\beta_3 = 0$ es $1.833e-11 < 0.05$.</div>"
   ]
  },
  {
   "cell_type": "markdown",
   "id": "5eb3f8d4-72b3-4a6d-8cc1-d4840dfcbee3",
   "metadata": {},
   "source": [
    "<br></br>\n",
    "***\n",
    "<br></br>"
   ]
  }
 ],
 "metadata": {
  "kernelspec": {
   "display_name": "R",
   "language": "R",
   "name": "ir"
  },
  "language_info": {
   "codemirror_mode": "r",
   "file_extension": ".r",
   "mimetype": "text/x-r-source",
   "name": "R",
   "pygments_lexer": "r",
   "version": "3.6.1"
  }
 },
 "nbformat": 4,
 "nbformat_minor": 5
}
