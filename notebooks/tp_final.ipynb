{
 "cells": [
  {
   "cell_type": "markdown",
   "id": "125c2cee-5583-4ce6-a368-61ebff2fad0a",
   "metadata": {
    "tags": []
   },
   "source": [
    "# <div style=\"text-align: center; margin-top:2em; margin-bottom:1em\">ESTADÍSTICA PARA INGENIERÍA Y CIENCIAS</div>\n",
    "## <div style=\"text-align: center;\">TRABAJO FINAL:</div>\n",
    "## <div style=\"text-align: center; margin-bottom:1em\">Mediciones sobre un motor síncrono de imán permanente</div>\n",
    "## <div style=\"text-align: center; margin-bottom:1em\">Ivan Svetlich</div>"
   ]
  },
  {
   "cell_type": "markdown",
   "id": "2fefe176-9348-4e9f-9960-fbbf16c989c5",
   "metadata": {},
   "source": [
    "***\n",
    "<br></br>"
   ]
  },
  {
   "cell_type": "code",
   "execution_count": 64,
   "id": "fdd3645e-4c47-429f-9a45-29fc01e38bb6",
   "metadata": {
    "tags": []
   },
   "outputs": [],
   "source": [
    "#Librerias\n",
    "library(IRdisplay)\n",
    "library(formattable)\n",
    "library(ggplot2)\n",
    "library(cowplot)\n",
    "library(dplyr)\n",
    "library(stringr)\n",
    "library(Hmisc)\n",
    "library(data.table)\n",
    "library(flextable)\n",
    "library(kableExtra)\n",
    "library(olsrr)\n",
    "library(caTools)\n",
    "library(gridExtra)\n",
    "library(ggcorrplot)\n",
    "library(MLmetrics)\n",
    "library(yardstick)"
   ]
  },
  {
   "cell_type": "markdown",
   "id": "9d67172e-3a07-426e-afe0-1a73b363633a",
   "metadata": {},
   "source": [
    "<br></br>"
   ]
  },
  {
   "cell_type": "markdown",
   "id": "c5261f36-038f-40c9-8000-7154c9b30f8f",
   "metadata": {
    "tags": []
   },
   "source": [
    "## **Introducción**"
   ]
  },
  {
   "cell_type": "markdown",
   "id": "d5d9d383-84c4-427c-8b8f-ec28920953e0",
   "metadata": {},
   "source": [
    "<div style=\"text-align: justify\">El motor síncrono de imán permanente (PMSM) es un motor síncrono de corriente alterna cuya excitación de campo proviene de imanes permanentes, y que tiene una forma de onda de fuerza contraelectromotriz senoidal. Como con los motores de corriente continua sin escobillas, tiene un rotor de imán permanente y bobinas en el estator. Sin embargo, la estructura del estator con bobinas construidas para producir una densidad de flujo senoidal en el vacío de aire de la máquina se parece a la de un motor de inducción. Su densidad de potencia es mayor que la de los motores de inducción en los mismos rangos, ya que no cuenta con potencia del estator dedicada a la producción de campos magnéticos.</div>"
   ]
  },
  {
   "cell_type": "markdown",
   "id": "04d6c3a9-b965-4098-907f-920ea2e1d4da",
   "metadata": {},
   "source": [
    "<div style=\"text-align: justify\">Los PMSM se utilizan generalmente para controladores de motor de alto rendimiento y alta eficiencia. El control de motores de alto rendimiento se caracteriza por una rotación uniforme en todo el rango de velocidad del motor, control total de par motor a velocidad cero y aceleración y desaceleración rápidas.</div>"
   ]
  },
  {
   "cell_type": "markdown",
   "id": "69f45c35-79f8-425c-953b-f5c6196100d2",
   "metadata": {},
   "source": [
    "<div style=\"text-align: justify\">Hoy en día, el PMSM es el motor elegido en la mayoría de los diseños de vehículos eléctricos e híbridos en el mercado.</div>"
   ]
  },
  {
   "cell_type": "markdown",
   "id": "d732ff6f-6cef-42c4-bb97-422647d67fbd",
   "metadata": {},
   "source": [
    "***\n",
    "<br></br>"
   ]
  },
  {
   "cell_type": "markdown",
   "id": "d274318a-079f-48df-b960-999907f425c4",
   "metadata": {},
   "source": [
    "<br></br>"
   ]
  },
  {
   "cell_type": "markdown",
   "id": "f04fb19a-6cc6-465a-bc58-a35d1a93ca53",
   "metadata": {},
   "source": [
    "## **Dataset**"
   ]
  },
  {
   "cell_type": "markdown",
   "id": "b0fdd2d2-8647-4c53-b5fb-1b39adbe4b0c",
   "metadata": {},
   "source": [
    "<div style=\"text-align: justify\">El dataset comprende lecturas de varios sensores aplicados a un motor síncrono de imanes permanentes (PMSM) desplegado en un banco de pruebas. Las mediciones fueron recopiladas por el departamento de <i>Electrónica de Potencia y Accionamientos Eléctricos</i> de la <i>Universidad de Paderborn</i>, Alemania.</div>"
   ]
  },
  {
   "cell_type": "markdown",
   "id": "140c2105-5aea-4743-9c5c-3f57fdcbaa23",
   "metadata": {},
   "source": [
    "<div style=\"text-align: justify\">La temperatura del rotor es un parámetro especialmente difícil de obtener en un vehículo comercial, tanto desde el punto de vista de la confiabilidad de la medición como del costo económico implicado. En el presente informe se intenta desarrollar un modelo de regresión lineal múltiple que permita predecir la temperatura del imán permanente del rotor a partir de otros parámetros de funcionamiento.</div>"
   ]
  },
  {
   "cell_type": "code",
   "execution_count": 4,
   "id": "7f2d6842-5451-4106-ad7d-4d7ae72b742c",
   "metadata": {},
   "outputs": [],
   "source": [
    "pmsm_data <- read.csv(\"./tp_final_data.csv\") # Leo los datos desde archivo .csv (puede tardar bastante tiempo)"
   ]
  },
  {
   "cell_type": "markdown",
   "id": "0acd93b4-8a3b-4845-a5ba-fc2343580c68",
   "metadata": {},
   "source": [
    "<div style=\"text-align: justify\">El dataset está compuesto por 13 variables (columnas) y un total de 1330816 observaciones (filas). Todas las variables son numéricas y no hay datos faltantes en ninguna de ellas.</div>"
   ]
  },
  {
   "cell_type": "code",
   "execution_count": 224,
   "id": "1edf87e4-366a-46f2-ae01-952144eaba7a",
   "metadata": {},
   "outputs": [
    {
     "data": {
      "text/html": [
       "<table style='width:100%;'>\n",
       " <thead>\n",
       "  <tr>\n",
       "   <th style=\"text-align:right;\"> u_q </th>\n",
       "   <th style=\"text-align:right;\"> coolant </th>\n",
       "   <th style=\"text-align:right;\"> stator_winding </th>\n",
       "   <th style=\"text-align:right;\"> u_d </th>\n",
       "   <th style=\"text-align:right;\"> stator_tooth </th>\n",
       "   <th style=\"text-align:right;\"> motor_speed </th>\n",
       "   <th style=\"text-align:right;\"> i_d </th>\n",
       "   <th style=\"text-align:right;\"> i_q </th>\n",
       "   <th style=\"text-align:right;\"> pm </th>\n",
       "   <th style=\"text-align:right;\"> stator_yoke </th>\n",
       "   <th style=\"text-align:right;\"> ambient </th>\n",
       "   <th style=\"text-align:right;\"> torque </th>\n",
       "   <th style=\"text-align:right;\"> profile_id </th>\n",
       "  </tr>\n",
       " </thead>\n",
       "<tbody>\n",
       "  <tr>\n",
       "   <td style=\"text-align:right;\"> -0.45 </td>\n",
       "   <td style=\"text-align:right;\"> 18.81 </td>\n",
       "   <td style=\"text-align:right;\"> 19.09 </td>\n",
       "   <td style=\"text-align:right;\"> -0.35 </td>\n",
       "   <td style=\"text-align:right;\"> 18.29 </td>\n",
       "   <td style=\"text-align:right;\"> 0.00 </td>\n",
       "   <td style=\"text-align:right;\"> 0.00 </td>\n",
       "   <td style=\"text-align:right;\"> 0.00 </td>\n",
       "   <td style=\"text-align:right;\"> 24.55 </td>\n",
       "   <td style=\"text-align:right;\"> 18.32 </td>\n",
       "   <td style=\"text-align:right;\"> 19.85 </td>\n",
       "   <td style=\"text-align:right;\"> 0.19 </td>\n",
       "   <td style=\"text-align:right;\"> 17 </td>\n",
       "  </tr>\n",
       "  <tr>\n",
       "   <td style=\"text-align:right;\"> -0.33 </td>\n",
       "   <td style=\"text-align:right;\"> 18.82 </td>\n",
       "   <td style=\"text-align:right;\"> 19.09 </td>\n",
       "   <td style=\"text-align:right;\"> -0.31 </td>\n",
       "   <td style=\"text-align:right;\"> 18.29 </td>\n",
       "   <td style=\"text-align:right;\"> 0.00 </td>\n",
       "   <td style=\"text-align:right;\"> 0.00 </td>\n",
       "   <td style=\"text-align:right;\"> 0.00 </td>\n",
       "   <td style=\"text-align:right;\"> 24.54 </td>\n",
       "   <td style=\"text-align:right;\"> 18.31 </td>\n",
       "   <td style=\"text-align:right;\"> 19.85 </td>\n",
       "   <td style=\"text-align:right;\"> 0.25 </td>\n",
       "   <td style=\"text-align:right;\"> 17 </td>\n",
       "  </tr>\n",
       "  <tr>\n",
       "   <td style=\"text-align:right;\"> -0.44 </td>\n",
       "   <td style=\"text-align:right;\"> 18.83 </td>\n",
       "   <td style=\"text-align:right;\"> 19.09 </td>\n",
       "   <td style=\"text-align:right;\"> -0.37 </td>\n",
       "   <td style=\"text-align:right;\"> 18.29 </td>\n",
       "   <td style=\"text-align:right;\"> 0.00 </td>\n",
       "   <td style=\"text-align:right;\"> 0.00 </td>\n",
       "   <td style=\"text-align:right;\"> 0.00 </td>\n",
       "   <td style=\"text-align:right;\"> 24.54 </td>\n",
       "   <td style=\"text-align:right;\"> 18.33 </td>\n",
       "   <td style=\"text-align:right;\"> 19.85 </td>\n",
       "   <td style=\"text-align:right;\"> 0.18 </td>\n",
       "   <td style=\"text-align:right;\"> 17 </td>\n",
       "  </tr>\n",
       "  <tr>\n",
       "   <td style=\"text-align:right;\"> -0.33 </td>\n",
       "   <td style=\"text-align:right;\"> 18.84 </td>\n",
       "   <td style=\"text-align:right;\"> 19.08 </td>\n",
       "   <td style=\"text-align:right;\"> -0.32 </td>\n",
       "   <td style=\"text-align:right;\"> 18.29 </td>\n",
       "   <td style=\"text-align:right;\"> 0.01 </td>\n",
       "   <td style=\"text-align:right;\"> 0.00 </td>\n",
       "   <td style=\"text-align:right;\"> 0.00 </td>\n",
       "   <td style=\"text-align:right;\"> 24.55 </td>\n",
       "   <td style=\"text-align:right;\"> 18.33 </td>\n",
       "   <td style=\"text-align:right;\"> 19.85 </td>\n",
       "   <td style=\"text-align:right;\"> 0.24 </td>\n",
       "   <td style=\"text-align:right;\"> 17 </td>\n",
       "  </tr>\n",
       "  <tr>\n",
       "   <td style=\"text-align:right;\"> -0.47 </td>\n",
       "   <td style=\"text-align:right;\"> 18.86 </td>\n",
       "   <td style=\"text-align:right;\"> 19.08 </td>\n",
       "   <td style=\"text-align:right;\"> -0.33 </td>\n",
       "   <td style=\"text-align:right;\"> 18.29 </td>\n",
       "   <td style=\"text-align:right;\"> 0.00 </td>\n",
       "   <td style=\"text-align:right;\"> -0.06 </td>\n",
       "   <td style=\"text-align:right;\"> 0.04 </td>\n",
       "   <td style=\"text-align:right;\"> 24.57 </td>\n",
       "   <td style=\"text-align:right;\"> 18.33 </td>\n",
       "   <td style=\"text-align:right;\"> 19.85 </td>\n",
       "   <td style=\"text-align:right;\"> 0.21 </td>\n",
       "   <td style=\"text-align:right;\"> 17 </td>\n",
       "  </tr>\n",
       "  <tr>\n",
       "   <td style=\"text-align:right;\"> -0.54 </td>\n",
       "   <td style=\"text-align:right;\"> 18.90 </td>\n",
       "   <td style=\"text-align:right;\"> 19.08 </td>\n",
       "   <td style=\"text-align:right;\"> 0.01 </td>\n",
       "   <td style=\"text-align:right;\"> 18.29 </td>\n",
       "   <td style=\"text-align:right;\"> 0.01 </td>\n",
       "   <td style=\"text-align:right;\"> -0.61 </td>\n",
       "   <td style=\"text-align:right;\"> 0.34 </td>\n",
       "   <td style=\"text-align:right;\"> 24.57 </td>\n",
       "   <td style=\"text-align:right;\"> 18.32 </td>\n",
       "   <td style=\"text-align:right;\"> 19.85 </td>\n",
       "   <td style=\"text-align:right;\"> 0.48 </td>\n",
       "   <td style=\"text-align:right;\"> 17 </td>\n",
       "  </tr>\n",
       "</tbody>\n",
       "</table>"
      ]
     },
     "metadata": {},
     "output_type": "display_data"
    }
   ],
   "source": [
    "round(head(pmsm_data),2) %>% kable(\"html\", table.attr = \"style='width:100%;'\") %>%  as.character() %>% display_html()"
   ]
  },
  {
   "cell_type": "markdown",
   "id": "daa3ad7f-b9a1-46ec-9365-585d969d2103",
   "metadata": {},
   "source": [
    "#### <b>Columnas</b>:"
   ]
  },
  {
   "cell_type": "markdown",
   "id": "2dd5c4ff-aa1b-4111-a278-dcffd2eb514b",
   "metadata": {},
   "source": [
    "<ul sty>\n",
    "    <li><b>u_q</b>: tensión en cuadratura - Volts (V)</li>\n",
    "    <li><b>coolant</b>: temperatura del refrigerante - ºC</li>\n",
    "    <li><b>stator_winding</b>: temperatura del devanado del estator - ºC</li>\n",
    "    <li><b>u_d</b>: tensión directa - Volts (V)</li>\n",
    "    <li><b>stator_tooth</b>: temperatura del diente del estator - ºC</li>\n",
    "    <li><b>motor_speed</b>: velocidad del motor - rpm</li>\n",
    "    <li><b>i_d</b>: corriente directa - Ampers (A)</li>\n",
    "    <li><b>i_q</b>: corriente en cuadratura - Ampers (A)</li>\n",
    "    <li><b>pm</b>: temperatura del imán permanente (rotor) - ºC</li>\n",
    "    <li><b>stator_yoke</b>: temperatura de la carcasa - ºC</li>\n",
    "    <li><b>ambient</b>: temperatura ambiente - ºC</li>\n",
    "    <li><b>torque</b>: torque del motor - Nm</li>\n",
    "    <li><b>profile_id</b>: id de la medición</li>\n",
    "</ul>"
   ]
  },
  {
   "cell_type": "markdown",
   "id": "8c90fc92-a8f8-45c2-9af8-0816875700ef",
   "metadata": {},
   "source": [
    "<br></br>"
   ]
  },
  {
   "cell_type": "markdown",
   "id": "0efbfe97-e00b-40ae-9535-5f7050377f66",
   "metadata": {},
   "source": [
    "## **Preparación de los datos**"
   ]
  },
  {
   "cell_type": "markdown",
   "id": "979bd6f9-dc36-44e3-a161-3795846466d1",
   "metadata": {},
   "source": [
    "<div style=\"text-align: justify\">El dataset está compuesto por 1330816 lecturas. Una cantidad tan grande de datos implica costos computacionales altos y provoca lentitud en algunas operaciones. Por eso, se hace un muestreo aleatorio para trabajar con el 10% de las lecturas.</div>"
   ]
  },
  {
   "cell_type": "code",
   "execution_count": 79,
   "id": "a7ccf75b-2d4e-4dba-bad2-3b5bb27293d0",
   "metadata": {},
   "outputs": [
    {
     "data": {
      "text/markdown": [
       "10% de 1330816 . . . . . 133082 filas"
      ]
     },
     "metadata": {},
     "output_type": "display_data"
    }
   ],
   "source": [
    "pmsm_data.sample <- pmsm_data %>% dplyr::sample_frac(.10)\n",
    "display_markdown(sprintf(\"10%% de %d . . . . . %d filas\", nrow(pmsm_data), nrow(pmsm_data.sample)))"
   ]
  },
  {
   "cell_type": "markdown",
   "id": "b925d023-43f4-4800-8bf7-e08ced9db9c9",
   "metadata": {},
   "source": [
    "<div style=\"text-align: justify\">Algunas de las columnas no son de interés en este análisis. En primer lugar, la columna <b>profile_id</b> no aporta información relevante y puede ser descartada:</div>"
   ]
  },
  {
   "cell_type": "code",
   "execution_count": 80,
   "id": "1c7e7aa6-92da-41cb-9f5c-067e02a881d8",
   "metadata": {},
   "outputs": [],
   "source": [
    "pmsm_data.sample1 <- pmsm_data.sample %>% select(-profile_id)"
   ]
  },
  {
   "cell_type": "markdown",
   "id": "95bf23f9-e5ce-49fc-bf61-2235563b8d74",
   "metadata": {},
   "source": [
    "<div style=\"text-align: justify\">Si bien el torque del motor es un parámetro relevante, su medición no es sencilla. Al igual que la temperatura del rotor, resulta difícil de obtener en un vehículo comercial desde un punto de vista práctico. Por lo tanto, también se remueve la columna <b>torque</b>:</div>"
   ]
  },
  {
   "cell_type": "code",
   "execution_count": 81,
   "id": "75265a83-3805-414f-befd-f5e6fe53d3fc",
   "metadata": {},
   "outputs": [],
   "source": [
    "pmsm_data.sample2 <- pmsm_data.sample1 %>% select(-torque)"
   ]
  },
  {
   "cell_type": "markdown",
   "id": "7530921b-ab25-4c8a-ab8d-19e278ef4b84",
   "metadata": {},
   "source": [
    "<div style=\"text-align: justify\">Las tensiones y corrientes medidas toman valores tanto positivos como negativos. Analizando la posible relación de estos parámetros con la temperatura del rotor, es razonable asumir que la magnitud de la lectura sea una variable relevante para el modelo, independientemente del signo. Por eso se utilizan los valores absolutos de las columnas <b>u_d</b>, <b>u_q</b>, <b>i_d</b> y <b>i_q</b>:</div>"
   ]
  },
  {
   "cell_type": "code",
   "execution_count": 82,
   "id": "5732b646-d884-43bf-96f8-7e449c76a460",
   "metadata": {},
   "outputs": [],
   "source": [
    "pmsm_data.sample3 <- pmsm_data.sample2 %>% mutate(\n",
    "    u_d = abs(u_d),\n",
    "    u_q = abs(u_q),\n",
    "    i_d = abs(i_d),\n",
    "    i_q = abs(i_q))"
   ]
  },
  {
   "cell_type": "markdown",
   "id": "bbab654a-97f3-40e6-86d6-532dc3653013",
   "metadata": {},
   "source": [
    "<div style=\"text-align: justify\">Con el fin de poder evaluar posteriormente la calidad predictiva del modelo, se dividen los datos en dos subconjuntos:</div>\n",
    "<ul>\n",
    "    <li>Un subconjunto <b>pmsm_data.train</b> que se utilizará para ajustar el modelo.</li>\n",
    "    <li>Otro subconjunto <b>pmsm_data.test</b> sobre el cual se aplicará el modelo para intentar predecir la variable de interés.</li>\n",
    "</ul>"
   ]
  },
  {
   "cell_type": "code",
   "execution_count": 9,
   "id": "e9ec0628-070e-43bc-9541-52815367d633",
   "metadata": {
    "tags": []
   },
   "outputs": [],
   "source": [
    "pmsm_data.sample4 <- pmsm_data.sample3 %>% mutate(ID = row_number())\n",
    "pmsm_data.train <- pmsm_data.sample4 %>% sample_frac(.70)\n",
    "pmsm_data.test <- pmsm_data.sample4 %>% anti_join(pmsm_data.train, by = 'ID')"
   ]
  },
  {
   "cell_type": "markdown",
   "id": "0d6e4f0c-a4a8-4156-9c42-3ec155a0322b",
   "metadata": {},
   "source": [
    "***\n",
    "<br></br>"
   ]
  },
  {
   "cell_type": "markdown",
   "id": "75de5208-d994-48f3-aafe-233efe4b89b2",
   "metadata": {},
   "source": [
    "<br></br>"
   ]
  },
  {
   "cell_type": "markdown",
   "id": "5b0c7b5f-601a-4e0a-829b-5eaa012ed273",
   "metadata": {},
   "source": [
    "## **Selección del modelo**"
   ]
  },
  {
   "cell_type": "markdown",
   "id": "6c9b39f2-26dc-4374-b896-9ffb57ebb29d",
   "metadata": {},
   "source": [
    "<div style=\"text-align: justify\">El modelo de regresión lineal propuesto utiliza todas las variables resultantes de las transformaciones realizadas en la sección anterior, siendo <b>pm</b> (temperatura del imán en el rotor) la variable dependiente que se busca predecir.</div>"
   ]
  },
  {
   "cell_type": "markdown",
   "id": "a3722e3f-2fac-415b-9971-e606f055a003",
   "metadata": {},
   "source": [
    "<div style=\"text-align: justify; font-size: larger\">$$y = \\beta_0 + \\beta_1x_1 + \\ldots + \\beta_{10}x_{10}$$</div>"
   ]
  },
  {
   "cell_type": "code",
   "execution_count": 17,
   "id": "f31f11a8-00ce-43fb-a59c-b0a697ae523e",
   "metadata": {},
   "outputs": [
    {
     "data": {
      "text/plain": [
       "\n",
       "Call:\n",
       "lm(formula = pm ~ . - ID, data = pmsm_data.train)\n",
       "\n",
       "Residuals:\n",
       "    Min      1Q  Median      3Q     Max \n",
       "-46.343  -4.653  -0.470   3.964  39.873 \n",
       "\n",
       "Coefficients:\n",
       "                 Estimate Std. Error t value Pr(>|t|)    \n",
       "(Intercept)    -1.720e+01  3.511e-01  -48.99   <2e-16 ***\n",
       "u_q            -1.195e-01  1.710e-03  -69.87   <2e-16 ***\n",
       "coolant        -1.808e-01  7.404e-03  -24.42   <2e-16 ***\n",
       "stator_winding -1.605e+00  1.201e-02 -133.65   <2e-16 ***\n",
       "u_d             2.098e-02  1.078e-03   19.46   <2e-16 ***\n",
       "stator_tooth    4.016e+00  2.890e-02  138.97   <2e-16 ***\n",
       "motor_speed     2.234e-03  7.242e-05   30.84   <2e-16 ***\n",
       "i_d            -3.107e-02  1.657e-03  -18.75   <2e-16 ***\n",
       "i_q            -1.383e-02  8.414e-04  -16.44   <2e-16 ***\n",
       "stator_yoke    -1.622e+00  2.566e-02  -63.24   <2e-16 ***\n",
       "ambient         1.717e+00  1.559e-02  110.11   <2e-16 ***\n",
       "---\n",
       "Signif. codes:  0 '***' 0.001 '**' 0.01 '*' 0.05 '.' 0.1 ' ' 1\n",
       "\n",
       "Residual standard error: 7.28 on 93146 degrees of freedom\n",
       "Multiple R-squared:  0.8528,\tAdjusted R-squared:  0.8528 \n",
       "F-statistic: 5.397e+04 on 10 and 93146 DF,  p-value: < 2.2e-16\n"
      ]
     },
     "metadata": {},
     "output_type": "display_data"
    }
   ],
   "source": [
    "model <- lm(pm ~ . -ID, pmsm_data.train)\n",
    "summary(model)"
   ]
  },
  {
   "cell_type": "markdown",
   "id": "ad6c18dd-ad6c-4ab5-a40d-61ea1ca76483",
   "metadata": {},
   "source": [
    "<div style=\"text-align: justify\"><strong>Significancia de la regresión (estadístico F)</strong></div>"
   ]
  },
  {
   "cell_type": "markdown",
   "id": "3919bc67-05a9-48dd-9983-7e6b0f47368e",
   "metadata": {},
   "source": [
    "<div style=\"text-align: justify\">Para probar la validez del modelo, se utiliza la hipótesis nuela de que la variable respuesta no puede ser representada como una función de ninguna de las variables regresoras.</div>"
   ]
  },
  {
   "cell_type": "markdown",
   "id": "2219aafd-00eb-4c16-86d5-6f1d6977c22e",
   "metadata": {},
   "source": [
    "<div style=\"text-align: justify; font-size: larger\">$$H_0:\\beta_0 = \\beta_1 = \\ldots = \\beta_{10} = 0$$</div>"
   ]
  },
  {
   "cell_type": "markdown",
   "id": "cc9adfc6-3ef8-4c97-ba91-f6816357cf4c",
   "metadata": {},
   "source": [
    "<div style=\"text-align: justify\">Esta hipótesis puede probarse usando el estadístico F, que se calcula con la siguiente fórmula:</div>"
   ]
  },
  {
   "cell_type": "markdown",
   "id": "9f6da838-98d9-4237-894e-e1e84f0241fb",
   "metadata": {},
   "source": [
    "<div style=\"text-align: justify; font-size: larger\">$$f = \\frac{MSR}{MSE}$$</div>"
   ]
  },
  {
   "cell_type": "markdown",
   "id": "9ad61e68-f1db-40fb-b973-efd2ee903e08",
   "metadata": {},
   "source": [
    "<div style=\"text-align: justify\">El valor del estadístico F es $5.397e+04$, con 10 y 93146 grados de libertad, arrojando un p-valor de $2.2e-16 \\approx 0$. Con este resultado se rechaza la hipótesis nula.</div>"
   ]
  },
  {
   "cell_type": "markdown",
   "id": "2be937cc-f4f4-4cd1-8c3c-3d4e98d3e6ef",
   "metadata": {},
   "source": [
    "<div style=\"text-align: justify\"><strong>Bondad de ajuste (estadístico $R^2$)</strong></div>"
   ]
  },
  {
   "cell_type": "markdown",
   "id": "725940a5-2857-4647-9800-8377a37ce3c9",
   "metadata": {},
   "source": [
    "<div style=\"text-align: justify\"> El estadístico $R^2$ representa la proporción de la varianza de la variable respuesta que es explicada por las variables predictoras del modelo de regresión. </div>"
   ]
  },
  {
   "cell_type": "markdown",
   "id": "9285bcd4-f4f7-4a8b-9ad7-698462633d94",
   "metadata": {},
   "source": [
    "<div style=\"text-align: justify; front-size: larger;\">$$R^2 = 1 - \\frac{SSE}{SST}$$</div>"
   ]
  },
  {
   "cell_type": "markdown",
   "id": "015d6fb5-347b-4ffb-9415-5a4a32cebbff",
   "metadata": {},
   "source": [
    "<div style=\"text-align: justify\"> El valor del estadístico $R^2$ para el modelo propuesto es $0.8528$. Calificar el valor del estádistico como \"bueno\" va a depender del área de estudio y de las necesidades específicas del problema. En este caso, se puede concluir que el resultado obtenido es aceptable para el contexto de la prueba.</div>"
   ]
  },
  {
   "cell_type": "markdown",
   "id": "33f64a39-b3f0-4659-a7b9-8c08ac640764",
   "metadata": {},
   "source": [
    "<div style=\"text-align: justify\"><strong>Evaluando otros modelos</strong></div>"
   ]
  },
  {
   "cell_type": "markdown",
   "id": "3b410afe-6b0e-4446-8d9e-ddc9a5e04285",
   "metadata": {},
   "source": [
    "<div style=\"text-align: justify\"> Si bien el modelo planteado utiliza todas las variables disponibles, existe la posibilidad de que un modelo con menor número de variables tenga un mejor desempeño. A continuación se realiza una comparación por pasos (agregando una nueva variable en cada paso) de los distintos modelos posibles. El criterio de evaluación seleccionado es el $R^2$.</div>"
   ]
  },
  {
   "cell_type": "code",
   "execution_count": 201,
   "id": "c3483454-3efc-4ec2-aa94-577017b63a63",
   "metadata": {},
   "outputs": [],
   "source": [
    "k <- ols_step_best_subset(model)"
   ]
  },
  {
   "cell_type": "code",
   "execution_count": 223,
   "id": "06ec8c8a-6799-4b26-82bb-1b25a00c869c",
   "metadata": {},
   "outputs": [
    {
     "data": {
      "text/html": [
       "<table>\n",
       " <thead>\n",
       "  <tr>\n",
       "   <th style=\"text-align:left;\">   </th>\n",
       "   <th style=\"text-align:right;\"> n </th>\n",
       "   <th style=\"text-align:left;\"> predictors </th>\n",
       "   <th style=\"text-align:right;\"> rsquare </th>\n",
       "   <th style=\"text-align:right;\"> adjr </th>\n",
       "   <th style=\"text-align:right;\"> aic </th>\n",
       "  </tr>\n",
       " </thead>\n",
       "<tbody>\n",
       "  <tr>\n",
       "   <td style=\"text-align:left;\"> 1023 </td>\n",
       "   <td style=\"text-align:right;\"> 10 </td>\n",
       "   <td style=\"text-align:left;\"> u_q coolant stator_winding u_d stator_tooth motor_speed i_d i_q stator_yoke ambient </td>\n",
       "   <td style=\"text-align:right;\"> 0.853 </td>\n",
       "   <td style=\"text-align:right;\"> 0.853 </td>\n",
       "   <td style=\"text-align:right;\"> 634210.5 </td>\n",
       "  </tr>\n",
       "  <tr>\n",
       "   <td style=\"text-align:left;\"> 1015 </td>\n",
       "   <td style=\"text-align:right;\"> 9 </td>\n",
       "   <td style=\"text-align:left;\"> u_q coolant stator_winding u_d stator_tooth motor_speed i_d stator_yoke ambient </td>\n",
       "   <td style=\"text-align:right;\"> 0.853 </td>\n",
       "   <td style=\"text-align:right;\"> 0.853 </td>\n",
       "   <td style=\"text-align:right;\"> 634315.3 </td>\n",
       "  </tr>\n",
       "  <tr>\n",
       "   <td style=\"text-align:left;\"> 998 </td>\n",
       "   <td style=\"text-align:right;\"> 8 </td>\n",
       "   <td style=\"text-align:left;\"> u_q stator_winding u_d stator_tooth motor_speed i_d stator_yoke ambient </td>\n",
       "   <td style=\"text-align:right;\"> 0.852 </td>\n",
       "   <td style=\"text-align:right;\"> 0.852 </td>\n",
       "   <td style=\"text-align:right;\"> 634917.5 </td>\n",
       "  </tr>\n",
       "  <tr>\n",
       "   <td style=\"text-align:left;\"> 921 </td>\n",
       "   <td style=\"text-align:right;\"> 7 </td>\n",
       "   <td style=\"text-align:left;\"> u_q stator_winding stator_tooth motor_speed i_d stator_yoke ambient </td>\n",
       "   <td style=\"text-align:right;\"> 0.851 </td>\n",
       "   <td style=\"text-align:right;\"> 0.851 </td>\n",
       "   <td style=\"text-align:right;\"> 635861.7 </td>\n",
       "  </tr>\n",
       "  <tr>\n",
       "   <td style=\"text-align:left;\"> 733 </td>\n",
       "   <td style=\"text-align:right;\"> 6 </td>\n",
       "   <td style=\"text-align:left;\"> u_q stator_winding stator_tooth motor_speed stator_yoke ambient </td>\n",
       "   <td style=\"text-align:right;\"> 0.849 </td>\n",
       "   <td style=\"text-align:right;\"> 0.849 </td>\n",
       "   <td style=\"text-align:right;\"> 637149.9 </td>\n",
       "  </tr>\n",
       "  <tr>\n",
       "   <td style=\"text-align:left;\"> 466 </td>\n",
       "   <td style=\"text-align:right;\"> 5 </td>\n",
       "   <td style=\"text-align:left;\"> u_q stator_winding stator_tooth stator_yoke ambient </td>\n",
       "   <td style=\"text-align:right;\"> 0.843 </td>\n",
       "   <td style=\"text-align:right;\"> 0.843 </td>\n",
       "   <td style=\"text-align:right;\"> 640834.3 </td>\n",
       "  </tr>\n",
       "  <tr>\n",
       "   <td style=\"text-align:left;\"> 213 </td>\n",
       "   <td style=\"text-align:right;\"> 4 </td>\n",
       "   <td style=\"text-align:left;\"> u_q stator_winding stator_tooth stator_yoke </td>\n",
       "   <td style=\"text-align:right;\"> 0.826 </td>\n",
       "   <td style=\"text-align:right;\"> 0.826 </td>\n",
       "   <td style=\"text-align:right;\"> 650363.9 </td>\n",
       "  </tr>\n",
       "  <tr>\n",
       "   <td style=\"text-align:left;\"> 129 </td>\n",
       "   <td style=\"text-align:right;\"> 3 </td>\n",
       "   <td style=\"text-align:left;\"> stator_winding stator_tooth stator_yoke </td>\n",
       "   <td style=\"text-align:right;\"> 0.806 </td>\n",
       "   <td style=\"text-align:right;\"> 0.806 </td>\n",
       "   <td style=\"text-align:right;\"> 660189.2 </td>\n",
       "  </tr>\n",
       "  <tr>\n",
       "   <td style=\"text-align:left;\"> 45 </td>\n",
       "   <td style=\"text-align:right;\"> 2 </td>\n",
       "   <td style=\"text-align:left;\"> stator_tooth ambient </td>\n",
       "   <td style=\"text-align:right;\"> 0.718 </td>\n",
       "   <td style=\"text-align:right;\"> 0.718 </td>\n",
       "   <td style=\"text-align:right;\"> 695279.2 </td>\n",
       "  </tr>\n",
       "  <tr>\n",
       "   <td style=\"text-align:left;\"> 5 </td>\n",
       "   <td style=\"text-align:right;\"> 1 </td>\n",
       "   <td style=\"text-align:left;\"> stator_tooth </td>\n",
       "   <td style=\"text-align:right;\"> 0.692 </td>\n",
       "   <td style=\"text-align:right;\"> 0.692 </td>\n",
       "   <td style=\"text-align:right;\"> 703267.1 </td>\n",
       "  </tr>\n",
       "</tbody>\n",
       "</table>"
      ]
     },
     "metadata": {},
     "output_type": "display_data"
    }
   ],
   "source": [
    "k[sort.list(k$rsquare, decreasing=TRUE),] %>% mutate_if(is.numeric, round, digits=3) %>% select(n, predictors, rsquare, adjr, aic) %>% kable(\"html\") %>%  as.character() %>% display_html()"
   ]
  },
  {
   "cell_type": "markdown",
   "id": "3bbf6fb9-8462-4ba4-8a77-7a7d31d50e84",
   "metadata": {},
   "source": [
    "<div style=\"text-align: justify\">El modelo con mayor $R^2$ es el que incluye tadas las variables. Cabe aclarar que el $R^2$ tiende a incrementar a medida que se agregan variables al modelo. Otros criterios, como el AIC, tienen en cuenta la simplicidad del modelo (cantidad de variables regresoras) en su fórmula.</div>"
   ]
  },
  {
   "cell_type": "markdown",
   "id": "c8c55123-c001-4ea4-b6d2-4dd4b0bb066f",
   "metadata": {},
   "source": [
    "<br></br>"
   ]
  },
  {
   "cell_type": "markdown",
   "id": "36c35897-2904-4e9a-ab6e-c5da9dbdc7bf",
   "metadata": {},
   "source": [
    "## **Predicción y evaluación de desempeño**"
   ]
  },
  {
   "cell_type": "markdown",
   "id": "ff843825-5588-4011-bb8e-690b79c6fb01",
   "metadata": {},
   "source": [
    "<div style=\"text-align: justify\">Con el fin de evaluar las capacidades predictivas del modelo propuesto, se intenta predecir los valores de temperatura del rotor para el subconjunto de datos <b>pmsm_data.test</b> y se compara los resultados obtenidos con los valores reales.</div>"
   ]
  },
  {
   "cell_type": "code",
   "execution_count": 53,
   "id": "b1242285-259a-4e55-af48-00715d5ee66a",
   "metadata": {},
   "outputs": [],
   "source": [
    "pm.predict <- predict (model, pmsm_data.test)"
   ]
  },
  {
   "cell_type": "markdown",
   "id": "9dcb3046-ebfb-4905-a084-fc09cc3858ca",
   "metadata": {},
   "source": [
    "<div style=\"text-align: justify\">El criterio de evaluación utlizado es el error porcentual medio $\\left(\\text{MPE}\\right)$ entre las temperaturas predichas y las relevadas en el experimento. Un valor de error cuadrático medio cercano a cero significa un buen desempeño del modelo.</div>"
   ]
  },
  {
   "cell_type": "markdown",
   "id": "c86cc88a-e9dc-4a86-b2ed-8add6f2e0c91",
   "metadata": {},
   "source": [
    "<div style=\"text-align: justify; font-size: larger\">$$\\text{MPE} = \\frac{100\\%}{n} \\sum_{t=1}^{n} \\frac{a_t - f_t}{a_t}$$</div>"
   ]
  },
  {
   "cell_type": "markdown",
   "id": "15cedcae-5630-46c7-99c7-ac33c3f9bdcb",
   "metadata": {},
   "source": [
    "<div style=\"text-align: justify\">donde $a_t$ es el valor real, $f_t$ es el valor estimado y $n$ es el número de predicciones realizadas.</div>"
   ]
  },
  {
   "cell_type": "code",
   "execution_count": 71,
   "id": "b347242e-3687-448f-aa03-c745adeb2c07",
   "metadata": {},
   "outputs": [
    {
     "data": {
      "text/html": [
       "<table class=\"dataframe\">\n",
       "<caption>A tibble: 1 × 3</caption>\n",
       "<thead>\n",
       "\t<tr><th scope=col>.metric</th><th scope=col>.estimator</th><th scope=col>.estimate</th></tr>\n",
       "\t<tr><th scope=col>&lt;chr&gt;</th><th scope=col>&lt;chr&gt;</th><th scope=col>&lt;dbl&gt;</th></tr>\n",
       "</thead>\n",
       "<tbody>\n",
       "\t<tr><td>mpe</td><td>standard</td><td>-2.113116</td></tr>\n",
       "</tbody>\n",
       "</table>\n"
      ],
      "text/latex": [
       "A tibble: 1 × 3\n",
       "\\begin{tabular}{lll}\n",
       " .metric & .estimator & .estimate\\\\\n",
       " <chr> & <chr> & <dbl>\\\\\n",
       "\\hline\n",
       "\t mpe & standard & -2.113116\\\\\n",
       "\\end{tabular}\n"
      ],
      "text/markdown": [
       "\n",
       "A tibble: 1 × 3\n",
       "\n",
       "| .metric &lt;chr&gt; | .estimator &lt;chr&gt; | .estimate &lt;dbl&gt; |\n",
       "|---|---|---|\n",
       "| mpe | standard | -2.113116 |\n",
       "\n"
      ],
      "text/plain": [
       "  .metric .estimator .estimate\n",
       "1 mpe     standard   -2.113116"
      ]
     },
     "metadata": {},
     "output_type": "display_data"
    }
   ],
   "source": [
    "df <- data.frame(truth=pmsm_data.test$pm, estimate=y.predict)\n",
    "mpe(df, truth, estimate)"
   ]
  },
  {
   "cell_type": "markdown",
   "id": "6bd9d654-a75a-4a84-b7fb-5950976a5a27",
   "metadata": {},
   "source": [
    "<div style=\"text-align: justify\">El MPE es $-2.113116$, lo que significa que el modelo es capaz de predecir la temperatura del imán en el rotor con un error promedio de aproximadamente $2\\%$.</div>"
   ]
  },
  {
   "cell_type": "markdown",
   "id": "5e8c84f3-27c3-4d56-b449-0bdd442bda87",
   "metadata": {},
   "source": [
    "<br></br>"
   ]
  },
  {
   "cell_type": "markdown",
   "id": "e94654f7-1d93-4363-84fc-95013cf74b8b",
   "metadata": {},
   "source": [
    "### **Análisis de residuos**"
   ]
  },
  {
   "cell_type": "code",
   "execution_count": 225,
   "id": "90751ce8-ad09-4893-945f-9ce31176707e",
   "metadata": {},
   "outputs": [
    {
     "data": {
      "image/png": "[encoded data removed]",
      "text/plain": [
       "plot without title"
      ]
     },
     "metadata": {
      "image/png": {
       "height": 480,
       "width": 840
      }
     },
     "output_type": "display_data"
    }
   ],
   "source": [
    "# Gráficos\n",
    "options(repr.plot.width=14, repr.plot.height=8)\n",
    "res_vs_fit <- ggplot(model) + \n",
    "    geom_point(aes(x=model$fitted, y=model$residuals), color= '#ff9696', size=2) +\n",
    "    geom_path(data = smoothed, aes(x = x, y = y), col=\"#a399ff\") +\n",
    "    geom_hline(linetype = 2, yintercept=0, alpha=0.2) +\n",
    "    ggtitle(\"Residuals vs Fitted\") +\n",
    "    xlab(\"Fitted\") +\n",
    "    ylab(\"Residuals\") +\n",
    "    theme_light() +\n",
    "    theme(text=element_text(size=20),\n",
    "     plot.title = element_text(size=24, hjust = 0.5))\n",
    "\n",
    "qq_plot <- ggplot(model) +\n",
    "    stat_qq(aes(sample = .stdresid), color= '#ff9696') +\n",
    "    geom_abline(col=\"#a399ff\") +\n",
    "    xlab(\"Theoretical Quantiles\") +\n",
    "    ylab(\"Standardized Residuals\") +\n",
    "    ggtitle(\"Normal Q-Q\") +\n",
    "    theme_light() +\n",
    "    theme(text=element_text(size=20),\n",
    "     plot.title = element_text(size=24, hjust = 0.5))\n",
    "\n",
    "plot_grid(res_vs_fit, qq_plot, ncol = 2)\n"
   ]
  },
  {
   "cell_type": "markdown",
   "id": "ad00bf80-c0d4-4657-979f-d4d11a8982d1",
   "metadata": {},
   "source": [
    "<div style=\"text-align: justify\">\n",
    "    <b>Análisis de residuos</b>\n",
    "    <ul>\n",
    "        <li>La gráfica de <i style=\"color: blue\">Residuos vs. Valores Ajustados</i> no presenta evidencias fuertes contra el supuesto de varianza constante.</li>\n",
    "        <li>Los valores en la gráfica de <i style=\"color: red\">Probabilidad Normal</i> presentan una forma de <b>S invertida</b>, lo cual sugiere que los datos provienen de una distribución que presenta mayor dispersión respecto de la distribución normal.</li>\n",
    "    </ul>\n",
    "</div>"
   ]
  },
  {
   "cell_type": "markdown",
   "id": "5d147281-6ebb-4483-9c86-bc3d8b5f1979",
   "metadata": {},
   "source": [
    "***\n",
    "<br></br>"
   ]
  },
  {
   "cell_type": "markdown",
   "id": "118e8bbe-0bb5-4e4a-9f1a-c97e488a223b",
   "metadata": {},
   "source": [
    "<br></br>"
   ]
  },
  {
   "cell_type": "markdown",
   "id": "1772c7e9-7087-4175-b20f-c5669710d12a",
   "metadata": {},
   "source": [
    "## **Modelos adicionales**"
   ]
  },
  {
   "cell_type": "markdown",
   "id": "566500bc-bfad-42e8-be3d-3e9766cdea9b",
   "metadata": {},
   "source": [
    "<div style=\"text-align: justify\">Otra pregunta interesante es si es posible predecir la velocidad del motor a partir de otros parámetros de funcionamiento. En esta sección se plantean diversos modelos de regresión y se evaluan los cambios en el desempeño cuando se agregan nuevas variables y términos de interacción.</div>"
   ]
  },
  {
   "cell_type": "markdown",
   "id": "e2c11f5c-9743-47ad-b432-e061d5d07fc9",
   "metadata": {},
   "source": [
    "<br></br>"
   ]
  },
  {
   "cell_type": "markdown",
   "id": "8023210c-44a2-4808-a87c-8593166639df",
   "metadata": {},
   "source": [
    "#### <div style=\"text-align: justify\"><strong>a. Una variable regresora</strong></div>"
   ]
  },
  {
   "cell_type": "markdown",
   "id": "43f00541-04e9-41a8-b1de-47f60332d460",
   "metadata": {},
   "source": [
    "<div style=\"text-align: justify\">En primer lugar, se propone un modelo simple con el <b>valor absoluto de la tensión en cuadratura (u_q)</b> como única variable regresora:</div>"
   ]
  },
  {
   "cell_type": "markdown",
   "id": "7b4fc09e-f3f6-4efb-96b4-48b9c37c0f66",
   "metadata": {},
   "source": [
    "<div style=\"text-align: justify; font-size: larger\">$$y = \\beta_0 + \\beta_1u_q$$</div>"
   ]
  },
  {
   "cell_type": "code",
   "execution_count": 117,
   "id": "cca7146d-758d-42f4-85d4-0ca07f5c0e7d",
   "metadata": {
    "tags": []
   },
   "outputs": [
    {
     "data": {
      "text/plain": [
       "\n",
       "Call:\n",
       "lm(formula = motor_speed ~ u_q, data = pmsm_data.train)\n",
       "\n",
       "Residuals:\n",
       "    Min      1Q  Median      3Q     Max \n",
       "-1674.1  -825.8  -624.7   578.0  4943.0 \n",
       "\n",
       "Coefficients:\n",
       "            Estimate Std. Error t value Pr(>|t|)    \n",
       "(Intercept) 644.0491     7.0417   91.46   <2e-16 ***\n",
       "u_q          28.7990     0.1009  285.35   <2e-16 ***\n",
       "---\n",
       "Signif. codes:  0 '***' 0.001 '**' 0.01 '*' 0.05 '.' 0.1 ' ' 1\n",
       "\n",
       "Residual standard error: 1360 on 93155 degrees of freedom\n",
       "Multiple R-squared:  0.4664,\tAdjusted R-squared:  0.4664 \n",
       "F-statistic: 8.142e+04 on 1 and 93155 DF,  p-value: < 2.2e-16\n"
      ]
     },
     "metadata": {},
     "output_type": "display_data"
    }
   ],
   "source": [
    "model_speed.1 <- lm(motor_speed ~ u_q, pmsm_data.train)\n",
    "summary(model_speed.1)"
   ]
  },
  {
   "cell_type": "markdown",
   "id": "efda48ea-8df6-4b14-ba43-d12474a6076a",
   "metadata": {},
   "source": [
    "<div style=\"text-align: justify\">El $R^2$ obtenido es de $0.4664$, lo cual indica que el ajuste de este modelo no es bueno.</div>"
   ]
  },
  {
   "cell_type": "markdown",
   "id": "a3b454cd-3625-4c73-a4ec-c16f102f8fea",
   "metadata": {},
   "source": [
    "<br></br>"
   ]
  },
  {
   "cell_type": "markdown",
   "id": "5742dffb-7800-4911-a89e-dbc741c960bd",
   "metadata": {},
   "source": [
    "#### <div style=\"text-align: justify\"><strong>b. Dos variables regresoras</strong></div>"
   ]
  },
  {
   "cell_type": "markdown",
   "id": "85fa3716-523f-474d-93f0-1511858c0a75",
   "metadata": {},
   "source": [
    "<div style=\"text-align: justify\">El siguiente modelo agrega el <b>valor absoluto de la tensión directa (u_d)</b>:</div>"
   ]
  },
  {
   "cell_type": "markdown",
   "id": "c03de1bb-dd0c-489c-ba4d-409b8b66ed74",
   "metadata": {},
   "source": [
    "<div style=\"text-align: justify; font-size: larger\">$$y = \\beta_0 + \\beta_1 u_q + \\beta_{2} u_d$$</div>"
   ]
  },
  {
   "cell_type": "code",
   "execution_count": 119,
   "id": "0f430588-f9aa-4735-85e1-4f4c4e4806ea",
   "metadata": {},
   "outputs": [
    {
     "data": {
      "text/plain": [
       "\n",
       "Call:\n",
       "lm(formula = motor_speed ~ u_q + u_d, data = pmsm_data.train)\n",
       "\n",
       "Residuals:\n",
       "    Min      1Q  Median      3Q     Max \n",
       "-1803.8  -800.5  -431.1   729.9  5594.6 \n",
       "\n",
       "Coefficients:\n",
       "             Estimate Std. Error t value Pr(>|t|)    \n",
       "(Intercept) 428.81979    6.66904    64.3   <2e-16 ***\n",
       "u_q          28.86907    0.09267   311.5   <2e-16 ***\n",
       "u_d          -8.51431    0.06466  -131.7   <2e-16 ***\n",
       "---\n",
       "Signif. codes:  0 '***' 0.001 '**' 0.01 '*' 0.05 '.' 0.1 ' ' 1\n",
       "\n",
       "Residual standard error: 1249 on 93154 degrees of freedom\n",
       "Multiple R-squared:  0.5501,\tAdjusted R-squared:  0.5501 \n",
       "F-statistic: 5.696e+04 on 2 and 93154 DF,  p-value: < 2.2e-16\n"
      ]
     },
     "metadata": {},
     "output_type": "display_data"
    }
   ],
   "source": [
    "model_speed.2 <- lm(motor_speed ~ u_q + u_d, pmsm_data.train)\n",
    "summary(model_speed.2)"
   ]
  },
  {
   "cell_type": "markdown",
   "id": "b1d17fc7-db42-41aa-acca-481b81228cdf",
   "metadata": {},
   "source": [
    "<div style=\"text-align: justify\">El nuevo término consiguió un incremento en el $R^2$ $\\left(0.5501 \\text{ vs } 0.4664\\right)$. Si bien el valor sigue siendo bajo, la mejora en el ajuste no es despreciable.</div>"
   ]
  },
  {
   "cell_type": "markdown",
   "id": "0b14d33d-4d67-4b10-9ddf-29ccf8d85b9f",
   "metadata": {},
   "source": [
    "#### <div style=\"text-align: justify\"><strong>Suma adicional de cuadrados</strong></div>\n"
   ]
  },
  {
   "cell_type": "markdown",
   "id": "8f2dd21e-b6f9-4d73-88f7-172da97f8018",
   "metadata": {},
   "source": [
    "<div style=\"text-align: justify\">Para determinar si el término agregado tiene un aporte significativo al modelo, se puede probar la hipótesis $H_0: \\beta_{11} = 0$. De esta forma se contrasta el modelo completo $\\left(MC\\right)$ con un modelo reducido que no contiene el término cuadrático $\\left(MR\\right)$. El estadístico utilizado es:</div>"
   ]
  },
  {
   "cell_type": "markdown",
   "id": "7d4430cf-3d61-4aee-a3c2-b42995fc02b6",
   "metadata": {
    "tags": []
   },
   "source": [
    "#### <div style=\"text-align: center\">$$F_0 = \\frac{\\left(SSE_{MR} - SSE_{MC}\\right) / \\left(k - r\\right)}{SSE_{MC} / \\left(n - p\\right)}$$</div>"
   ]
  },
  {
   "cell_type": "markdown",
   "id": "f7f0da48-1884-494a-874b-f1cbc87de1e3",
   "metadata": {},
   "source": [
    "<div style=\"text-align: justify\"><strong>donde</strong>:\n",
    "    <ul>\n",
    "        <li>$SSE_{MR}$: suma cuadrática de residuos del modelo reducido,</li>\n",
    "        <li>$SSE_{MC}$: suma cuadrática de residuos del modelo completo,</li>\n",
    "        <li>$n$: número de observaciones,</li>\n",
    "        <li>$p$: cantidad de parámetros en el modelo completo,</li>\n",
    "        <li>$k$: cantidad de regresores en el modelo completo,</li>\n",
    "        <li>$r$: cantidad de regresores en el modelo reducido.</li>\n",
    "    </ul>\n",
    "</div>"
   ]
  },
  {
   "cell_type": "markdown",
   "id": "56c8c4c0-6d3e-41a7-bf6e-3690758e73dd",
   "metadata": {
    "tags": []
   },
   "source": [
    "<div style=\"text-align: justify\"><strong>Modelo completo:</strong> <div style=\"font-size: larger\">$$y = \\beta_0 + \\beta_1 u_q + \\beta_{2} u_d$$</div></div>"
   ]
  },
  {
   "cell_type": "code",
   "execution_count": null,
   "id": "404c8e70-9c89-47dc-b396-8656d5a3aa5b",
   "metadata": {
    "tags": []
   },
   "outputs": [
    {
     "data": {
      "text/markdown": [
       "$SSE_{MC} =$ 145357082853.19"
      ]
     },
     "metadata": {},
     "output_type": "display_data"
    }
   ],
   "source": [
    "sse_full <- sum((predict(model_speed.2) - pmsm_data.train$motor_speed)^2)\n",
    "display_markdown(paste('$SSE_{MC} =$', round(sse_full, 4)))\n"
   ]
  },
  {
   "cell_type": "markdown",
   "id": "49625eb7-bade-4ec1-a258-a7801f672360",
   "metadata": {
    "tags": []
   },
   "source": [
    "<div style=\"text-align: justify\"><strong>Modelo reducido:</strong> <div style=\"font-size: larger\">$$y = \\beta_0 + \\beta_1 u_q$$</div></div>"
   ]
  },
  {
   "cell_type": "code",
   "execution_count": 129,
   "id": "1e53a174-a537-4e3a-bb51-b763a6e7f4c3",
   "metadata": {
    "tags": []
   },
   "outputs": [
    {
     "data": {
      "text/markdown": [
       "$SSE_{MR} =$ 172415366857.716"
      ]
     },
     "metadata": {},
     "output_type": "display_data"
    }
   ],
   "source": [
    "sse_reduced <- sum((predict(model_speed.1) - pmsm_data.train$motor_speed)^2)\n",
    "display_markdown(paste('$SSE_{MR} =$', round(sse_reduced, 4)))"
   ]
  },
  {
   "cell_type": "code",
   "execution_count": 130,
   "id": "983216a1-f2fa-4b64-8331-4559af3a6876",
   "metadata": {},
   "outputs": [
    {
     "data": {
      "text/markdown": [
       "$F_0 =$ 17340.6575"
      ]
     },
     "metadata": {},
     "output_type": "display_data"
    }
   ],
   "source": [
    "# Cálculo de F0\n",
    "k <- 2; r <- 1; n <- nrow(pmsm_data.train); p <- 3\n",
    "f0 <- ((sse_reduced - sse_full) / (k - r)) / (sse_full / (n - p))\n",
    "display_markdown(paste('$F_0 =$', round(f0, 4)))"
   ]
  },
  {
   "cell_type": "code",
   "execution_count": 131,
   "id": "fc3c495e-650c-4b8d-a4c6-620842a95558",
   "metadata": {
    "tags": []
   },
   "outputs": [
    {
     "data": {
      "text/markdown": [
       "$\\text{p-valor} =$ 0"
      ]
     },
     "metadata": {},
     "output_type": "display_data"
    }
   ],
   "source": [
    "# Cálculo del p-valor\n",
    "alpha <- 0.05\n",
    "p_value <- 1 - pf(f0, df1=k-r, df2=n-p) \n",
    "display_markdown(paste('$\\\\text{p-valor} =$', round(p_value, 4)))"
   ]
  },
  {
   "cell_type": "markdown",
   "id": "e68e43f5-5626-4207-984f-39c4e990d161",
   "metadata": {},
   "source": [
    "<div style=\"text-align: justify\">El p-valor de la prueba es $0 < 0.01$. Por lo tanto se rechaza la hipótesis nula y se concluye que la adición del término $u_d$ tiene un aporte significativo al modelo.</div>"
   ]
  },
  {
   "cell_type": "markdown",
   "id": "717f3cd2-20be-426f-bf75-62af02bc5d07",
   "metadata": {},
   "source": [
    "#### <div style=\"text-align: justify\"><strong>Intervalos de confianza para los coeficientes</strong></div>\n"
   ]
  },
  {
   "cell_type": "code",
   "execution_count": 240,
   "id": "b510ff28-8322-4824-9b7c-68609f5c27c4",
   "metadata": {
    "tags": []
   },
   "outputs": [
    {
     "data": {
      "text/html": [
       "<table class=\"dataframe\">\n",
       "<caption>A matrix: 2 × 2 of type dbl</caption>\n",
       "<thead>\n",
       "\t<tr><th></th><th scope=col>0.5 %</th><th scope=col>99.5 %</th></tr>\n",
       "</thead>\n",
       "<tbody>\n",
       "\t<tr><th scope=row>u_q</th><td> 23.26400</td><td> 23.44771</td></tr>\n",
       "\t<tr><th scope=row>u_d</th><td>-83.61004</td><td>-81.89983</td></tr>\n",
       "</tbody>\n",
       "</table>\n"
      ],
      "text/latex": [
       "A matrix: 2 × 2 of type dbl\n",
       "\\begin{tabular}{r|ll}\n",
       "  & 0.5 \\% & 99.5 \\%\\\\\n",
       "\\hline\n",
       "\tu\\_q &  23.26400 &  23.44771\\\\\n",
       "\tu\\_d & -83.61004 & -81.89983\\\\\n",
       "\\end{tabular}\n"
      ],
      "text/markdown": [
       "\n",
       "A matrix: 2 × 2 of type dbl\n",
       "\n",
       "| <!--/--> | 0.5 % | 99.5 % |\n",
       "|---|---|---|\n",
       "| u_q |  23.26400 |  23.44771 |\n",
       "| u_d | -83.61004 | -81.89983 |\n",
       "\n"
      ],
      "text/plain": [
       "    0.5 %     99.5 %   \n",
       "u_q  23.26400  23.44771\n",
       "u_d -83.61004 -81.89983"
      ]
     },
     "metadata": {},
     "output_type": "display_data"
    }
   ],
   "source": [
    "conf_int <- confint(model_speed.2, c('u_q', 'u_d'), level = 0.99)\n",
    "conf_int"
   ]
  },
  {
   "cell_type": "code",
   "execution_count": 241,
   "id": "bcd83e3c-b4c2-47c9-bbee-d57a8da213b2",
   "metadata": {
    "tags": []
   },
   "outputs": [],
   "source": [
    "colnames(conf_int) <- c('lwr', 'upr')\n",
    "conf_int <- data.frame(conf_int, avg=apply(conf_int, 1, mean))\n",
    "coef <- c('β1', 'β2')"
   ]
  },
  {
   "cell_type": "code",
   "execution_count": 242,
   "id": "e2707c04-36a1-4778-bc8b-dbf401f16291",
   "metadata": {
    "tags": []
   },
   "outputs": [
    {
     "data": {
      "image/png": "[encoded data removed]",
      "text/plain": [
       "plot without title"
      ]
     },
     "metadata": {
      "image/png": {
       "height": 360,
       "width": 840
      }
     },
     "output_type": "display_data"
    }
   ],
   "source": [
    "# Gráfico de los intervalos de confianza\n",
    "options(repr.plot.width=14, repr.plot.height=6)\n",
    "ggplot(conf_int, aes(coef, avg, colour=coef)) + \n",
    "    ggtitle(\"Intervalos de confianza de 99% para los coeficientes de regresión\") +\n",
    "    geom_errorbar(aes(ymin=lwr, ymax=upr), width = 0.2) +\n",
    "    labs(x='Coeficientes regresión (β)', y='Intervalo de confianza', color='Coeficientes') +\n",
    "    geom_hline(yintercept=0, linetype=\"dashed\", col=\"black\") +\n",
    "    #scale_y_continuous(breaks=round(seq(min(conf_int) - 1, max(conf_int) + 1), 0)) +\n",
    "    theme_light() +\n",
    "    theme(text=element_text(size=20),\n",
    "     plot.title = element_text(size=24, hjust = 0.5))"
   ]
  },
  {
   "cell_type": "markdown",
   "id": "6832ed3f-99a3-4136-9c3c-995e46290d8e",
   "metadata": {},
   "source": [
    "<div style=\"text-align: justify\">Ninguno de los intervalos incluye al cero, y por lo tanto se rechazan las hipótesis $H_{0_1}: \\beta_1 = 0$ y $H_{0_2}: \\beta_2 = 0$.</div>"
   ]
  },
  {
   "cell_type": "markdown",
   "id": "7f598380-edcd-443f-8ed4-0aa5e1c50efd",
   "metadata": {},
   "source": [
    "<br></br>"
   ]
  },
  {
   "cell_type": "markdown",
   "id": "a8cc8090-d227-490c-8f31-95d0a038b30b",
   "metadata": {},
   "source": [
    "#### <div style=\"text-align: justify\"><strong>c. Seis variables regresoras</strong></div>"
   ]
  },
  {
   "cell_type": "markdown",
   "id": "0fe02b82-e38a-4288-a3e0-764d8879eeb1",
   "metadata": {},
   "source": [
    "<div style=\"text-align: justify\">Por último, se propone un modelo que incluye las tensiones y corrientes, tanto directas como en cuadratura, y además incorpora los términos de interacción:</div>"
   ]
  },
  {
   "cell_type": "markdown",
   "id": "80406e1e-60f3-492b-9832-c34692ba584b",
   "metadata": {},
   "source": [
    "<div style=\"text-align: justify; font-size: larger\">$$y = \\beta_0 + \\beta_1 u_q + \\beta_2 u_d + \\beta_3 i_q + \\beta_4 i_d + \\beta_{13} u_q i_q + \\beta_{24} u_d i_d$$</div>"
   ]
  },
  {
   "cell_type": "code",
   "execution_count": 190,
   "id": "b556149f-7737-4c47-9ca5-32d7f2224e92",
   "metadata": {},
   "outputs": [
    {
     "data": {
      "text/plain": [
       "\n",
       "Call:\n",
       "lm(formula = motor_speed ~ u_q * i_q + u_d * i_d, data = pmsm_data.train)\n",
       "\n",
       "Residuals:\n",
       "    Min      1Q  Median      3Q     Max \n",
       "-2904.0  -229.7     9.2   232.1  3255.3 \n",
       "\n",
       "Coefficients:\n",
       "              Estimate Std. Error t value Pr(>|t|)    \n",
       "(Intercept) -1.482e+02  2.678e+00  -55.34   <2e-16 ***\n",
       "u_q          2.336e+01  3.566e-02  654.96   <2e-16 ***\n",
       "i_q         -1.657e+00  3.032e-02  -54.65   <2e-16 ***\n",
       "u_d         -8.275e+01  3.320e-01 -249.29   <2e-16 ***\n",
       "i_d         -1.694e+01  2.818e-02 -601.27   <2e-16 ***\n",
       "u_q:i_q     -5.720e-01  2.376e-03 -240.68   <2e-16 ***\n",
       "u_d:i_d     -3.444e-01  1.568e-03 -219.65   <2e-16 ***\n",
       "---\n",
       "Signif. codes:  0 '***' 0.001 '**' 0.01 '*' 0.05 '.' 0.1 ' ' 1\n",
       "\n",
       "Residual standard error: 420.7 on 93150 degrees of freedom\n",
       "Multiple R-squared:  0.949,\tAdjusted R-squared:  0.949 \n",
       "F-statistic: 2.887e+05 on 6 and 93150 DF,  p-value: < 2.2e-16\n"
      ]
     },
     "metadata": {},
     "output_type": "display_data"
    }
   ],
   "source": [
    "model_speed.3 <- lm(motor_speed ~ u_q * i_q + u_d * i_d, pmsm_data.train)\n",
    "summary(model_speed.3)"
   ]
  },
  {
   "cell_type": "markdown",
   "id": "7af52a4f-1fa7-4976-a01e-2dd55c4e931f",
   "metadata": {},
   "source": [
    "<div style=\"text-align: justify\">El $R^2$ de este modelo es $0.949$, lo cual indica que el ajute del modelo es particularmente bueno.</div>"
   ]
  },
  {
   "cell_type": "code",
   "execution_count": 234,
   "id": "4461269d-59a5-4428-a08d-6353c0099183",
   "metadata": {
    "tags": []
   },
   "outputs": [],
   "source": [
    "conf_int <- confint(model_speed.3, c('u_q', 'u_d', 'i_q', 'i_d', 'u_q:i_q', 'u_d:i_d'), level = 0.99)"
   ]
  },
  {
   "cell_type": "code",
   "execution_count": 235,
   "id": "fc5b17d9-aed3-49d7-a5ae-1d5c13c3cdbd",
   "metadata": {
    "tags": []
   },
   "outputs": [
    {
     "data": {
      "text/html": [
       "<table class=\"dataframe\">\n",
       "<caption>A data.frame: 6 × 4</caption>\n",
       "<thead>\n",
       "\t<tr><th></th><th scope=col>lwr</th><th scope=col>avg</th><th scope=col>upr</th><th scope=col>contiene_al_cero</th></tr>\n",
       "\t<tr><th></th><th scope=col>&lt;dbl&gt;</th><th scope=col>&lt;dbl&gt;</th><th scope=col>&lt;dbl&gt;</th><th scope=col>&lt;chr&gt;</th></tr>\n",
       "</thead>\n",
       "<tbody>\n",
       "\t<tr><th scope=row>ß1</th><td> 23.2639979</td><td> 23.3558542</td><td> 23.4477106</td><td>NO</td></tr>\n",
       "\t<tr><th scope=row>ß2</th><td>-83.6100361</td><td>-82.7549306</td><td>-81.8998251</td><td>NO</td></tr>\n",
       "\t<tr><th scope=row>ß3</th><td> -1.7353602</td><td> -1.6572503</td><td> -1.5791404</td><td>NO</td></tr>\n",
       "\t<tr><th scope=row>ß4</th><td>-17.0139869</td><td>-16.9414087</td><td>-16.8688305</td><td>NO</td></tr>\n",
       "\t<tr><th scope=row>ß13</th><td> -0.5780763</td><td> -0.5719548</td><td> -0.5658333</td><td>NO</td></tr>\n",
       "\t<tr><th scope=row>ß24</th><td> -0.3483970</td><td> -0.3443587</td><td> -0.3403203</td><td>NO</td></tr>\n",
       "</tbody>\n",
       "</table>\n"
      ],
      "text/latex": [
       "A data.frame: 6 × 4\n",
       "\\begin{tabular}{r|llll}\n",
       "  & lwr & avg & upr & contiene\\_al\\_cero\\\\\n",
       "  & <dbl> & <dbl> & <dbl> & <chr>\\\\\n",
       "\\hline\n",
       "\tß1 &  23.2639979 &  23.3558542 &  23.4477106 & NO\\\\\n",
       "\tß2 & -83.6100361 & -82.7549306 & -81.8998251 & NO\\\\\n",
       "\tß3 &  -1.7353602 &  -1.6572503 &  -1.5791404 & NO\\\\\n",
       "\tß4 & -17.0139869 & -16.9414087 & -16.8688305 & NO\\\\\n",
       "\tß13 &  -0.5780763 &  -0.5719548 &  -0.5658333 & NO\\\\\n",
       "\tß24 &  -0.3483970 &  -0.3443587 &  -0.3403203 & NO\\\\\n",
       "\\end{tabular}\n"
      ],
      "text/markdown": [
       "\n",
       "A data.frame: 6 × 4\n",
       "\n",
       "| <!--/--> | lwr &lt;dbl&gt; | avg &lt;dbl&gt; | upr &lt;dbl&gt; | contiene_al_cero &lt;chr&gt; |\n",
       "|---|---|---|---|---|\n",
       "| ß1 |  23.2639979 |  23.3558542 |  23.4477106 | NO |\n",
       "| ß2 | -83.6100361 | -82.7549306 | -81.8998251 | NO |\n",
       "| ß3 |  -1.7353602 |  -1.6572503 |  -1.5791404 | NO |\n",
       "| ß4 | -17.0139869 | -16.9414087 | -16.8688305 | NO |\n",
       "| ß13 |  -0.5780763 |  -0.5719548 |  -0.5658333 | NO |\n",
       "| ß24 |  -0.3483970 |  -0.3443587 |  -0.3403203 | NO |\n",
       "\n"
      ],
      "text/plain": [
       "    lwr         avg         upr         contiene_al_cero\n",
       "ß1   23.2639979  23.3558542  23.4477106 NO              \n",
       "ß2  -83.6100361 -82.7549306 -81.8998251 NO              \n",
       "ß3   -1.7353602  -1.6572503  -1.5791404 NO              \n",
       "ß4  -17.0139869 -16.9414087 -16.8688305 NO              \n",
       "ß13  -0.5780763  -0.5719548  -0.5658333 NO              \n",
       "ß24  -0.3483970  -0.3443587  -0.3403203 NO              "
      ]
     },
     "metadata": {},
     "output_type": "display_data"
    }
   ],
   "source": [
    "colnames(conf_int) <- c('lwr', 'upr')\n",
    "conf_int <- data.frame(conf_int, avg=apply(conf_int, 1, mean), contiene_al_cero=ifelse(conf_int[,'lwr'] * conf_int[,'upr'] < 0, 'SI', 'NO'))\n",
    "rownames(conf_int) <- c('β1', 'β2', 'β3', 'β4', 'β13', 'β24')\n",
    "conf_int[c(1,3,2,4)]"
   ]
  },
  {
   "cell_type": "code",
   "execution_count": 236,
   "id": "a05ca485-69f3-4efa-a0e0-9b35a2735cb1",
   "metadata": {
    "tags": []
   },
   "outputs": [],
   "source": [
    "coef <- c('β1', 'β2', 'β3', 'β4', 'β13', 'β24')"
   ]
  },
  {
   "cell_type": "code",
   "execution_count": 238,
   "id": "c4005830-13e1-4757-b2d4-36c122ca215d",
   "metadata": {
    "tags": []
   },
   "outputs": [
    {
     "data": {
      "image/png": "[encoded data removed]",
      "text/plain": [
       "plot without title"
      ]
     },
     "metadata": {
      "image/png": {
       "height": 360,
       "width": 840
      }
     },
     "output_type": "display_data"
    }
   ],
   "source": [
    "# Gráfico de los intervalos de confianza\n",
    "options(repr.plot.width=14, repr.plot.height=6)\n",
    "ggplot(conf_int, aes(coef, avg, colour=coef)) + \n",
    "    ggtitle(\"Intervalos de confianza de 99% para los coeficientes de regresión\") +\n",
    "    geom_errorbar(aes(ymin=lwr, ymax=upr), width = 0.2) +\n",
    "    labs(x='Coeficientes regresión (β)', y='Intervalo de confianza', color='Coeficientes') +\n",
    "    geom_hline(yintercept=0, linetype=\"dashed\", col=\"black\") +\n",
    "    #scale_y_continuous(breaks=round(seq(min(conf_int) - 1, max(conf_int) + 1), 0)) +\n",
    "    theme_light() +\n",
    "    theme(text=element_text(size=20),\n",
    "     plot.title = element_text(size=24, hjust = 0.5))"
   ]
  },
  {
   "cell_type": "markdown",
   "id": "48a58362-4d50-4b36-a7fd-38cde7b687eb",
   "metadata": {},
   "source": [
    "<div style=\"text-align: justify\">Nuevamente, ninguno de los intervalos contiene al cero.</div>"
   ]
  },
  {
   "cell_type": "markdown",
   "id": "b47e93f6-590c-4a94-9ba6-54450360953e",
   "metadata": {},
   "source": [
    "<div style=\"text-align: justify\"><strong>Residuos</strong></div>"
   ]
  },
  {
   "cell_type": "code",
   "execution_count": 244,
   "id": "03a80c94-9022-4c27-959b-c857399d5c1c",
   "metadata": {},
   "outputs": [
    {
     "data": {
      "image/png": "[encoded data removed]",
      "text/plain": [
       "plot without title"
      ]
     },
     "metadata": {
      "image/png": {
       "height": 480,
       "width": 840
      }
     },
     "output_type": "display_data"
    }
   ],
   "source": [
    "# Gráficos\n",
    "options(repr.plot.width=14, repr.plot.height=8)\n",
    "res_vs_fit <- ggplot(model_speed.3) + \n",
    "    geom_point(aes(x=model$fitted, y=model$residuals), color= '#ff9696', size=2) +\n",
    "    geom_path(data = smoothed, aes(x = x, y = y), col=\"#a399ff\") +\n",
    "    geom_hline(linetype = 2, yintercept=0, alpha=0.2) +\n",
    "    ggtitle(\"Residuals vs Fitted\") +\n",
    "    xlab(\"Fitted\") +\n",
    "    ylab(\"Residuals\") +\n",
    "    theme_light() +\n",
    "    theme(text=element_text(size=20),\n",
    "     plot.title = element_text(size=24, hjust = 0.5))\n",
    "\n",
    "qq_plot <- ggplot(model_speed.3) +\n",
    "    stat_qq(aes(sample = .stdresid), color= '#ff9696') +\n",
    "    geom_abline(col=\"#a399ff\") +\n",
    "    xlab(\"Theoretical Quantiles\") +\n",
    "    ylab(\"Standardized Residuals\") +\n",
    "    ggtitle(\"Normal Q-Q\") +\n",
    "    theme_light() +\n",
    "    theme(text=element_text(size=20),\n",
    "     plot.title = element_text(size=24, hjust = 0.5))\n",
    "\n",
    "plot_grid(res_vs_fit, qq_plot, ncol = 2)\n"
   ]
  },
  {
   "cell_type": "markdown",
   "id": "a4e09c9d-33a5-45a9-83a9-a3a7667ece0e",
   "metadata": {},
   "source": [
    "<div style=\"text-align: justify\"><b>Análisis de residuos</b></div>\n",
    "<div style=\"text-align: justify\">Los resultados son similares a los del modelo de predicción de temperatura:\n",
    "    <ul>\n",
    "        <li>La gráfica de <i style=\"color: blue\">Residuos vs. Valores Ajustados</i> no presenta evidencias fuertes contra el supuesto de varianza constante.</li>\n",
    "        <li>Los valores en la gráfica de <i style=\"color: red\">Probabilidad Normal</i> presentan una forma de <b>S invertida</b>, lo cual sugiere que los datos provienen de una distribución que presenta mayor dispersión respecto de la distribución normal.</li>\n",
    "    </ul>\n",
    "</div>"
   ]
  },
  {
   "cell_type": "markdown",
   "id": "e41b135b-2564-4495-95ee-bea12a06ee97",
   "metadata": {},
   "source": [
    "***\n",
    "<br></br>"
   ]
  },
  {
   "cell_type": "markdown",
   "id": "179c7fda-f954-4dcc-988c-8b28f05f4ef7",
   "metadata": {},
   "source": [
    "<br></br>"
   ]
  },
  {
   "cell_type": "markdown",
   "id": "963e9ed8-3f53-45f9-912a-b233e7e194b9",
   "metadata": {},
   "source": [
    "## **Conclusiones**"
   ]
  },
  {
   "cell_type": "markdown",
   "id": "666247db-d94d-4925-b139-f4de8246daad",
   "metadata": {},
   "source": [
    "<div style=\"text-align: justify\">El monitoreo de los parámetros de funcionamiento de un motor es clave para detectar posibles fallos y defectos de maquinaria en las etapas incipientes y así evitar que estos se manifiesten, provocando situaciones de peligro y pérdidas económicas. Para ello es fundamental contar con un flujo constante de datos en tiempo real que permitan hacer diagnósticos con la mayor presición posible. Los modelos de regresión son una herramienta importante cuando se requiere estimar ciertos parámetros que resultan difíciles o costosos de medir en forma directa.</div>"
   ]
  },
  {
   "cell_type": "markdown",
   "id": "e273a849-64a5-4137-8538-5f2deb2704ab",
   "metadata": {},
   "source": [
    "<div style=\"text-align: justify\">El análisis y precesamiento de grandes cantidades de datos, como en este caso, implica nuevas dificultades, sobre todo al momento de realizar operaciones complejas o visualizaciones gráficas. Si bien es posible trabajar con un subconjunto de los datos de forma tal que se reduzcan los tiempos de cómputo, se debe garantizar la aleatoriedad del muestreo para que los nuevos datos sean repesentativos de los originales.</div>"
   ]
  },
  {
   "cell_type": "markdown",
   "id": "affb7938-1657-4327-ac1b-bc605db44137",
   "metadata": {},
   "source": [
    "<div style=\"text-align: justify\">Aunque los modelos de regresión lineal resultan últiles para representar diversos fenómenos, los supuestos que se deben cumplir para su validez restringen su campo de aplicación. En las secciones anteriores se puso en duda la normalidad de los datos estudiados, por lo que sería interesante explorar otros modelos predictivos que se ajusten mejor a la problemática planteada en este informe.</div>"
   ]
  },
  {
   "cell_type": "markdown",
   "id": "cf8f00c4-ad9f-4e7e-95cb-73c542298783",
   "metadata": {},
   "source": [
    "***\n",
    "<br></br>"
   ]
  }
 ],
 "metadata": {
  "kernelspec": {
   "display_name": "R",
   "language": "R",
   "name": "ir"
  },
  "language_info": {
   "codemirror_mode": "r",
   "file_extension": ".r",
   "mimetype": "text/x-r-source",
   "name": "R",
   "pygments_lexer": "r",
   "version": "4.1.3"
  }
 },
 "nbformat": 4,
 "nbformat_minor": 5
}
